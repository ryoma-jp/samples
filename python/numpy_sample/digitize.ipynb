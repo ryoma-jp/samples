{
 "cells": [
  {
   "cell_type": "markdown",
   "id": "fd6404e4",
   "metadata": {},
   "source": [
    "# numpy.digitize\n",
    "\n",
    "## モジュール仕様\n",
    "\n",
    "[numpy.digitize(x, bins, right=False)](https://numpy.org/doc/stable/reference/generated/numpy.digitize.html#numpy.digitize)\n",
    "\n",
    "## 概要\n",
    "\n",
    "入力配列xの各値をbinsで指定された範囲のbinに割り当てる．  \n",
    "bindsは昇順または降順で指定する仕様で，割り当てるbinの比較条件はrightで指定する．  \n",
    "比較条件は下記の通り．\n",
    "\n",
    "|right|順序|判定条件|\n",
    "|:--|:--|:--|\n",
    "|False|昇順|bins[i-1] <= x < bins[i]|\n",
    "|True|昇順|bins[i-1] < x <= bins[i]|\n",
    "|False|降順|bins[i-1] > x >= bins[i]|\n",
    "|True|降順|bins[i-1] >= x > bins[i]|"
   ]
  },
  {
   "cell_type": "markdown",
   "id": "548ba12e",
   "metadata": {},
   "source": [
    "## 動作確認"
   ]
  },
  {
   "cell_type": "code",
   "execution_count": 1,
   "id": "0419a525",
   "metadata": {},
   "outputs": [],
   "source": [
    "import numpy as np"
   ]
  },
  {
   "cell_type": "markdown",
   "id": "135af1f8",
   "metadata": {},
   "source": [
    "### right=False/昇順"
   ]
  },
  {
   "cell_type": "code",
   "execution_count": 2,
   "id": "ec85fc2a",
   "metadata": {},
   "outputs": [
    {
     "name": "stdout",
     "output_type": "stream",
     "text": [
      "[Index range]\n",
      "(id=0) < bins[0] <= (id=1) < bins[1] <= (id=2) < bins[2] <= (id=3) < bins[3] <= (id=4) < bins[4] <= (id=5)\n",
      "\n",
      "[Index]\n",
      "x[0]=-1.0 -> id=0\n",
      "x[1]=0.2 -> id=1\n",
      "x[2]=6.4 -> id=4\n",
      "x[3]=3.0 -> id=3\n",
      "x[4]=1.6 -> id=2\n",
      "x[5]=0.0 -> id=1\n",
      "x[6]=1.0 -> id=2\n",
      "x[7]=2.5 -> id=3\n",
      "x[8]=4.0 -> id=4\n",
      "x[9]=10.0 -> id=5\n",
      "x[10]=15.0 -> id=5\n",
      "\n",
      "[Range of each value]\n",
      "x[0]=-1.0 < 0.0\n",
      "0.0 <= x[1]=0.2 < 1.0\n",
      "4.0 <= x[2]=6.4 < 10.0\n",
      "2.5 <= x[3]=3.0 < 4.0\n",
      "1.0 <= x[4]=1.6 < 2.5\n",
      "0.0 <= x[5]=0.0 < 1.0\n",
      "1.0 <= x[6]=1.0 < 2.5\n",
      "2.5 <= x[7]=2.5 < 4.0\n",
      "4.0 <= x[8]=4.0 < 10.0\n",
      "10.0 <= x[9]=10.0\n",
      "10.0 <= x[10]=15.0\n"
     ]
    }
   ],
   "source": [
    "x = np.array([-1.0, 0.2, 6.4, 3.0, 1.6, 0.0, 1.0, 2.5, 4.0, 10.0, 15.0])\n",
    "bins = np.array([0.0, 1.0, 2.5, 4.0, 10.0])\n",
    "ids = np.digitize(x, bins, right=False)\n",
    "\n",
    "str = '(id=0) < '\n",
    "for i in range(bins.size-1):\n",
    "    str += 'bins[{}] <= (id={}) < '.format(i, i+1)\n",
    "i += 1\n",
    "str += 'bins[{}] <= (id={})'.format(i, i+1)\n",
    "print('[Index range]')\n",
    "print(str)\n",
    "print()\n",
    "\n",
    "print('[Index]')\n",
    "for i in range(x.size):\n",
    "    print('x[{}]={} -> id={}'.format(i, x[i], ids[i]))\n",
    "print()\n",
    "\n",
    "print('[Range of each value]')\n",
    "for i in range(x.size):\n",
    "    if (ids[i] < 1):\n",
    "        print('x[{}]={} < {}'.format(i, x[i], bins[0]))\n",
    "    elif (ids[i] >= bins.size):\n",
    "        print('{} <= x[{}]={}'.format(bins[-1], i, x[i]))\n",
    "    else:\n",
    "        print('{} <= x[{}]={} < {}'.format(bins[ids[i]-1], i, x[i], bins[ids[i]]))\n"
   ]
  },
  {
   "cell_type": "markdown",
   "id": "ec7daf49",
   "metadata": {},
   "source": [
    "## right=True/昇順"
   ]
  },
  {
   "cell_type": "code",
   "execution_count": 3,
   "id": "f97353f5",
   "metadata": {},
   "outputs": [
    {
     "name": "stdout",
     "output_type": "stream",
     "text": [
      "[Index range]\n",
      "(id=0) <= bins[0] < (id=1) <= bins[1] < (id=2) <= bins[2] < (id=3) <= bins[3] < (id=4) <= bins[4] < (id=5)\n",
      "\n",
      "[Index]\n",
      "x[0]=-1.0 -> id=0\n",
      "x[1]=0.2 -> id=1\n",
      "x[2]=6.4 -> id=4\n",
      "x[3]=3.0 -> id=3\n",
      "x[4]=1.6 -> id=2\n",
      "x[5]=0.0 -> id=0\n",
      "x[6]=1.0 -> id=1\n",
      "x[7]=2.5 -> id=2\n",
      "x[8]=4.0 -> id=3\n",
      "x[9]=10.0 -> id=4\n",
      "x[10]=15.0 -> id=5\n",
      "\n",
      "[Range of each value]\n",
      "x[0]=-1.0 <= 0.0\n",
      "0.0 < x[1]=0.2 <= 1.0\n",
      "4.0 < x[2]=6.4 <= 10.0\n",
      "2.5 < x[3]=3.0 <= 4.0\n",
      "1.0 < x[4]=1.6 <= 2.5\n",
      "x[5]=0.0 <= 0.0\n",
      "0.0 < x[6]=1.0 <= 1.0\n",
      "1.0 < x[7]=2.5 <= 2.5\n",
      "2.5 < x[8]=4.0 <= 4.0\n",
      "4.0 < x[9]=10.0 <= 10.0\n",
      "10.0 < x[10]=15.0\n"
     ]
    }
   ],
   "source": [
    "x = np.array([-1.0, 0.2, 6.4, 3.0, 1.6, 0.0, 1.0, 2.5, 4.0, 10.0, 15.0])\n",
    "bins = np.array([0.0, 1.0, 2.5, 4.0, 10.0])\n",
    "ids = np.digitize(x, bins, right=True)\n",
    "\n",
    "str = '(id=0) <= '\n",
    "for i in range(bins.size-1):\n",
    "    str += 'bins[{}] < (id={}) <= '.format(i, i+1)\n",
    "i += 1\n",
    "str += 'bins[{}] < (id={})'.format(i, i+1)\n",
    "print('[Index range]')\n",
    "print(str)\n",
    "print()\n",
    "\n",
    "print('[Index]')\n",
    "for i in range(x.size):\n",
    "    print('x[{}]={} -> id={}'.format(i, x[i], ids[i]))\n",
    "print()\n",
    "\n",
    "print('[Range of each value]')\n",
    "for i in range(x.size):\n",
    "    if (ids[i] < 1):\n",
    "        print('x[{}]={} <= {}'.format(i, x[i], bins[0]))\n",
    "    elif (ids[i] >= bins.size):\n",
    "        print('{} < x[{}]={}'.format(bins[-1], i, x[i]))\n",
    "    else:\n",
    "        print('{} < x[{}]={} <= {}'.format(bins[ids[i]-1], i, x[i], bins[ids[i]]))\n"
   ]
  },
  {
   "cell_type": "markdown",
   "id": "9a76eef0",
   "metadata": {},
   "source": [
    "## right=False/降順"
   ]
  },
  {
   "cell_type": "code",
   "execution_count": 4,
   "id": "140ad2bd",
   "metadata": {},
   "outputs": [
    {
     "name": "stdout",
     "output_type": "stream",
     "text": [
      "[Index range]\n",
      "(id=0) >= bins[0] > (id=1) >= bins[1] > (id=2) >= bins[2] > (id=3) >= bins[3] > (id=4) >= bins[4] > (id=5)\n",
      "\n",
      "[Index]\n",
      "x[0]=-1.0 -> id=5\n",
      "x[1]=0.2 -> id=4\n",
      "x[2]=6.4 -> id=1\n",
      "x[3]=3.0 -> id=2\n",
      "x[4]=1.6 -> id=3\n",
      "x[5]=0.0 -> id=4\n",
      "x[6]=1.0 -> id=3\n",
      "x[7]=2.5 -> id=2\n",
      "x[8]=4.0 -> id=1\n",
      "x[9]=10.0 -> id=0\n",
      "x[10]=15.0 -> id=0\n",
      "\n",
      "[Range of each value]\n",
      "0.0 > x[0]=-1.0\n",
      "1.0 > x[1]=0.2 >= 0.0\n",
      "10.0 > x[2]=6.4 >= 4.0\n",
      "4.0 > x[3]=3.0 >= 2.5\n",
      "2.5 > x[4]=1.6 >= 1.0\n",
      "1.0 > x[5]=0.0 >= 0.0\n",
      "2.5 > x[6]=1.0 >= 1.0\n",
      "4.0 > x[7]=2.5 >= 2.5\n",
      "10.0 > x[8]=4.0 >= 4.0\n",
      "x[9]=10.0 >= 10.0\n",
      "x[10]=15.0 >= 10.0\n"
     ]
    }
   ],
   "source": [
    "x = np.array([-1.0, 0.2, 6.4, 3.0, 1.6, 0.0, 1.0, 2.5, 4.0, 10.0, 15.0])\n",
    "bins = np.array([10.0, 4.0, 2.5, 1.0, 0.0])\n",
    "ids = np.digitize(x, bins, right=False)\n",
    "\n",
    "str = '(id=0) >= '\n",
    "for i in range(bins.size-1):\n",
    "    str += 'bins[{}] > (id={}) >= '.format(i, i+1)\n",
    "i += 1\n",
    "str += 'bins[{}] > (id={})'.format(i, i+1)\n",
    "print('[Index range]')\n",
    "print(str)\n",
    "print()\n",
    "\n",
    "print('[Index]')\n",
    "for i in range(x.size):\n",
    "    print('x[{}]={} -> id={}'.format(i, x[i], ids[i]))\n",
    "print()\n",
    "\n",
    "print('[Range of each value]')\n",
    "for i in range(x.size):\n",
    "    if (ids[i] < 1):\n",
    "        print('x[{}]={} >= {}'.format(i, x[i], bins[0]))\n",
    "    elif (ids[i] >= bins.size):\n",
    "        print('{} > x[{}]={}'.format(bins[-1], i, x[i]))\n",
    "    else:\n",
    "        print('{} > x[{}]={} >= {}'.format(bins[ids[i]-1], i, x[i], bins[ids[i]]))\n"
   ]
  },
  {
   "cell_type": "markdown",
   "id": "3a22cb45",
   "metadata": {},
   "source": [
    "## right=True/降順"
   ]
  },
  {
   "cell_type": "code",
   "execution_count": 5,
   "id": "4b78ca89",
   "metadata": {},
   "outputs": [
    {
     "name": "stdout",
     "output_type": "stream",
     "text": [
      "[Index range]\n",
      "(id=0) > bins[0] >= (id=1) > bins[1] >= (id=2) > bins[2] >= (id=3) > bins[3] >= (id=4) > bins[4] >= (id=5)\n",
      "\n",
      "[Index]\n",
      "x[0]=-1.0 -> id=5\n",
      "x[1]=0.2 -> id=4\n",
      "x[2]=6.4 -> id=1\n",
      "x[3]=3.0 -> id=2\n",
      "x[4]=1.6 -> id=3\n",
      "x[5]=0.0 -> id=5\n",
      "x[6]=1.0 -> id=4\n",
      "x[7]=2.5 -> id=3\n",
      "x[8]=4.0 -> id=2\n",
      "x[9]=10.0 -> id=1\n",
      "x[10]=15.0 -> id=0\n",
      "\n",
      "[Range of each value]\n",
      "0.0 >= x[0]=-1.0\n",
      "1.0 >= x[1]=0.2 > 0.0\n",
      "10.0 >= x[2]=6.4 > 4.0\n",
      "4.0 >= x[3]=3.0 > 2.5\n",
      "2.5 >= x[4]=1.6 > 1.0\n",
      "0.0 >= x[5]=0.0\n",
      "1.0 >= x[6]=1.0 > 0.0\n",
      "2.5 >= x[7]=2.5 > 1.0\n",
      "4.0 >= x[8]=4.0 > 2.5\n",
      "10.0 >= x[9]=10.0 > 4.0\n",
      "x[10]=15.0 > 10.0\n"
     ]
    }
   ],
   "source": [
    "x = np.array([-1.0, 0.2, 6.4, 3.0, 1.6, 0.0, 1.0, 2.5, 4.0, 10.0, 15.0])\n",
    "bins = np.array([10.0, 4.0, 2.5, 1.0, 0.0])\n",
    "ids = np.digitize(x, bins, right=True)\n",
    "\n",
    "str = '(id=0) > '\n",
    "for i in range(bins.size-1):\n",
    "    str += 'bins[{}] >= (id={}) > '.format(i, i+1)\n",
    "i += 1\n",
    "str += 'bins[{}] >= (id={})'.format(i, i+1)\n",
    "print('[Index range]')\n",
    "print(str)\n",
    "print()\n",
    "\n",
    "print('[Index]')\n",
    "for i in range(x.size):\n",
    "    print('x[{}]={} -> id={}'.format(i, x[i], ids[i]))\n",
    "print()\n",
    "\n",
    "print('[Range of each value]')\n",
    "for i in range(x.size):\n",
    "    if (ids[i] < 1):\n",
    "        print('x[{}]={} > {}'.format(i, x[i], bins[0]))\n",
    "    elif (ids[i] >= bins.size):\n",
    "        print('{} >= x[{}]={}'.format(bins[-1], i, x[i]))\n",
    "    else:\n",
    "        print('{} >= x[{}]={} > {}'.format(bins[ids[i]-1], i, x[i], bins[ids[i]]))\n"
   ]
  },
  {
   "cell_type": "markdown",
   "id": "87e75f00",
   "metadata": {},
   "source": [
    "## Reference\n",
    "\n",
    "* [numpy.digitize](https://numpy.org/doc/stable/reference/generated/numpy.digitize.html)"
   ]
  }
 ],
 "metadata": {
  "kernelspec": {
   "display_name": "Python 3",
   "language": "python",
   "name": "python3"
  },
  "language_info": {
   "codemirror_mode": {
    "name": "ipython",
    "version": 3
   },
   "file_extension": ".py",
   "mimetype": "text/x-python",
   "name": "python",
   "nbconvert_exporter": "python",
   "pygments_lexer": "ipython3",
   "version": "3.9.4"
  }
 },
 "nbformat": 4,
 "nbformat_minor": 5
}
