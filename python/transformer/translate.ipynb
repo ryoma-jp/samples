{
 "cells": [
  {
   "cell_type": "markdown",
   "metadata": {},
   "source": [
    "# Transformerによる翻訳処理のサンプル\n",
    "\n",
    "[言語理解のためのTransformerモデル](https://www.tensorflow.org/tutorials/text/transformer?hl=ja)を参考に，ポルトガル語を英語に翻訳するTransformerの動作確認を行う  \n",
    "上記は[Apache License 2.0](https://github.com/tensorflow/docs-l10n/blob/master/LICENSE)で配布されており，本ソフトウェアにはその改変物が含まれる"
   ]
  },
  {
   "cell_type": "code",
   "execution_count": 1,
   "metadata": {},
   "outputs": [],
   "source": [
    "import tensorflow_datasets as tfds\n",
    "import tensorflow as tf\n",
    "\n",
    "import time\n",
    "import numpy as np\n",
    "import matplotlib.pyplot as plt\n",
    "\n",
    "from lib.position_encoding import positional_encoding\n",
    "from lib.masking import create_padding_mask, create_look_ahead_mask\n",
    "from lib.attention import scaled_dot_product_attention, MultiHeadAttention\n",
    "from lib.model import point_wise_feed_forward_network, EncoderLayer, DecoderLayer, Encoder, Decoder, Transformer\n",
    "from lib.trainer import CustomSchedule, train_step, training\n",
    "from lib.evaluate import translate"
   ]
  },
  {
   "cell_type": "markdown",
   "metadata": {},
   "source": [
    "## 入力パイプラインの設定"
   ]
  },
  {
   "cell_type": "code",
   "execution_count": 2,
   "metadata": {},
   "outputs": [],
   "source": [
    "dataset_dir = 'dataset'"
   ]
  },
  {
   "cell_type": "code",
   "execution_count": 3,
   "metadata": {},
   "outputs": [
    {
     "name": "stdout",
     "output_type": "stream",
     "text": [
      "README.md    dataset\t\tdocker\ttranslate.ipynb\r\n",
      "checkpoints  description.ipynb\tlib\r\n"
     ]
    }
   ],
   "source": [
    "!mkdir -p $dataset_dir\n",
    "!ls"
   ]
  },
  {
   "cell_type": "code",
   "execution_count": 4,
   "metadata": {
    "scrolled": true
   },
   "outputs": [],
   "source": [
    "examples, metadata = tfds.load('ted_hrlr_translate/pt_to_en', with_info=True,\n",
    "                               as_supervised=True,\n",
    "                               data_dir=dataset_dir)\n",
    "train_examples, val_examples = examples['train'], examples['validation']"
   ]
  },
  {
   "cell_type": "code",
   "execution_count": 5,
   "metadata": {},
   "outputs": [],
   "source": [
    "tokenizer_en = tfds.deprecated.text.SubwordTextEncoder.build_from_corpus(\n",
    "    (en.numpy() for pt, en in train_examples), target_vocab_size=2**13)\n",
    "\n",
    "tokenizer_pt = tfds.deprecated.text.SubwordTextEncoder.build_from_corpus(\n",
    "    (pt.numpy() for pt, en in train_examples), target_vocab_size=2**13)"
   ]
  },
  {
   "cell_type": "code",
   "execution_count": 6,
   "metadata": {},
   "outputs": [
    {
     "name": "stdout",
     "output_type": "stream",
     "text": [
      "Tokenized string is [7915, 1248, 7946, 7194, 13, 2799, 7877]\n",
      "The original string: Transformer is awesome.\n"
     ]
    }
   ],
   "source": [
    "sample_string = 'Transformer is awesome.'\n",
    "\n",
    "tokenized_string = tokenizer_en.encode(sample_string)\n",
    "print ('Tokenized string is {}'.format(tokenized_string))\n",
    "\n",
    "original_string = tokenizer_en.decode(tokenized_string)\n",
    "print ('The original string: {}'.format(original_string))\n",
    "\n",
    "assert original_string == sample_string"
   ]
  },
  {
   "cell_type": "code",
   "execution_count": 7,
   "metadata": {
    "scrolled": true
   },
   "outputs": [
    {
     "name": "stdout",
     "output_type": "stream",
     "text": [
      "7915 ----> T\n",
      "1248 ----> ran\n",
      "7946 ----> s\n",
      "7194 ----> former \n",
      "13 ----> is \n",
      "2799 ----> awesome\n",
      "7877 ----> .\n"
     ]
    }
   ],
   "source": [
    "for ts in tokenized_string:\n",
    "  print ('{} ----> {}'.format(ts, tokenizer_en.decode([ts])))"
   ]
  },
  {
   "cell_type": "code",
   "execution_count": 8,
   "metadata": {},
   "outputs": [],
   "source": [
    "BUFFER_SIZE = 20000\n",
    "BATCH_SIZE = 64\n",
    "MAX_LENGTH = 40\n",
    "\n",
    "def encode(lang1, lang2):\n",
    "    lang1 = [tokenizer_pt.vocab_size] + tokenizer_pt.encode(\n",
    "        lang1.numpy()) + [tokenizer_pt.vocab_size+1]\n",
    "\n",
    "    lang2 = [tokenizer_en.vocab_size] + tokenizer_en.encode(\n",
    "        lang2.numpy()) + [tokenizer_en.vocab_size+1]\n",
    "\n",
    "    return lang1, lang2\n",
    "\n",
    "def tf_encode(pt, en):\n",
    "    result_pt, result_en = tf.py_function(encode, [pt, en], [tf.int64, tf.int64])\n",
    "    result_pt.set_shape([None])\n",
    "    result_en.set_shape([None])\n",
    "\n",
    "    return result_pt, result_en\n",
    "\n",
    "def filter_max_length(x, y, max_length=MAX_LENGTH):\n",
    "    return tf.logical_and(tf.size(x) <= max_length,\n",
    "                          tf.size(y) <= max_length)"
   ]
  },
  {
   "cell_type": "code",
   "execution_count": 9,
   "metadata": {},
   "outputs": [],
   "source": [
    "train_preprocessed = (\n",
    "    train_examples\n",
    "    .map(tf_encode) \n",
    "    .filter(filter_max_length)\n",
    "    # 読み取り時のスピードアップのため、データセットをメモリ上にキャッシュする\n",
    "    .cache()\n",
    "    .shuffle(BUFFER_SIZE))\n",
    "\n",
    "val_preprocessed = (\n",
    "    val_examples\n",
    "    .map(tf_encode)\n",
    "    .filter(filter_max_length))"
   ]
  },
  {
   "cell_type": "code",
   "execution_count": 10,
   "metadata": {
    "scrolled": true
   },
   "outputs": [
    {
     "data": {
      "text/plain": [
       "(<tf.Tensor: shape=(64, 38), dtype=int64, numpy=\n",
       " array([[8214,  342, 3032, ...,    0,    0,    0],\n",
       "        [8214,   95,  198, ...,    0,    0,    0],\n",
       "        [8214, 4479, 7990, ...,    0,    0,    0],\n",
       "        ...,\n",
       "        [8214,  584,   12, ...,    0,    0,    0],\n",
       "        [8214,   59, 1548, ...,    0,    0,    0],\n",
       "        [8214,  118,   34, ...,    0,    0,    0]])>,\n",
       " <tf.Tensor: shape=(64, 40), dtype=int64, numpy=\n",
       " array([[8087,   98,   25, ...,    0,    0,    0],\n",
       "        [8087,   12,   20, ...,    0,    0,    0],\n",
       "        [8087,   12, 5453, ...,    0,    0,    0],\n",
       "        ...,\n",
       "        [8087,   18, 2059, ...,    0,    0,    0],\n",
       "        [8087,   16, 1436, ...,    0,    0,    0],\n",
       "        [8087,   15,   57, ...,    0,    0,    0]])>)"
      ]
     },
     "execution_count": 10,
     "metadata": {},
     "output_type": "execute_result"
    }
   ],
   "source": [
    "train_dataset = (train_preprocessed\n",
    "                 .padded_batch(BATCH_SIZE)\n",
    "                 .prefetch(tf.data.experimental.AUTOTUNE))\n",
    "\n",
    "val_dataset = (val_preprocessed\n",
    "               .padded_batch(BATCH_SIZE))\n",
    "\n",
    "pt_batch, en_batch = next(iter(val_dataset))\n",
    "pt_batch, en_batch"
   ]
  },
  {
   "cell_type": "markdown",
   "metadata": {},
   "source": [
    "## 位置エンコーディング"
   ]
  },
  {
   "cell_type": "code",
   "execution_count": 11,
   "metadata": {
    "scrolled": true
   },
   "outputs": [
    {
     "name": "stdout",
     "output_type": "stream",
     "text": [
      "(1, 50, 512)\n"
     ]
    },
    {
     "data": {
      "image/png": "[encoded data removed]",
      "text/plain": [
       "<Figure size 432x288 with 2 Axes>"
      ]
     },
     "metadata": {
      "needs_background": "light"
     },
     "output_type": "display_data"
    }
   ],
   "source": [
    "pos_encoding = positional_encoding(50, 512)\n",
    "print (pos_encoding.shape)\n",
    "\n",
    "plt.pcolormesh(pos_encoding[0], cmap='RdBu')\n",
    "plt.xlabel('Depth')\n",
    "plt.xlim((0, 512))\n",
    "plt.ylabel('Position')\n",
    "plt.colorbar()\n",
    "plt.show()"
   ]
  },
  {
   "cell_type": "markdown",
   "metadata": {},
   "source": [
    "## マスキング"
   ]
  },
  {
   "cell_type": "code",
   "execution_count": 12,
   "metadata": {
    "scrolled": true
   },
   "outputs": [
    {
     "data": {
      "text/plain": [
       "<tf.Tensor: shape=(3, 1, 1, 5), dtype=float32, numpy=\n",
       "array([[[[0., 0., 1., 1., 0.]]],\n",
       "\n",
       "\n",
       "       [[[0., 0., 0., 1., 1.]]],\n",
       "\n",
       "\n",
       "       [[[1., 1., 1., 0., 0.]]]], dtype=float32)>"
      ]
     },
     "execution_count": 12,
     "metadata": {},
     "output_type": "execute_result"
    }
   ],
   "source": [
    "x = tf.constant([[7, 6, 0, 0, 1], [1, 2, 3, 0, 0], [0, 0, 0, 4, 5]])\n",
    "create_padding_mask(x)"
   ]
  },
  {
   "cell_type": "code",
   "execution_count": 13,
   "metadata": {
    "scrolled": true
   },
   "outputs": [
    {
     "data": {
      "text/plain": [
       "<tf.Tensor: shape=(3, 3), dtype=float32, numpy=\n",
       "array([[0., 1., 1.],\n",
       "       [0., 0., 1.],\n",
       "       [0., 0., 0.]], dtype=float32)>"
      ]
     },
     "execution_count": 13,
     "metadata": {},
     "output_type": "execute_result"
    }
   ],
   "source": [
    "x = tf.random.uniform((1, 3))\n",
    "temp = create_look_ahead_mask(x.shape[1])\n",
    "temp"
   ]
  },
  {
   "cell_type": "markdown",
   "metadata": {},
   "source": [
    "## スケール済み内積アテンション"
   ]
  },
  {
   "cell_type": "code",
   "execution_count": 14,
   "metadata": {
    "scrolled": true
   },
   "outputs": [],
   "source": [
    "def print_out(q, k, v):\n",
    "  temp_out, temp_attn = scaled_dot_product_attention(\n",
    "      q, k, v, None)\n",
    "  print ('Attention weights are:')\n",
    "  print (temp_attn)\n",
    "  print ('Output is:')\n",
    "  print (temp_out)"
   ]
  },
  {
   "cell_type": "code",
   "execution_count": 15,
   "metadata": {},
   "outputs": [
    {
     "name": "stdout",
     "output_type": "stream",
     "text": [
      "Attention weights are:\n",
      "tf.Tensor([[0. 1. 0. 0.]], shape=(1, 4), dtype=float32)\n",
      "Output is:\n",
      "tf.Tensor([[10.  0.]], shape=(1, 2), dtype=float32)\n"
     ]
    }
   ],
   "source": [
    "np.set_printoptions(suppress=True)\n",
    "\n",
    "temp_k = tf.constant([[10,0,0],\n",
    "                      [0,10,0],\n",
    "                      [0,0,10],\n",
    "                      [0,0,10]], dtype=tf.float32)  # (4, 3)\n",
    "\n",
    "temp_v = tf.constant([[   1,0],\n",
    "                      [  10,0],\n",
    "                      [ 100,5],\n",
    "                      [1000,6]], dtype=tf.float32)  # (4, 2)\n",
    "\n",
    "# この`query`は2番目の`key`に割り付けられているので\n",
    "# 2番めの`value`が返される\n",
    "temp_q = tf.constant([[0, 10, 0]], dtype=tf.float32)  # (1, 3)\n",
    "print_out(temp_q, temp_k, temp_v)"
   ]
  },
  {
   "cell_type": "code",
   "execution_count": 16,
   "metadata": {
    "scrolled": true
   },
   "outputs": [
    {
     "name": "stdout",
     "output_type": "stream",
     "text": [
      "Attention weights are:\n",
      "tf.Tensor([[0.  0.  0.5 0.5]], shape=(1, 4), dtype=float32)\n",
      "Output is:\n",
      "tf.Tensor([[550.    5.5]], shape=(1, 2), dtype=float32)\n"
     ]
    }
   ],
   "source": [
    "# このクエリは（3番目と 4番目の）繰り返しキーに割り付けられるので\n",
    "# 関連した全ての値が平均される\n",
    "temp_q = tf.constant([[0, 0, 10]], dtype=tf.float32)  # (1, 3)\n",
    "print_out(temp_q, temp_k, temp_v)"
   ]
  },
  {
   "cell_type": "code",
   "execution_count": 17,
   "metadata": {
    "scrolled": true
   },
   "outputs": [
    {
     "name": "stdout",
     "output_type": "stream",
     "text": [
      "Attention weights are:\n",
      "tf.Tensor([[0.5 0.5 0.  0. ]], shape=(1, 4), dtype=float32)\n",
      "Output is:\n",
      "tf.Tensor([[5.5 0. ]], shape=(1, 2), dtype=float32)\n"
     ]
    }
   ],
   "source": [
    "# このクエリは最初と2番めのキーに等しく割り付けられるので\n",
    "# それらの値が平均される\n",
    "temp_q = tf.constant([[10, 10, 0]], dtype=tf.float32)  # (1, 3)\n",
    "print_out(temp_q, temp_k, temp_v)"
   ]
  },
  {
   "cell_type": "code",
   "execution_count": 18,
   "metadata": {
    "scrolled": true
   },
   "outputs": [
    {
     "name": "stdout",
     "output_type": "stream",
     "text": [
      "Attention weights are:\n",
      "tf.Tensor(\n",
      "[[0.  0.  0.5 0.5]\n",
      " [0.  1.  0.  0. ]\n",
      " [0.5 0.5 0.  0. ]], shape=(3, 4), dtype=float32)\n",
      "Output is:\n",
      "tf.Tensor(\n",
      "[[550.    5.5]\n",
      " [ 10.    0. ]\n",
      " [  5.5   0. ]], shape=(3, 2), dtype=float32)\n"
     ]
    }
   ],
   "source": [
    "temp_q = tf.constant([[0, 0, 10], [0, 10, 0], [10, 10, 0]], dtype=tf.float32)  # (3, 3)\n",
    "print_out(temp_q, temp_k, temp_v)"
   ]
  },
  {
   "cell_type": "markdown",
   "metadata": {},
   "source": [
    "## マルチヘッド・アテンション"
   ]
  },
  {
   "cell_type": "code",
   "execution_count": 19,
   "metadata": {},
   "outputs": [
    {
     "data": {
      "text/plain": [
       "(TensorShape([1, 60, 512]), TensorShape([1, 8, 60, 60]))"
      ]
     },
     "execution_count": 19,
     "metadata": {},
     "output_type": "execute_result"
    }
   ],
   "source": [
    "temp_mha = MultiHeadAttention(d_model=512, num_heads=8)\n",
    "y = tf.random.uniform((1, 60, 512))  # (batch_size, encoder_sequence, d_model)\n",
    "out, attn = temp_mha(y, k=y, q=y, mask=None)\n",
    "out.shape, attn.shape"
   ]
  },
  {
   "cell_type": "markdown",
   "metadata": {},
   "source": [
    "## ポイントワイズのフィードフォワード・ネットワーク"
   ]
  },
  {
   "cell_type": "code",
   "execution_count": 20,
   "metadata": {
    "scrolled": true
   },
   "outputs": [
    {
     "data": {
      "text/plain": [
       "TensorShape([64, 50, 512])"
      ]
     },
     "execution_count": 20,
     "metadata": {},
     "output_type": "execute_result"
    }
   ],
   "source": [
    "sample_ffn = point_wise_feed_forward_network(512, 2048)\n",
    "sample_ffn(tf.random.uniform((64, 50, 512))).shape"
   ]
  },
  {
   "cell_type": "markdown",
   "metadata": {},
   "source": [
    "## エンコーダーとデコーダー"
   ]
  },
  {
   "cell_type": "code",
   "execution_count": 21,
   "metadata": {},
   "outputs": [
    {
     "data": {
      "text/plain": [
       "TensorShape([64, 43, 512])"
      ]
     },
     "execution_count": 21,
     "metadata": {},
     "output_type": "execute_result"
    }
   ],
   "source": [
    "sample_encoder_layer = EncoderLayer(512, 8, 2048)\n",
    "\n",
    "sample_encoder_layer_output = sample_encoder_layer(\n",
    "    tf.random.uniform((64, 43, 512)), False, None)\n",
    "\n",
    "sample_encoder_layer_output.shape  # (batch_size, input_seq_len, d_model)"
   ]
  },
  {
   "cell_type": "code",
   "execution_count": 22,
   "metadata": {},
   "outputs": [
    {
     "data": {
      "text/plain": [
       "TensorShape([64, 50, 512])"
      ]
     },
     "execution_count": 22,
     "metadata": {},
     "output_type": "execute_result"
    }
   ],
   "source": [
    "sample_decoder_layer = DecoderLayer(512, 8, 2048)\n",
    "\n",
    "sample_decoder_layer_output, _, _ = sample_decoder_layer(\n",
    "    tf.random.uniform((64, 50, 512)), sample_encoder_layer_output, \n",
    "    False, None, None)\n",
    "\n",
    "sample_decoder_layer_output.shape  # (batch_size, target_seq_len, d_model)"
   ]
  },
  {
   "cell_type": "code",
   "execution_count": 23,
   "metadata": {
    "scrolled": true
   },
   "outputs": [
    {
     "name": "stdout",
     "output_type": "stream",
     "text": [
      "(64, 62, 512)\n"
     ]
    }
   ],
   "source": [
    "sample_encoder = Encoder(num_layers=2, d_model=512, num_heads=8, \n",
    "                         dff=2048, input_vocab_size=8500,\n",
    "                         maximum_position_encoding=10000)\n",
    "temp_input = tf.random.uniform((64, 62), dtype=tf.int64, minval=0, maxval=200)\n",
    "\n",
    "sample_encoder_output = sample_encoder(temp_input, training=False, mask=None)\n",
    "\n",
    "print (sample_encoder_output.shape)  # (batch_size, input_seq_len, d_model)"
   ]
  },
  {
   "cell_type": "code",
   "execution_count": 24,
   "metadata": {},
   "outputs": [
    {
     "data": {
      "text/plain": [
       "(TensorShape([64, 26, 512]), TensorShape([64, 8, 26, 62]))"
      ]
     },
     "execution_count": 24,
     "metadata": {},
     "output_type": "execute_result"
    }
   ],
   "source": [
    "sample_decoder = Decoder(num_layers=2, d_model=512, num_heads=8, \n",
    "                         dff=2048, target_vocab_size=8000,\n",
    "                         maximum_position_encoding=5000)\n",
    "temp_input = tf.random.uniform((64, 26), dtype=tf.int64, minval=0, maxval=200)\n",
    "\n",
    "output, attn = sample_decoder(temp_input, \n",
    "                              enc_output=sample_encoder_output, \n",
    "                              training=False,\n",
    "                              look_ahead_mask=None, \n",
    "                              padding_mask=None)\n",
    "\n",
    "output.shape, attn['decoder_layer2_block2'].shape"
   ]
  },
  {
   "cell_type": "markdown",
   "metadata": {},
   "source": [
    "## Transformerの作成"
   ]
  },
  {
   "cell_type": "code",
   "execution_count": 25,
   "metadata": {},
   "outputs": [
    {
     "data": {
      "text/plain": [
       "TensorShape([64, 36, 8000])"
      ]
     },
     "execution_count": 25,
     "metadata": {},
     "output_type": "execute_result"
    }
   ],
   "source": [
    "sample_transformer = Transformer(\n",
    "    num_layers=2, d_model=512, num_heads=8, dff=2048, \n",
    "    input_vocab_size=8500, target_vocab_size=8000, \n",
    "    pe_input=10000, pe_target=6000)\n",
    "\n",
    "temp_input = tf.random.uniform((64, 38), dtype=tf.int64, minval=0, maxval=200)\n",
    "temp_target = tf.random.uniform((64, 36), dtype=tf.int64, minval=0, maxval=200)\n",
    "\n",
    "fn_out, _ = sample_transformer(temp_input, temp_target, training=False, \n",
    "                               enc_padding_mask=None, \n",
    "                               look_ahead_mask=None,\n",
    "                               dec_padding_mask=None)\n",
    "\n",
    "fn_out.shape  # (batch_size, tar_seq_len, target_vocab_size)"
   ]
  },
  {
   "cell_type": "markdown",
   "metadata": {},
   "source": [
    "## ハイパーパラメーターの設定"
   ]
  },
  {
   "cell_type": "code",
   "execution_count": 26,
   "metadata": {},
   "outputs": [],
   "source": [
    "num_layers = 4\n",
    "d_model = 128\n",
    "dff = 512\n",
    "num_heads = 8\n",
    "\n",
    "input_vocab_size = tokenizer_pt.vocab_size + 2\n",
    "target_vocab_size = tokenizer_en.vocab_size + 2\n",
    "dropout_rate = 0.1"
   ]
  },
  {
   "cell_type": "markdown",
   "metadata": {},
   "source": [
    "## オプティマイザー"
   ]
  },
  {
   "cell_type": "code",
   "execution_count": 27,
   "metadata": {},
   "outputs": [],
   "source": [
    "learning_rate = CustomSchedule(d_model)\n",
    "\n",
    "optimizer = tf.keras.optimizers.Adam(learning_rate, beta_1=0.9, beta_2=0.98, \n",
    "                                     epsilon=1e-9)"
   ]
  },
  {
   "cell_type": "code",
   "execution_count": 28,
   "metadata": {
    "scrolled": true
   },
   "outputs": [
    {
     "data": {
      "text/plain": [
       "Text(0.5, 0, 'Train Step')"
      ]
     },
     "execution_count": 28,
     "metadata": {},
     "output_type": "execute_result"
    },
    {
     "data": {
      "image/png": "[encoded data removed]",
      "text/plain": [
       "<Figure size 432x288 with 1 Axes>"
      ]
     },
     "metadata": {
      "needs_background": "light"
     },
     "output_type": "display_data"
    }
   ],
   "source": [
    "temp_learning_rate_schedule = CustomSchedule(d_model)\n",
    "\n",
    "plt.plot(temp_learning_rate_schedule(tf.range(40000, dtype=tf.float32)))\n",
    "plt.ylabel(\"Learning Rate\")\n",
    "plt.xlabel(\"Train Step\")"
   ]
  },
  {
   "cell_type": "markdown",
   "metadata": {},
   "source": [
    "## 損失とメトリクス\n",
    "\n",
    "※lib/trainer.py内に記述"
   ]
  },
  {
   "cell_type": "markdown",
   "metadata": {},
   "source": [
    "## 訓練とチェックポイント生成"
   ]
  },
  {
   "cell_type": "code",
   "execution_count": 29,
   "metadata": {},
   "outputs": [
    {
     "name": "stdout",
     "output_type": "stream",
     "text": [
      "Latest checkpoint restored!!\n",
      "Epoch 1 Batch 0 Loss 0.1719 Accuracy 0.4375\n",
      "WARNING:tensorflow:5 out of the last 7 calls to <function train_step at 0x7f8c6bc708c8> triggered tf.function retracing. Tracing is expensive and the excessive number of tracings could be due to (1) creating @tf.function repeatedly in a loop, (2) passing tensors with different shapes, (3) passing Python objects instead of tensors. For (1), please define your @tf.function outside of the loop. For (2), @tf.function has experimental_relax_shapes=True option that relaxes argument shapes that can avoid unnecessary retracing. For (3), please refer to https://www.tensorflow.org/guide/function#controlling_retracing and https://www.tensorflow.org/api_docs/python/tf/function for  more details.\n"
     ]
    },
    {
     "name": "stderr",
     "output_type": "stream",
     "text": [
      "WARNING:tensorflow:5 out of the last 7 calls to <function train_step at 0x7f8c6bc708c8> triggered tf.function retracing. Tracing is expensive and the excessive number of tracings could be due to (1) creating @tf.function repeatedly in a loop, (2) passing tensors with different shapes, (3) passing Python objects instead of tensors. For (1), please define your @tf.function outside of the loop. For (2), @tf.function has experimental_relax_shapes=True option that relaxes argument shapes that can avoid unnecessary retracing. For (3), please refer to https://www.tensorflow.org/guide/function#controlling_retracing and https://www.tensorflow.org/api_docs/python/tf/function for  more details.\n"
     ]
    },
    {
     "name": "stdout",
     "output_type": "stream",
     "text": [
      "WARNING:tensorflow:6 out of the last 8 calls to <function train_step at 0x7f8c6bc708c8> triggered tf.function retracing. Tracing is expensive and the excessive number of tracings could be due to (1) creating @tf.function repeatedly in a loop, (2) passing tensors with different shapes, (3) passing Python objects instead of tensors. For (1), please define your @tf.function outside of the loop. For (2), @tf.function has experimental_relax_shapes=True option that relaxes argument shapes that can avoid unnecessary retracing. For (3), please refer to https://www.tensorflow.org/guide/function#controlling_retracing and https://www.tensorflow.org/api_docs/python/tf/function for  more details.\n"
     ]
    },
    {
     "name": "stderr",
     "output_type": "stream",
     "text": [
      "WARNING:tensorflow:6 out of the last 8 calls to <function train_step at 0x7f8c6bc708c8> triggered tf.function retracing. Tracing is expensive and the excessive number of tracings could be due to (1) creating @tf.function repeatedly in a loop, (2) passing tensors with different shapes, (3) passing Python objects instead of tensors. For (1), please define your @tf.function outside of the loop. For (2), @tf.function has experimental_relax_shapes=True option that relaxes argument shapes that can avoid unnecessary retracing. For (3), please refer to https://www.tensorflow.org/guide/function#controlling_retracing and https://www.tensorflow.org/api_docs/python/tf/function for  more details.\n"
     ]
    },
    {
     "name": "stdout",
     "output_type": "stream",
     "text": [
      "Epoch 1 Batch 50 Loss 0.1671 Accuracy 0.4251\n",
      "Epoch 1 Batch 100 Loss 0.1684 Accuracy 0.4248\n",
      "Epoch 1 Batch 150 Loss 0.1692 Accuracy 0.4221\n",
      "Epoch 1 Batch 200 Loss 0.1695 Accuracy 0.4202\n",
      "Epoch 1 Batch 250 Loss 0.1721 Accuracy 0.4211\n",
      "Epoch 1 Batch 300 Loss 0.1735 Accuracy 0.4213\n",
      "Epoch 1 Batch 350 Loss 0.1746 Accuracy 0.4209\n",
      "Epoch 1 Batch 400 Loss 0.1761 Accuracy 0.4207\n",
      "Epoch 1 Batch 450 Loss 0.1773 Accuracy 0.4203\n",
      "Epoch 1 Batch 500 Loss 0.1788 Accuracy 0.4203\n",
      "Epoch 1 Batch 550 Loss 0.1807 Accuracy 0.4198\n",
      "Epoch 1 Batch 600 Loss 0.1823 Accuracy 0.4195\n",
      "Epoch 1 Batch 650 Loss 0.1839 Accuracy 0.4196\n",
      "Epoch 1 Batch 700 Loss 0.1857 Accuracy 0.4198\n",
      "Epoch 1 Loss 0.1857 Accuracy 0.4198\n",
      "Time taken for 1 epoch: 247.24578094482422 secs\n",
      "\n",
      "Epoch 2 Batch 0 Loss 0.1616 Accuracy 0.4242\n",
      "Epoch 2 Batch 50 Loss 0.1613 Accuracy 0.4196\n",
      "Epoch 2 Batch 100 Loss 0.1640 Accuracy 0.4225\n",
      "Epoch 2 Batch 150 Loss 0.1672 Accuracy 0.4230\n",
      "Epoch 2 Batch 200 Loss 0.1685 Accuracy 0.4214\n",
      "Epoch 2 Batch 250 Loss 0.1709 Accuracy 0.4226\n",
      "Epoch 2 Batch 300 Loss 0.1717 Accuracy 0.4217\n",
      "Epoch 2 Batch 350 Loss 0.1727 Accuracy 0.4218\n",
      "Epoch 2 Batch 400 Loss 0.1741 Accuracy 0.4212\n",
      "Epoch 2 Batch 450 Loss 0.1754 Accuracy 0.4210\n",
      "Epoch 2 Batch 500 Loss 0.1766 Accuracy 0.4204\n",
      "Epoch 2 Batch 550 Loss 0.1786 Accuracy 0.4211\n",
      "Epoch 2 Batch 600 Loss 0.1802 Accuracy 0.4206\n",
      "Epoch 2 Batch 650 Loss 0.1819 Accuracy 0.4202\n",
      "Epoch 2 Batch 700 Loss 0.1834 Accuracy 0.4197\n",
      "Epoch 2 Loss 0.1835 Accuracy 0.4197\n",
      "Time taken for 1 epoch: 77.78774738311768 secs\n",
      "\n",
      "Epoch 3 Batch 0 Loss 0.1534 Accuracy 0.4192\n",
      "Epoch 3 Batch 50 Loss 0.1625 Accuracy 0.4185\n",
      "Epoch 3 Batch 100 Loss 0.1622 Accuracy 0.4207\n",
      "Epoch 3 Batch 150 Loss 0.1645 Accuracy 0.4214\n",
      "Epoch 3 Batch 200 Loss 0.1662 Accuracy 0.4210\n",
      "Epoch 3 Batch 250 Loss 0.1680 Accuracy 0.4202\n",
      "Epoch 3 Batch 300 Loss 0.1703 Accuracy 0.4203\n",
      "Epoch 3 Batch 350 Loss 0.1724 Accuracy 0.4208\n",
      "Epoch 3 Batch 400 Loss 0.1742 Accuracy 0.4211\n",
      "Epoch 3 Batch 450 Loss 0.1754 Accuracy 0.4205\n",
      "Epoch 3 Batch 500 Loss 0.1769 Accuracy 0.4208\n",
      "Epoch 3 Batch 550 Loss 0.1784 Accuracy 0.4207\n",
      "Epoch 3 Batch 600 Loss 0.1798 Accuracy 0.4204\n",
      "Epoch 3 Batch 650 Loss 0.1810 Accuracy 0.4201\n",
      "Epoch 3 Batch 700 Loss 0.1822 Accuracy 0.4197\n",
      "Epoch 3 Loss 0.1823 Accuracy 0.4197\n",
      "Time taken for 1 epoch: 49.83868670463562 secs\n",
      "\n",
      "Epoch 4 Batch 0 Loss 0.1891 Accuracy 0.4559\n",
      "Epoch 4 Batch 50 Loss 0.1634 Accuracy 0.4225\n",
      "Epoch 4 Batch 100 Loss 0.1640 Accuracy 0.4222\n",
      "Epoch 4 Batch 150 Loss 0.1667 Accuracy 0.4243\n",
      "Epoch 4 Batch 200 Loss 0.1683 Accuracy 0.4235\n",
      "Epoch 4 Batch 250 Loss 0.1690 Accuracy 0.4228\n",
      "Epoch 4 Batch 300 Loss 0.1710 Accuracy 0.4236\n",
      "Epoch 4 Batch 350 Loss 0.1723 Accuracy 0.4237\n",
      "Epoch 4 Batch 400 Loss 0.1733 Accuracy 0.4238\n",
      "Epoch 4 Batch 450 Loss 0.1752 Accuracy 0.4240\n",
      "Epoch 4 Batch 500 Loss 0.1762 Accuracy 0.4227\n",
      "Epoch 4 Batch 550 Loss 0.1774 Accuracy 0.4218\n",
      "Epoch 4 Batch 600 Loss 0.1792 Accuracy 0.4213\n",
      "Epoch 4 Batch 650 Loss 0.1802 Accuracy 0.4207\n",
      "Epoch 4 Batch 700 Loss 0.1817 Accuracy 0.4202\n",
      "Epoch 4 Loss 0.1817 Accuracy 0.4202\n",
      "Time taken for 1 epoch: 48.77570939064026 secs\n",
      "\n",
      "Epoch 5 Batch 0 Loss 0.1307 Accuracy 0.3805\n",
      "Epoch 5 Batch 50 Loss 0.1569 Accuracy 0.4208\n",
      "Epoch 5 Batch 100 Loss 0.1603 Accuracy 0.4232\n",
      "Epoch 5 Batch 150 Loss 0.1623 Accuracy 0.4237\n",
      "Epoch 5 Batch 200 Loss 0.1653 Accuracy 0.4238\n",
      "Epoch 5 Batch 250 Loss 0.1668 Accuracy 0.4228\n",
      "Epoch 5 Batch 300 Loss 0.1680 Accuracy 0.4224\n",
      "Epoch 5 Batch 350 Loss 0.1699 Accuracy 0.4224\n",
      "Epoch 5 Batch 400 Loss 0.1717 Accuracy 0.4227\n",
      "Epoch 5 Batch 450 Loss 0.1734 Accuracy 0.4227\n",
      "Epoch 5 Batch 500 Loss 0.1749 Accuracy 0.4226\n",
      "Epoch 5 Batch 550 Loss 0.1763 Accuracy 0.4222\n",
      "Epoch 5 Batch 600 Loss 0.1778 Accuracy 0.4218\n",
      "Epoch 5 Batch 650 Loss 0.1791 Accuracy 0.4214\n",
      "Epoch 5 Batch 700 Loss 0.1803 Accuracy 0.4210\n",
      "Saving checkpoint for epoch 5 at ./checkpoints/train/ckpt-21\n",
      "Epoch 5 Loss 0.1804 Accuracy 0.4209\n",
      "Time taken for 1 epoch: 33.961113691329956 secs\n",
      "\n",
      "Epoch 6 Batch 0 Loss 0.1665 Accuracy 0.4421\n",
      "Epoch 6 Batch 50 Loss 0.1596 Accuracy 0.4246\n",
      "Epoch 6 Batch 100 Loss 0.1600 Accuracy 0.4227\n",
      "Epoch 6 Batch 150 Loss 0.1629 Accuracy 0.4252\n",
      "Epoch 6 Batch 200 Loss 0.1645 Accuracy 0.4260\n",
      "Epoch 6 Batch 250 Loss 0.1669 Accuracy 0.4256\n",
      "Epoch 6 Batch 300 Loss 0.1678 Accuracy 0.4253\n",
      "Epoch 6 Batch 350 Loss 0.1685 Accuracy 0.4244\n",
      "Epoch 6 Batch 400 Loss 0.1698 Accuracy 0.4238\n",
      "Epoch 6 Batch 450 Loss 0.1713 Accuracy 0.4234\n",
      "Epoch 6 Batch 500 Loss 0.1721 Accuracy 0.4220\n",
      "Epoch 6 Batch 550 Loss 0.1735 Accuracy 0.4218\n",
      "Epoch 6 Batch 600 Loss 0.1755 Accuracy 0.4213\n",
      "Epoch 6 Batch 650 Loss 0.1771 Accuracy 0.4212\n",
      "Epoch 6 Batch 700 Loss 0.1787 Accuracy 0.4210\n",
      "Epoch 6 Loss 0.1788 Accuracy 0.4210\n",
      "Time taken for 1 epoch: 42.84482526779175 secs\n",
      "\n",
      "Epoch 7 Batch 0 Loss 0.1500 Accuracy 0.3618\n",
      "Epoch 7 Batch 50 Loss 0.1632 Accuracy 0.4318\n",
      "Epoch 7 Batch 100 Loss 0.1623 Accuracy 0.4259\n",
      "Epoch 7 Batch 150 Loss 0.1632 Accuracy 0.4273\n",
      "Epoch 7 Batch 200 Loss 0.1640 Accuracy 0.4264\n",
      "Epoch 7 Batch 250 Loss 0.1664 Accuracy 0.4256\n",
      "Epoch 7 Batch 300 Loss 0.1676 Accuracy 0.4256\n",
      "Epoch 7 Batch 350 Loss 0.1687 Accuracy 0.4242\n",
      "Epoch 7 Batch 400 Loss 0.1702 Accuracy 0.4233\n",
      "Epoch 7 Batch 450 Loss 0.1714 Accuracy 0.4229\n",
      "Epoch 7 Batch 500 Loss 0.1734 Accuracy 0.4229\n",
      "Epoch 7 Batch 550 Loss 0.1742 Accuracy 0.4226\n",
      "Epoch 7 Batch 600 Loss 0.1760 Accuracy 0.4225\n",
      "Epoch 7 Batch 650 Loss 0.1776 Accuracy 0.4225\n",
      "Epoch 7 Batch 700 Loss 0.1791 Accuracy 0.4217\n",
      "Epoch 7 Loss 0.1792 Accuracy 0.4218\n",
      "Time taken for 1 epoch: 42.70786213874817 secs\n",
      "\n",
      "Epoch 8 Batch 0 Loss 0.1672 Accuracy 0.4139\n",
      "Epoch 8 Batch 50 Loss 0.1571 Accuracy 0.4299\n",
      "Epoch 8 Batch 100 Loss 0.1580 Accuracy 0.4257\n",
      "Epoch 8 Batch 150 Loss 0.1603 Accuracy 0.4240\n",
      "Epoch 8 Batch 200 Loss 0.1621 Accuracy 0.4209\n",
      "Epoch 8 Batch 250 Loss 0.1644 Accuracy 0.4229\n",
      "Epoch 8 Batch 300 Loss 0.1667 Accuracy 0.4242\n",
      "Epoch 8 Batch 350 Loss 0.1679 Accuracy 0.4242\n",
      "Epoch 8 Batch 400 Loss 0.1690 Accuracy 0.4244\n",
      "Epoch 8 Batch 450 Loss 0.1697 Accuracy 0.4235\n",
      "Epoch 8 Batch 500 Loss 0.1710 Accuracy 0.4232\n",
      "Epoch 8 Batch 550 Loss 0.1723 Accuracy 0.4229\n",
      "Epoch 8 Batch 600 Loss 0.1736 Accuracy 0.4223\n",
      "Epoch 8 Batch 650 Loss 0.1754 Accuracy 0.4222\n",
      "Epoch 8 Batch 700 Loss 0.1770 Accuracy 0.4217\n",
      "Epoch 8 Loss 0.1771 Accuracy 0.4217\n",
      "Time taken for 1 epoch: 47.50353169441223 secs\n",
      "\n",
      "Epoch 9 Batch 0 Loss 0.1493 Accuracy 0.4167\n",
      "Epoch 9 Batch 50 Loss 0.1557 Accuracy 0.4184\n",
      "Epoch 9 Batch 100 Loss 0.1592 Accuracy 0.4203\n",
      "Epoch 9 Batch 150 Loss 0.1599 Accuracy 0.4216\n",
      "Epoch 9 Batch 200 Loss 0.1610 Accuracy 0.4222\n",
      "Epoch 9 Batch 250 Loss 0.1614 Accuracy 0.4213\n",
      "Epoch 9 Batch 300 Loss 0.1633 Accuracy 0.4224\n",
      "Epoch 9 Batch 350 Loss 0.1651 Accuracy 0.4225\n",
      "Epoch 9 Batch 400 Loss 0.1668 Accuracy 0.4220\n",
      "Epoch 9 Batch 450 Loss 0.1682 Accuracy 0.4223\n",
      "Epoch 9 Batch 500 Loss 0.1699 Accuracy 0.4223\n",
      "Epoch 9 Batch 550 Loss 0.1711 Accuracy 0.4218\n",
      "Epoch 9 Batch 600 Loss 0.1726 Accuracy 0.4216\n",
      "Epoch 9 Batch 650 Loss 0.1742 Accuracy 0.4218\n",
      "Epoch 9 Batch 700 Loss 0.1755 Accuracy 0.4212\n",
      "Epoch 9 Loss 0.1755 Accuracy 0.4213\n",
      "Time taken for 1 epoch: 45.51717495918274 secs\n",
      "\n",
      "Epoch 10 Batch 0 Loss 0.1567 Accuracy 0.4307\n",
      "Epoch 10 Batch 50 Loss 0.1562 Accuracy 0.4281\n",
      "Epoch 10 Batch 100 Loss 0.1558 Accuracy 0.4250\n",
      "Epoch 10 Batch 150 Loss 0.1568 Accuracy 0.4214\n",
      "Epoch 10 Batch 200 Loss 0.1594 Accuracy 0.4216\n",
      "Epoch 10 Batch 250 Loss 0.1614 Accuracy 0.4223\n",
      "Epoch 10 Batch 300 Loss 0.1629 Accuracy 0.4226\n",
      "Epoch 10 Batch 350 Loss 0.1643 Accuracy 0.4224\n",
      "Epoch 10 Batch 400 Loss 0.1660 Accuracy 0.4225\n",
      "Epoch 10 Batch 450 Loss 0.1666 Accuracy 0.4218\n",
      "Epoch 10 Batch 500 Loss 0.1679 Accuracy 0.4218\n",
      "Epoch 10 Batch 550 Loss 0.1698 Accuracy 0.4218\n",
      "Epoch 10 Batch 600 Loss 0.1711 Accuracy 0.4212\n",
      "Epoch 10 Batch 650 Loss 0.1728 Accuracy 0.4212\n",
      "Epoch 10 Batch 700 Loss 0.1742 Accuracy 0.4210\n",
      "Saving checkpoint for epoch 10 at ./checkpoints/train/ckpt-22\n",
      "Epoch 10 Loss 0.1743 Accuracy 0.4210\n",
      "Time taken for 1 epoch: 39.91649007797241 secs\n",
      "\n",
      "Epoch 11 Batch 0 Loss 0.1506 Accuracy 0.4223\n",
      "Epoch 11 Batch 50 Loss 0.1536 Accuracy 0.4227\n",
      "Epoch 11 Batch 100 Loss 0.1562 Accuracy 0.4283\n",
      "Epoch 11 Batch 150 Loss 0.1577 Accuracy 0.4256\n",
      "Epoch 11 Batch 200 Loss 0.1595 Accuracy 0.4237\n",
      "Epoch 11 Batch 250 Loss 0.1615 Accuracy 0.4247\n",
      "Epoch 11 Batch 300 Loss 0.1632 Accuracy 0.4246\n",
      "Epoch 11 Batch 350 Loss 0.1641 Accuracy 0.4242\n",
      "Epoch 11 Batch 400 Loss 0.1653 Accuracy 0.4242\n"
     ]
    },
    {
     "name": "stdout",
     "output_type": "stream",
     "text": [
      "Epoch 11 Batch 450 Loss 0.1667 Accuracy 0.4243\n",
      "Epoch 11 Batch 500 Loss 0.1675 Accuracy 0.4240\n",
      "Epoch 11 Batch 550 Loss 0.1689 Accuracy 0.4233\n",
      "Epoch 11 Batch 600 Loss 0.1701 Accuracy 0.4226\n",
      "Epoch 11 Batch 650 Loss 0.1714 Accuracy 0.4221\n",
      "Epoch 11 Batch 700 Loss 0.1730 Accuracy 0.4221\n",
      "Epoch 11 Loss 0.1731 Accuracy 0.4222\n",
      "Time taken for 1 epoch: 36.64759588241577 secs\n",
      "\n",
      "Epoch 12 Batch 0 Loss 0.1665 Accuracy 0.3722\n",
      "Epoch 12 Batch 50 Loss 0.1589 Accuracy 0.4227\n",
      "Epoch 12 Batch 100 Loss 0.1568 Accuracy 0.4247\n",
      "Epoch 12 Batch 150 Loss 0.1581 Accuracy 0.4255\n",
      "Epoch 12 Batch 200 Loss 0.1601 Accuracy 0.4259\n",
      "Epoch 12 Batch 250 Loss 0.1608 Accuracy 0.4258\n",
      "Epoch 12 Batch 300 Loss 0.1623 Accuracy 0.4249\n",
      "Epoch 12 Batch 350 Loss 0.1631 Accuracy 0.4242\n",
      "Epoch 12 Batch 400 Loss 0.1645 Accuracy 0.4242\n",
      "Epoch 12 Batch 450 Loss 0.1661 Accuracy 0.4241\n",
      "Epoch 12 Batch 500 Loss 0.1677 Accuracy 0.4239\n",
      "Epoch 12 Batch 550 Loss 0.1692 Accuracy 0.4234\n",
      "Epoch 12 Batch 600 Loss 0.1704 Accuracy 0.4230\n",
      "Epoch 12 Batch 650 Loss 0.1717 Accuracy 0.4226\n",
      "Epoch 12 Batch 700 Loss 0.1728 Accuracy 0.4224\n",
      "Epoch 12 Loss 0.1729 Accuracy 0.4224\n",
      "Time taken for 1 epoch: 33.97062134742737 secs\n",
      "\n",
      "Epoch 13 Batch 0 Loss 0.1497 Accuracy 0.4507\n",
      "Epoch 13 Batch 50 Loss 0.1527 Accuracy 0.4252\n",
      "Epoch 13 Batch 100 Loss 0.1541 Accuracy 0.4243\n",
      "Epoch 13 Batch 150 Loss 0.1553 Accuracy 0.4231\n",
      "Epoch 13 Batch 200 Loss 0.1559 Accuracy 0.4236\n",
      "Epoch 13 Batch 250 Loss 0.1582 Accuracy 0.4239\n",
      "Epoch 13 Batch 300 Loss 0.1604 Accuracy 0.4239\n",
      "Epoch 13 Batch 350 Loss 0.1615 Accuracy 0.4234\n",
      "Epoch 13 Batch 400 Loss 0.1631 Accuracy 0.4236\n",
      "Epoch 13 Batch 450 Loss 0.1648 Accuracy 0.4243\n",
      "Epoch 13 Batch 500 Loss 0.1664 Accuracy 0.4242\n",
      "Epoch 13 Batch 550 Loss 0.1675 Accuracy 0.4234\n",
      "Epoch 13 Batch 600 Loss 0.1685 Accuracy 0.4231\n",
      "Epoch 13 Batch 650 Loss 0.1702 Accuracy 0.4234\n",
      "Epoch 13 Batch 700 Loss 0.1718 Accuracy 0.4233\n",
      "Epoch 13 Loss 0.1718 Accuracy 0.4233\n",
      "Time taken for 1 epoch: 39.97995400428772 secs\n",
      "\n",
      "Epoch 14 Batch 0 Loss 0.1001 Accuracy 0.3550\n",
      "Epoch 14 Batch 50 Loss 0.1511 Accuracy 0.4217\n",
      "Epoch 14 Batch 100 Loss 0.1531 Accuracy 0.4229\n",
      "Epoch 14 Batch 150 Loss 0.1563 Accuracy 0.4253\n",
      "Epoch 14 Batch 200 Loss 0.1581 Accuracy 0.4241\n",
      "Epoch 14 Batch 250 Loss 0.1585 Accuracy 0.4235\n",
      "Epoch 14 Batch 300 Loss 0.1600 Accuracy 0.4238\n",
      "Epoch 14 Batch 350 Loss 0.1616 Accuracy 0.4233\n",
      "Epoch 14 Batch 400 Loss 0.1627 Accuracy 0.4232\n",
      "Epoch 14 Batch 450 Loss 0.1639 Accuracy 0.4233\n",
      "Epoch 14 Batch 500 Loss 0.1654 Accuracy 0.4231\n",
      "Epoch 14 Batch 550 Loss 0.1670 Accuracy 0.4229\n",
      "Epoch 14 Batch 600 Loss 0.1684 Accuracy 0.4230\n",
      "Epoch 14 Batch 650 Loss 0.1697 Accuracy 0.4224\n",
      "Epoch 14 Batch 700 Loss 0.1711 Accuracy 0.4224\n",
      "Epoch 14 Loss 0.1711 Accuracy 0.4224\n",
      "Time taken for 1 epoch: 33.878273487091064 secs\n",
      "\n",
      "Epoch 15 Batch 0 Loss 0.1545 Accuracy 0.4236\n",
      "Epoch 15 Batch 50 Loss 0.1537 Accuracy 0.4271\n",
      "Epoch 15 Batch 100 Loss 0.1536 Accuracy 0.4269\n",
      "Epoch 15 Batch 150 Loss 0.1553 Accuracy 0.4268\n",
      "Epoch 15 Batch 200 Loss 0.1563 Accuracy 0.4273\n",
      "Epoch 15 Batch 250 Loss 0.1567 Accuracy 0.4257\n",
      "Epoch 15 Batch 300 Loss 0.1580 Accuracy 0.4249\n",
      "Epoch 15 Batch 350 Loss 0.1595 Accuracy 0.4251\n",
      "Epoch 15 Batch 400 Loss 0.1617 Accuracy 0.4250\n",
      "Epoch 15 Batch 450 Loss 0.1628 Accuracy 0.4249\n",
      "Epoch 15 Batch 500 Loss 0.1647 Accuracy 0.4253\n",
      "Epoch 15 Batch 550 Loss 0.1662 Accuracy 0.4251\n",
      "Epoch 15 Batch 600 Loss 0.1675 Accuracy 0.4247\n",
      "Epoch 15 Batch 650 Loss 0.1688 Accuracy 0.4244\n",
      "Epoch 15 Batch 700 Loss 0.1703 Accuracy 0.4241\n",
      "Saving checkpoint for epoch 15 at ./checkpoints/train/ckpt-23\n",
      "Epoch 15 Loss 0.1704 Accuracy 0.4241\n",
      "Time taken for 1 epoch: 40.28254818916321 secs\n",
      "\n",
      "Epoch 16 Batch 0 Loss 0.1776 Accuracy 0.4433\n",
      "Epoch 16 Batch 50 Loss 0.1530 Accuracy 0.4304\n",
      "Epoch 16 Batch 100 Loss 0.1536 Accuracy 0.4272\n",
      "Epoch 16 Batch 150 Loss 0.1543 Accuracy 0.4254\n",
      "Epoch 16 Batch 200 Loss 0.1567 Accuracy 0.4254\n",
      "Epoch 16 Batch 250 Loss 0.1580 Accuracy 0.4251\n",
      "Epoch 16 Batch 300 Loss 0.1592 Accuracy 0.4244\n",
      "Epoch 16 Batch 350 Loss 0.1604 Accuracy 0.4246\n",
      "Epoch 16 Batch 400 Loss 0.1614 Accuracy 0.4244\n",
      "Epoch 16 Batch 450 Loss 0.1632 Accuracy 0.4249\n",
      "Epoch 16 Batch 500 Loss 0.1643 Accuracy 0.4248\n",
      "Epoch 16 Batch 550 Loss 0.1659 Accuracy 0.4248\n",
      "Epoch 16 Batch 600 Loss 0.1668 Accuracy 0.4240\n",
      "Epoch 16 Batch 650 Loss 0.1682 Accuracy 0.4239\n",
      "Epoch 16 Batch 700 Loss 0.1694 Accuracy 0.4234\n",
      "Epoch 16 Loss 0.1695 Accuracy 0.4234\n",
      "Time taken for 1 epoch: 36.7288818359375 secs\n",
      "\n",
      "Epoch 17 Batch 0 Loss 0.1656 Accuracy 0.4353\n",
      "Epoch 17 Batch 50 Loss 0.1496 Accuracy 0.4260\n",
      "Epoch 17 Batch 100 Loss 0.1537 Accuracy 0.4274\n",
      "Epoch 17 Batch 150 Loss 0.1548 Accuracy 0.4264\n",
      "Epoch 17 Batch 200 Loss 0.1559 Accuracy 0.4255\n",
      "Epoch 17 Batch 250 Loss 0.1579 Accuracy 0.4262\n",
      "Epoch 17 Batch 300 Loss 0.1596 Accuracy 0.4269\n",
      "Epoch 17 Batch 350 Loss 0.1611 Accuracy 0.4264\n",
      "Epoch 17 Batch 400 Loss 0.1618 Accuracy 0.4259\n",
      "Epoch 17 Batch 450 Loss 0.1629 Accuracy 0.4260\n",
      "Epoch 17 Batch 500 Loss 0.1639 Accuracy 0.4254\n",
      "Epoch 17 Batch 550 Loss 0.1651 Accuracy 0.4250\n",
      "Epoch 17 Batch 600 Loss 0.1659 Accuracy 0.4243\n",
      "Epoch 17 Batch 650 Loss 0.1671 Accuracy 0.4238\n",
      "Epoch 17 Batch 700 Loss 0.1686 Accuracy 0.4237\n",
      "Epoch 17 Loss 0.1686 Accuracy 0.4237\n",
      "Time taken for 1 epoch: 33.97772479057312 secs\n",
      "\n",
      "Epoch 18 Batch 0 Loss 0.1561 Accuracy 0.4227\n",
      "Epoch 18 Batch 50 Loss 0.1513 Accuracy 0.4215\n",
      "Epoch 18 Batch 100 Loss 0.1541 Accuracy 0.4263\n",
      "Epoch 18 Batch 150 Loss 0.1540 Accuracy 0.4247\n",
      "Epoch 18 Batch 200 Loss 0.1558 Accuracy 0.4257\n",
      "Epoch 18 Batch 250 Loss 0.1572 Accuracy 0.4252\n",
      "Epoch 18 Batch 300 Loss 0.1581 Accuracy 0.4245\n",
      "Epoch 18 Batch 350 Loss 0.1592 Accuracy 0.4248\n",
      "Epoch 18 Batch 400 Loss 0.1608 Accuracy 0.4252\n",
      "Epoch 18 Batch 450 Loss 0.1627 Accuracy 0.4250\n",
      "Epoch 18 Batch 500 Loss 0.1635 Accuracy 0.4254\n",
      "Epoch 18 Batch 550 Loss 0.1645 Accuracy 0.4247\n",
      "Epoch 18 Batch 600 Loss 0.1656 Accuracy 0.4243\n",
      "Epoch 18 Batch 650 Loss 0.1667 Accuracy 0.4240\n",
      "Epoch 18 Batch 700 Loss 0.1678 Accuracy 0.4233\n",
      "Epoch 18 Loss 0.1680 Accuracy 0.4234\n",
      "Time taken for 1 epoch: 33.78097462654114 secs\n",
      "\n",
      "Epoch 19 Batch 0 Loss 0.1656 Accuracy 0.4511\n",
      "Epoch 19 Batch 50 Loss 0.1463 Accuracy 0.4332\n",
      "Epoch 19 Batch 100 Loss 0.1477 Accuracy 0.4271\n",
      "Epoch 19 Batch 150 Loss 0.1490 Accuracy 0.4249\n",
      "Epoch 19 Batch 200 Loss 0.1510 Accuracy 0.4237\n",
      "Epoch 19 Batch 250 Loss 0.1527 Accuracy 0.4241\n",
      "Epoch 19 Batch 300 Loss 0.1543 Accuracy 0.4244\n",
      "Epoch 19 Batch 350 Loss 0.1560 Accuracy 0.4251\n",
      "Epoch 19 Batch 400 Loss 0.1574 Accuracy 0.4247\n",
      "Epoch 19 Batch 450 Loss 0.1586 Accuracy 0.4242\n",
      "Epoch 19 Batch 500 Loss 0.1607 Accuracy 0.4242\n",
      "Epoch 19 Batch 550 Loss 0.1624 Accuracy 0.4247\n",
      "Epoch 19 Batch 600 Loss 0.1641 Accuracy 0.4251\n",
      "Epoch 19 Batch 650 Loss 0.1653 Accuracy 0.4243\n",
      "Epoch 19 Batch 700 Loss 0.1667 Accuracy 0.4244\n",
      "Epoch 19 Loss 0.1668 Accuracy 0.4245\n",
      "Time taken for 1 epoch: 33.755974531173706 secs\n",
      "\n",
      "Epoch 20 Batch 0 Loss 0.1287 Accuracy 0.4330\n",
      "Epoch 20 Batch 50 Loss 0.1530 Accuracy 0.4376\n",
      "Epoch 20 Batch 100 Loss 0.1516 Accuracy 0.4319\n",
      "Epoch 20 Batch 150 Loss 0.1520 Accuracy 0.4300\n",
      "Epoch 20 Batch 200 Loss 0.1532 Accuracy 0.4291\n",
      "Epoch 20 Batch 250 Loss 0.1548 Accuracy 0.4285\n",
      "Epoch 20 Batch 300 Loss 0.1552 Accuracy 0.4274\n",
      "Epoch 20 Batch 350 Loss 0.1563 Accuracy 0.4265\n",
      "Epoch 20 Batch 400 Loss 0.1577 Accuracy 0.4265\n",
      "Epoch 20 Batch 450 Loss 0.1589 Accuracy 0.4257\n",
      "Epoch 20 Batch 500 Loss 0.1603 Accuracy 0.4256\n",
      "Epoch 20 Batch 550 Loss 0.1618 Accuracy 0.4251\n",
      "Epoch 20 Batch 600 Loss 0.1637 Accuracy 0.4250\n",
      "Epoch 20 Batch 650 Loss 0.1654 Accuracy 0.4251\n",
      "Epoch 20 Batch 700 Loss 0.1662 Accuracy 0.4242\n",
      "Saving checkpoint for epoch 20 at ./checkpoints/train/ckpt-24\n",
      "Epoch 20 Loss 0.1663 Accuracy 0.4243\n",
      "Time taken for 1 epoch: 37.15637564659119 secs\n",
      "\n"
     ]
    }
   ],
   "source": [
    "transformer = training(train_dataset,\n",
    "        input_vocab_size, target_vocab_size, optimizer,\n",
    "        num_layers=num_layers,\n",
    "        d_model=d_model,\n",
    "        dff=dff,\n",
    "        num_heads=num_heads,\n",
    "        dropout_rate=dropout_rate)"
   ]
  },
  {
   "cell_type": "markdown",
   "metadata": {},
   "source": [
    "## 評価"
   ]
  },
  {
   "cell_type": "code",
   "execution_count": 30,
   "metadata": {
    "scrolled": true
   },
   "outputs": [
    {
     "name": "stdout",
     "output_type": "stream",
     "text": [
      "Input: este é um problema que temos que resolver.\n",
      "Predicted translation: so this is a problem that we have to solve this technology in terms of doing .\n",
      "Real translation: this is a problem we have to solve .\n"
     ]
    }
   ],
   "source": [
    "translate(transformer, tokenizer_pt, tokenizer_en, \"este é um problema que temos que resolver.\")\n",
    "print (\"Real translation: this is a problem we have to solve .\")"
   ]
  },
  {
   "cell_type": "code",
   "execution_count": 31,
   "metadata": {
    "scrolled": true
   },
   "outputs": [
    {
     "name": "stdout",
     "output_type": "stream",
     "text": [
      "Input: os meus vizinhos ouviram sobre esta ideia.\n",
      "Predicted translation: my neighbors heard about this idea .\n",
      "Real translation: and my neighboring homes heard about this idea .\n"
     ]
    }
   ],
   "source": [
    "translate(transformer, tokenizer_pt, tokenizer_en, \"os meus vizinhos ouviram sobre esta ideia.\")\n",
    "print (\"Real translation: and my neighboring homes heard about this idea .\")"
   ]
  },
  {
   "cell_type": "code",
   "execution_count": 32,
   "metadata": {},
   "outputs": [
    {
     "name": "stdout",
     "output_type": "stream",
     "text": [
      "Input: vou então muito rapidamente partilhar convosco algumas histórias de algumas coisas mágicas que aconteceram.\n",
      "Predicted translation: so i 'll very quickly share with you a few really magical stories that have happened.c. so they did happen .\n",
      "Real translation: so i 'll just share with you some stories very quickly of some magical things that have happened .\n"
     ]
    }
   ],
   "source": [
    "translate(transformer, tokenizer_pt, tokenizer_en, \"vou então muito rapidamente partilhar convosco algumas histórias de algumas coisas mágicas que aconteceram.\")\n",
    "print (\"Real translation: so i 'll just share with you some stories very quickly of some magical things that have happened .\")"
   ]
  }
 ],
 "metadata": {
  "kernelspec": {
   "display_name": "Python 3",
   "language": "python",
   "name": "python3"
  },
  "language_info": {
   "codemirror_mode": {
    "name": "ipython",
    "version": 3
   },
   "file_extension": ".py",
   "mimetype": "text/x-python",
   "name": "python",
   "nbconvert_exporter": "python",
   "pygments_lexer": "ipython3",
   "version": "3.6.9"
  }
 },
 "nbformat": 4,
 "nbformat_minor": 2
}
