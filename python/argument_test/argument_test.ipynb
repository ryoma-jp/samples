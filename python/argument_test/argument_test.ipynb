{
 "cells": [
  {
   "cell_type": "markdown",
   "id": "7705cca4",
   "metadata": {},
   "source": [
    "# Pythonにおける参照渡しの挙動確認\n",
    "\n",
    "Pythonでは関数の引数はすべて参照渡しで扱われる．\n",
    "ただし，ミュータブルとイミュータブルのデータ型の違いにより，変数への代入時の挙動が変わる．\n",
    "\n",
    "||説明|\n",
    "|:--|:--|\n",
    "|ミュータブル(mutable)|オブジェクト生成後に値を変更できるオブジェクト．<br>ミュータブルのデータ型：dist, list|\n",
    "|イミュータブル(immutable)|オブジェクト生成後に値を変更できないオブジェクト．<br>イミュータブルのデータ例：数値型，文字列型，タプル型|\n"
   ]
  },
  {
   "cell_type": "markdown",
   "id": "44130c51",
   "metadata": {},
   "source": [
    "## ミュータブルのデータ型の挙動\n",
    "\n",
    "関数の引数は参照渡しで渡され，要素の更新はリスト内の値のみが更新される為，変数アドレスは更新されない．  \n",
    "関数の戻り値も参照渡しである．"
   ]
  },
  {
   "cell_type": "code",
   "execution_count": 1,
   "id": "f6cc8345",
   "metadata": {},
   "outputs": [],
   "source": [
    "def func_for_mutable(arg):\n",
    "    print(' * id(arg) = {} (before change var in func())'.format(id(arg)))\n",
    "    arg[0] = arg[0] + 10\n",
    "    print(' * id(arg) = {} (after change var in func())'.format(id(arg)))\n",
    "    return arg"
   ]
  },
  {
   "cell_type": "code",
   "execution_count": 2,
   "id": "90990756",
   "metadata": {},
   "outputs": [
    {
     "name": "stdout",
     "output_type": "stream",
     "text": [
      "a = [3, 4]\n",
      " * id(a)    = 140051526228416 (before func() call)\n",
      " * id(arg) = 140051526228416 (before change var in func())\n",
      " * id(arg) = 140051526228416 (after change var in func())\n",
      "a = [13, 4]\n",
      " * id(a)    = 140051526228416 (after func() call)\n",
      "\n",
      "b = [10, 20]\n",
      " * id(b)    = 140051526227712 (before func() call)\n",
      " * id(arg) = 140051526227712 (before change var in func())\n",
      " * id(arg) = 140051526227712 (after change var in func())\n",
      "b = [20, 20]\n",
      " * id(b)    = 140051526227712 (after func() call)\n",
      "\n",
      "c = [3, 4]\n",
      " * id(c)    = 140051526362112 (same value of first 'a')\n"
     ]
    }
   ],
   "source": [
    "a = [3, 4]\n",
    "print('a = {}'.format(a))\n",
    "print(' * id(a)    = {} (before func() call)'.format(id(a)))\n",
    "a = func_for_mutable(a)\n",
    "print('a = {}'.format(a))\n",
    "print(' * id(a)    = {} (after func() call)'.format(id(a)))\n",
    "print('')\n",
    "\n",
    "b = [10, 20]\n",
    "print('b = {}'.format(b))\n",
    "print(' * id(b)    = {} (before func() call)'.format(id(b)))\n",
    "func_for_mutable(b)\n",
    "print('b = {}'.format(b))\n",
    "print(' * id(b)    = {} (after func() call)'.format(id(b)))\n",
    "print('')\n",
    "\n",
    "c = [3, 4]\n",
    "print('c = {}'.format(c))\n",
    "print(' * id(c)    = {} (same value of first \\'a\\')'.format(id(c)))"
   ]
  },
  {
   "cell_type": "markdown",
   "id": "862827a7",
   "metadata": {},
   "source": [
    "## イミュータブルのデータ型の挙動\n",
    "\n",
    "関数の引数は参照渡しで扱われる為，関数外で変数を定義したメモリアドレスが示されるが，値を代入した時点で，その変数名のアドレスが変わる．  \n",
    "戻り値も参照渡しとなる為，関数内で確保されたメモリアドレスが呼び出し元の変数アドレスに反映される．  \n",
    "Pythonにはガベージコレクションの機能がついており，アドレス参照が切れたタイミングで自動でメモリが解放される．  \n",
    "手動でガベージコレクションを行う際は，gcモジュールを使用する．"
   ]
  },
  {
   "cell_type": "code",
   "execution_count": 3,
   "id": "70ee0d4e",
   "metadata": {},
   "outputs": [],
   "source": [
    "def func_for_immutable(arg):\n",
    "    print(' * id(arg) = {} (before change var in func())'.format(id(arg)))\n",
    "    arg = arg + 10\n",
    "    print(' * id(arg) = {} (after change var in func())'.format(id(arg)))\n",
    "    return arg"
   ]
  },
  {
   "cell_type": "code",
   "execution_count": 4,
   "id": "ec0e3918",
   "metadata": {},
   "outputs": [
    {
     "name": "stdout",
     "output_type": "stream",
     "text": [
      "a = 3\n",
      " * id(a)    = 140051698268528 (before func() call)\n",
      " * id(arg) = 140051698268528 (before change var in func())\n",
      " * id(arg) = 140051698268848 (after change var in func())\n",
      "a = 13\n",
      " * id(a)    = 140051698268848 (after func() call)\n",
      "\n",
      "b = 10\n",
      " * id(b)    = 140051698268752 (before func() call)\n",
      " * id(arg) = 140051698268752 (before change var in func())\n",
      " * id(arg) = 140051698269072 (after change var in func())\n",
      "b = 10\n",
      " * id(b)    = 140051698268752 (after func() call)\n",
      "\n",
      "c = 3\n",
      " * id(c)    = 140051698268528 (same value of first 'a')\n"
     ]
    }
   ],
   "source": [
    "a = 3\n",
    "print('a = {}'.format(a))\n",
    "print(' * id(a)    = {} (before func() call)'.format(id(a)))\n",
    "a = func_for_immutable(a)\n",
    "print('a = {}'.format(a))\n",
    "print(' * id(a)    = {} (after func() call)'.format(id(a)))\n",
    "print('')\n",
    "\n",
    "b = 10\n",
    "print('b = {}'.format(b))\n",
    "print(' * id(b)    = {} (before func() call)'.format(id(b)))\n",
    "func_for_immutable(b)\n",
    "print('b = {}'.format(b))\n",
    "print(' * id(b)    = {} (after func() call)'.format(id(b)))\n",
    "print('')\n",
    "\n",
    "c = 3\n",
    "print('c = {}'.format(c))\n",
    "print(' * id(c)    = {} (same value of first \\'a\\')'.format(id(c)))"
   ]
  },
  {
   "cell_type": "markdown",
   "id": "6397f6f6",
   "metadata": {},
   "source": [
    "## Reference\n",
    "\n",
    "* [3.1. オブジェクト、値、および型](https://docs.python.org/ja/3/reference/datamodel.html?highlight=mutable)\n",
    "* [第16回.Pythonの引数は参照渡しだが・・・](https://excel-ubara.com/python/python016.html)\n",
    "* [ミュータブルとイミュータブル](https://excel-ubara.com/python/python010.html#sec02)\n",
    "* [Python：ガベージコレクションが行われるタイミング](https://pyteyon.hatenablog.com/entry/2020/04/29/014008)"
   ]
  }
 ],
 "metadata": {
  "kernelspec": {
   "display_name": "Python 3",
   "language": "python",
   "name": "python3"
  },
  "language_info": {
   "codemirror_mode": {
    "name": "ipython",
    "version": 3
   },
   "file_extension": ".py",
   "mimetype": "text/x-python",
   "name": "python",
   "nbconvert_exporter": "python",
   "pygments_lexer": "ipython3",
   "version": "3.9.4"
  }
 },
 "nbformat": 4,
 "nbformat_minor": 5
}
