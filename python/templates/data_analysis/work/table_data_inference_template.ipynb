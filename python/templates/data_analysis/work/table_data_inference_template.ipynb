{
 "cells": [
  {
   "cell_type": "markdown",
   "metadata": {},
   "source": [
    "# テーブルデータ学習済みモデル推論テンプレート"
   ]
  },
  {
   "cell_type": "code",
   "execution_count": 1,
   "metadata": {},
   "outputs": [],
   "source": [
    "%load_ext autoreload\n",
    "%autoreload 2"
   ]
  },
  {
   "cell_type": "code",
   "execution_count": 2,
   "metadata": {},
   "outputs": [],
   "source": [
    "import os\n",
    "import pickle\n",
    "import pandas as pd\n",
    "import matplotlib.pyplot as plt\n",
    "import seaborn as sns; sns.set(font=\"IPAexGothic\")\n",
    "import lightgbm as lgb\n",
    "\n",
    "from pathlib import Path\n",
    "from lib.metrics import CalcMetrics"
   ]
  },
  {
   "cell_type": "code",
   "execution_count": 3,
   "metadata": {},
   "outputs": [],
   "source": [
    "DATASET_DIR='./dataset'\n",
    "MODEL_DIR='./models'"
   ]
  },
  {
   "cell_type": "markdown",
   "metadata": {},
   "source": [
    "## データセットの読み込み\n",
    "\n",
    "前処理後のpickle化されたデータを読み込む"
   ]
  },
  {
   "cell_type": "code",
   "execution_count": 4,
   "metadata": {},
   "outputs": [],
   "source": [
    "with open(Path(DATASET_DIR, 'train.pickle'), mode=\"rb\") as f:\n",
    "    train_data = pickle.load(f)\n",
    "    train_x = train_data['features']\n",
    "    train_y = train_data['target']\n",
    "\n",
    "with open(Path(DATASET_DIR, 'test.pickle'), mode=\"rb\") as f:\n",
    "    test_data = pickle.load(f)\n",
    "    test_x = test_data['features']\n",
    "    test_y = test_data['target']"
   ]
  },
  {
   "cell_type": "code",
   "execution_count": 5,
   "metadata": {},
   "outputs": [
    {
     "data": {
      "text/html": [
       "<div>\n",
       "<style scoped>\n",
       "    .dataframe tbody tr th:only-of-type {\n",
       "        vertical-align: middle;\n",
       "    }\n",
       "\n",
       "    .dataframe tbody tr th {\n",
       "        vertical-align: top;\n",
       "    }\n",
       "\n",
       "    .dataframe thead th {\n",
       "        text-align: right;\n",
       "    }\n",
       "</style>\n",
       "<table border=\"1\" class=\"dataframe\">\n",
       "  <thead>\n",
       "    <tr style=\"text-align: right;\">\n",
       "      <th></th>\n",
       "      <th>MedInc</th>\n",
       "      <th>HouseAge</th>\n",
       "      <th>AveRooms</th>\n",
       "      <th>AveBedrms</th>\n",
       "      <th>Population</th>\n",
       "      <th>AveOccup</th>\n",
       "      <th>Latitude</th>\n",
       "      <th>Longitude</th>\n",
       "    </tr>\n",
       "  </thead>\n",
       "  <tbody>\n",
       "    <tr>\n",
       "      <th>1989</th>\n",
       "      <td>1.9750</td>\n",
       "      <td>52.0</td>\n",
       "      <td>2.800000</td>\n",
       "      <td>0.700000</td>\n",
       "      <td>193.0</td>\n",
       "      <td>4.825000</td>\n",
       "      <td>36.73</td>\n",
       "      <td>-119.79</td>\n",
       "    </tr>\n",
       "    <tr>\n",
       "      <th>256</th>\n",
       "      <td>2.2604</td>\n",
       "      <td>43.0</td>\n",
       "      <td>3.671480</td>\n",
       "      <td>1.184116</td>\n",
       "      <td>836.0</td>\n",
       "      <td>3.018051</td>\n",
       "      <td>37.77</td>\n",
       "      <td>-122.21</td>\n",
       "    </tr>\n",
       "    <tr>\n",
       "      <th>7887</th>\n",
       "      <td>6.2990</td>\n",
       "      <td>17.0</td>\n",
       "      <td>6.478022</td>\n",
       "      <td>1.087912</td>\n",
       "      <td>1387.0</td>\n",
       "      <td>3.810440</td>\n",
       "      <td>33.87</td>\n",
       "      <td>-118.04</td>\n",
       "    </tr>\n",
       "    <tr>\n",
       "      <th>4581</th>\n",
       "      <td>1.7199</td>\n",
       "      <td>17.0</td>\n",
       "      <td>2.518000</td>\n",
       "      <td>1.196000</td>\n",
       "      <td>3051.0</td>\n",
       "      <td>3.051000</td>\n",
       "      <td>34.06</td>\n",
       "      <td>-118.28</td>\n",
       "    </tr>\n",
       "    <tr>\n",
       "      <th>1993</th>\n",
       "      <td>2.2206</td>\n",
       "      <td>50.0</td>\n",
       "      <td>4.622754</td>\n",
       "      <td>1.161677</td>\n",
       "      <td>606.0</td>\n",
       "      <td>3.628743</td>\n",
       "      <td>36.73</td>\n",
       "      <td>-119.81</td>\n",
       "    </tr>\n",
       "    <tr>\n",
       "      <th>...</th>\n",
       "      <td>...</td>\n",
       "      <td>...</td>\n",
       "      <td>...</td>\n",
       "      <td>...</td>\n",
       "      <td>...</td>\n",
       "      <td>...</td>\n",
       "      <td>...</td>\n",
       "      <td>...</td>\n",
       "    </tr>\n",
       "    <tr>\n",
       "      <th>13123</th>\n",
       "      <td>4.4125</td>\n",
       "      <td>20.0</td>\n",
       "      <td>6.000000</td>\n",
       "      <td>1.045662</td>\n",
       "      <td>712.0</td>\n",
       "      <td>3.251142</td>\n",
       "      <td>38.27</td>\n",
       "      <td>-121.26</td>\n",
       "    </tr>\n",
       "    <tr>\n",
       "      <th>19648</th>\n",
       "      <td>2.9135</td>\n",
       "      <td>27.0</td>\n",
       "      <td>5.349282</td>\n",
       "      <td>0.933014</td>\n",
       "      <td>647.0</td>\n",
       "      <td>3.095694</td>\n",
       "      <td>37.48</td>\n",
       "      <td>-120.89</td>\n",
       "    </tr>\n",
       "    <tr>\n",
       "      <th>9845</th>\n",
       "      <td>3.1977</td>\n",
       "      <td>31.0</td>\n",
       "      <td>3.641221</td>\n",
       "      <td>0.941476</td>\n",
       "      <td>704.0</td>\n",
       "      <td>1.791349</td>\n",
       "      <td>36.58</td>\n",
       "      <td>-121.90</td>\n",
       "    </tr>\n",
       "    <tr>\n",
       "      <th>10799</th>\n",
       "      <td>5.6315</td>\n",
       "      <td>34.0</td>\n",
       "      <td>4.540598</td>\n",
       "      <td>1.064103</td>\n",
       "      <td>1052.0</td>\n",
       "      <td>2.247863</td>\n",
       "      <td>33.62</td>\n",
       "      <td>-117.93</td>\n",
       "    </tr>\n",
       "    <tr>\n",
       "      <th>2732</th>\n",
       "      <td>1.3882</td>\n",
       "      <td>15.0</td>\n",
       "      <td>3.929530</td>\n",
       "      <td>1.100671</td>\n",
       "      <td>1024.0</td>\n",
       "      <td>3.436242</td>\n",
       "      <td>32.80</td>\n",
       "      <td>-115.56</td>\n",
       "    </tr>\n",
       "  </tbody>\n",
       "</table>\n",
       "<p>14448 rows × 8 columns</p>\n",
       "</div>"
      ],
      "text/plain": [
       "       MedInc  HouseAge  AveRooms  AveBedrms  Population  AveOccup  Latitude  \\\n",
       "1989   1.9750      52.0  2.800000   0.700000       193.0  4.825000     36.73   \n",
       "256    2.2604      43.0  3.671480   1.184116       836.0  3.018051     37.77   \n",
       "7887   6.2990      17.0  6.478022   1.087912      1387.0  3.810440     33.87   \n",
       "4581   1.7199      17.0  2.518000   1.196000      3051.0  3.051000     34.06   \n",
       "1993   2.2206      50.0  4.622754   1.161677       606.0  3.628743     36.73   \n",
       "...       ...       ...       ...        ...         ...       ...       ...   \n",
       "13123  4.4125      20.0  6.000000   1.045662       712.0  3.251142     38.27   \n",
       "19648  2.9135      27.0  5.349282   0.933014       647.0  3.095694     37.48   \n",
       "9845   3.1977      31.0  3.641221   0.941476       704.0  1.791349     36.58   \n",
       "10799  5.6315      34.0  4.540598   1.064103      1052.0  2.247863     33.62   \n",
       "2732   1.3882      15.0  3.929530   1.100671      1024.0  3.436242     32.80   \n",
       "\n",
       "       Longitude  \n",
       "1989     -119.79  \n",
       "256      -122.21  \n",
       "7887     -118.04  \n",
       "4581     -118.28  \n",
       "1993     -119.81  \n",
       "...          ...  \n",
       "13123    -121.26  \n",
       "19648    -120.89  \n",
       "9845     -121.90  \n",
       "10799    -117.93  \n",
       "2732     -115.56  \n",
       "\n",
       "[14448 rows x 8 columns]"
      ]
     },
     "execution_count": 5,
     "metadata": {},
     "output_type": "execute_result"
    }
   ],
   "source": [
    "train_x"
   ]
  },
  {
   "cell_type": "code",
   "execution_count": 6,
   "metadata": {
    "scrolled": true
   },
   "outputs": [
    {
     "data": {
      "text/html": [
       "<div>\n",
       "<style scoped>\n",
       "    .dataframe tbody tr th:only-of-type {\n",
       "        vertical-align: middle;\n",
       "    }\n",
       "\n",
       "    .dataframe tbody tr th {\n",
       "        vertical-align: top;\n",
       "    }\n",
       "\n",
       "    .dataframe thead th {\n",
       "        text-align: right;\n",
       "    }\n",
       "</style>\n",
       "<table border=\"1\" class=\"dataframe\">\n",
       "  <thead>\n",
       "    <tr style=\"text-align: right;\">\n",
       "      <th></th>\n",
       "      <th>TARGET</th>\n",
       "    </tr>\n",
       "  </thead>\n",
       "  <tbody>\n",
       "    <tr>\n",
       "      <th>1989</th>\n",
       "      <td>0.475</td>\n",
       "    </tr>\n",
       "    <tr>\n",
       "      <th>256</th>\n",
       "      <td>1.000</td>\n",
       "    </tr>\n",
       "    <tr>\n",
       "      <th>7887</th>\n",
       "      <td>2.858</td>\n",
       "    </tr>\n",
       "    <tr>\n",
       "      <th>4581</th>\n",
       "      <td>1.750</td>\n",
       "    </tr>\n",
       "    <tr>\n",
       "      <th>1993</th>\n",
       "      <td>0.592</td>\n",
       "    </tr>\n",
       "    <tr>\n",
       "      <th>...</th>\n",
       "      <td>...</td>\n",
       "    </tr>\n",
       "    <tr>\n",
       "      <th>13123</th>\n",
       "      <td>1.446</td>\n",
       "    </tr>\n",
       "    <tr>\n",
       "      <th>19648</th>\n",
       "      <td>1.594</td>\n",
       "    </tr>\n",
       "    <tr>\n",
       "      <th>9845</th>\n",
       "      <td>2.893</td>\n",
       "    </tr>\n",
       "    <tr>\n",
       "      <th>10799</th>\n",
       "      <td>4.846</td>\n",
       "    </tr>\n",
       "    <tr>\n",
       "      <th>2732</th>\n",
       "      <td>0.694</td>\n",
       "    </tr>\n",
       "  </tbody>\n",
       "</table>\n",
       "<p>14448 rows × 1 columns</p>\n",
       "</div>"
      ],
      "text/plain": [
       "       TARGET\n",
       "1989    0.475\n",
       "256     1.000\n",
       "7887    2.858\n",
       "4581    1.750\n",
       "1993    0.592\n",
       "...       ...\n",
       "13123   1.446\n",
       "19648   1.594\n",
       "9845    2.893\n",
       "10799   4.846\n",
       "2732    0.694\n",
       "\n",
       "[14448 rows x 1 columns]"
      ]
     },
     "execution_count": 6,
     "metadata": {},
     "output_type": "execute_result"
    }
   ],
   "source": [
    "train_y"
   ]
  },
  {
   "cell_type": "code",
   "execution_count": 7,
   "metadata": {},
   "outputs": [
    {
     "data": {
      "text/html": [
       "<div>\n",
       "<style scoped>\n",
       "    .dataframe tbody tr th:only-of-type {\n",
       "        vertical-align: middle;\n",
       "    }\n",
       "\n",
       "    .dataframe tbody tr th {\n",
       "        vertical-align: top;\n",
       "    }\n",
       "\n",
       "    .dataframe thead th {\n",
       "        text-align: right;\n",
       "    }\n",
       "</style>\n",
       "<table border=\"1\" class=\"dataframe\">\n",
       "  <thead>\n",
       "    <tr style=\"text-align: right;\">\n",
       "      <th></th>\n",
       "      <th>MedInc</th>\n",
       "      <th>HouseAge</th>\n",
       "      <th>AveRooms</th>\n",
       "      <th>AveBedrms</th>\n",
       "      <th>Population</th>\n",
       "      <th>AveOccup</th>\n",
       "      <th>Latitude</th>\n",
       "      <th>Longitude</th>\n",
       "    </tr>\n",
       "  </thead>\n",
       "  <tbody>\n",
       "    <tr>\n",
       "      <th>14740</th>\n",
       "      <td>4.1518</td>\n",
       "      <td>22.0</td>\n",
       "      <td>5.663073</td>\n",
       "      <td>1.075472</td>\n",
       "      <td>1551.0</td>\n",
       "      <td>4.180593</td>\n",
       "      <td>32.58</td>\n",
       "      <td>-117.05</td>\n",
       "    </tr>\n",
       "    <tr>\n",
       "      <th>10101</th>\n",
       "      <td>5.7796</td>\n",
       "      <td>32.0</td>\n",
       "      <td>6.107226</td>\n",
       "      <td>0.927739</td>\n",
       "      <td>1296.0</td>\n",
       "      <td>3.020979</td>\n",
       "      <td>33.92</td>\n",
       "      <td>-117.97</td>\n",
       "    </tr>\n",
       "    <tr>\n",
       "      <th>20566</th>\n",
       "      <td>4.3487</td>\n",
       "      <td>29.0</td>\n",
       "      <td>5.930712</td>\n",
       "      <td>1.026217</td>\n",
       "      <td>1554.0</td>\n",
       "      <td>2.910112</td>\n",
       "      <td>38.65</td>\n",
       "      <td>-121.84</td>\n",
       "    </tr>\n",
       "    <tr>\n",
       "      <th>2670</th>\n",
       "      <td>2.4511</td>\n",
       "      <td>37.0</td>\n",
       "      <td>4.992958</td>\n",
       "      <td>1.316901</td>\n",
       "      <td>390.0</td>\n",
       "      <td>2.746479</td>\n",
       "      <td>33.20</td>\n",
       "      <td>-115.60</td>\n",
       "    </tr>\n",
       "    <tr>\n",
       "      <th>15709</th>\n",
       "      <td>5.0049</td>\n",
       "      <td>25.0</td>\n",
       "      <td>4.319261</td>\n",
       "      <td>1.039578</td>\n",
       "      <td>649.0</td>\n",
       "      <td>1.712401</td>\n",
       "      <td>37.79</td>\n",
       "      <td>-122.43</td>\n",
       "    </tr>\n",
       "    <tr>\n",
       "      <th>...</th>\n",
       "      <td>...</td>\n",
       "      <td>...</td>\n",
       "      <td>...</td>\n",
       "      <td>...</td>\n",
       "      <td>...</td>\n",
       "      <td>...</td>\n",
       "      <td>...</td>\n",
       "      <td>...</td>\n",
       "    </tr>\n",
       "    <tr>\n",
       "      <th>19681</th>\n",
       "      <td>3.0962</td>\n",
       "      <td>36.0</td>\n",
       "      <td>4.746421</td>\n",
       "      <td>0.930470</td>\n",
       "      <td>1168.0</td>\n",
       "      <td>2.388548</td>\n",
       "      <td>39.15</td>\n",
       "      <td>-121.62</td>\n",
       "    </tr>\n",
       "    <tr>\n",
       "      <th>12156</th>\n",
       "      <td>4.1386</td>\n",
       "      <td>2.0</td>\n",
       "      <td>8.821216</td>\n",
       "      <td>1.414779</td>\n",
       "      <td>2826.0</td>\n",
       "      <td>3.368296</td>\n",
       "      <td>33.66</td>\n",
       "      <td>-117.17</td>\n",
       "    </tr>\n",
       "    <tr>\n",
       "      <th>10211</th>\n",
       "      <td>7.8750</td>\n",
       "      <td>30.0</td>\n",
       "      <td>7.550926</td>\n",
       "      <td>0.981481</td>\n",
       "      <td>523.0</td>\n",
       "      <td>2.421296</td>\n",
       "      <td>33.89</td>\n",
       "      <td>-117.91</td>\n",
       "    </tr>\n",
       "    <tr>\n",
       "      <th>2445</th>\n",
       "      <td>2.0658</td>\n",
       "      <td>34.0</td>\n",
       "      <td>5.938144</td>\n",
       "      <td>1.206186</td>\n",
       "      <td>363.0</td>\n",
       "      <td>3.742268</td>\n",
       "      <td>36.56</td>\n",
       "      <td>-119.64</td>\n",
       "    </tr>\n",
       "    <tr>\n",
       "      <th>17914</th>\n",
       "      <td>4.6761</td>\n",
       "      <td>32.0</td>\n",
       "      <td>5.315152</td>\n",
       "      <td>0.981818</td>\n",
       "      <td>917.0</td>\n",
       "      <td>2.778788</td>\n",
       "      <td>37.36</td>\n",
       "      <td>-121.99</td>\n",
       "    </tr>\n",
       "  </tbody>\n",
       "</table>\n",
       "<p>6192 rows × 8 columns</p>\n",
       "</div>"
      ],
      "text/plain": [
       "       MedInc  HouseAge  AveRooms  AveBedrms  Population  AveOccup  Latitude  \\\n",
       "14740  4.1518      22.0  5.663073   1.075472      1551.0  4.180593     32.58   \n",
       "10101  5.7796      32.0  6.107226   0.927739      1296.0  3.020979     33.92   \n",
       "20566  4.3487      29.0  5.930712   1.026217      1554.0  2.910112     38.65   \n",
       "2670   2.4511      37.0  4.992958   1.316901       390.0  2.746479     33.20   \n",
       "15709  5.0049      25.0  4.319261   1.039578       649.0  1.712401     37.79   \n",
       "...       ...       ...       ...        ...         ...       ...       ...   \n",
       "19681  3.0962      36.0  4.746421   0.930470      1168.0  2.388548     39.15   \n",
       "12156  4.1386       2.0  8.821216   1.414779      2826.0  3.368296     33.66   \n",
       "10211  7.8750      30.0  7.550926   0.981481       523.0  2.421296     33.89   \n",
       "2445   2.0658      34.0  5.938144   1.206186       363.0  3.742268     36.56   \n",
       "17914  4.6761      32.0  5.315152   0.981818       917.0  2.778788     37.36   \n",
       "\n",
       "       Longitude  \n",
       "14740    -117.05  \n",
       "10101    -117.97  \n",
       "20566    -121.84  \n",
       "2670     -115.60  \n",
       "15709    -122.43  \n",
       "...          ...  \n",
       "19681    -121.62  \n",
       "12156    -117.17  \n",
       "10211    -117.91  \n",
       "2445     -119.64  \n",
       "17914    -121.99  \n",
       "\n",
       "[6192 rows x 8 columns]"
      ]
     },
     "execution_count": 7,
     "metadata": {},
     "output_type": "execute_result"
    }
   ],
   "source": [
    "test_x"
   ]
  },
  {
   "cell_type": "code",
   "execution_count": 8,
   "metadata": {},
   "outputs": [
    {
     "data": {
      "text/html": [
       "<div>\n",
       "<style scoped>\n",
       "    .dataframe tbody tr th:only-of-type {\n",
       "        vertical-align: middle;\n",
       "    }\n",
       "\n",
       "    .dataframe tbody tr th {\n",
       "        vertical-align: top;\n",
       "    }\n",
       "\n",
       "    .dataframe thead th {\n",
       "        text-align: right;\n",
       "    }\n",
       "</style>\n",
       "<table border=\"1\" class=\"dataframe\">\n",
       "  <thead>\n",
       "    <tr style=\"text-align: right;\">\n",
       "      <th></th>\n",
       "      <th>TARGET</th>\n",
       "    </tr>\n",
       "  </thead>\n",
       "  <tbody>\n",
       "    <tr>\n",
       "      <th>14740</th>\n",
       "      <td>1.369</td>\n",
       "    </tr>\n",
       "    <tr>\n",
       "      <th>10101</th>\n",
       "      <td>2.413</td>\n",
       "    </tr>\n",
       "    <tr>\n",
       "      <th>20566</th>\n",
       "      <td>2.007</td>\n",
       "    </tr>\n",
       "    <tr>\n",
       "      <th>2670</th>\n",
       "      <td>0.725</td>\n",
       "    </tr>\n",
       "    <tr>\n",
       "      <th>15709</th>\n",
       "      <td>4.600</td>\n",
       "    </tr>\n",
       "    <tr>\n",
       "      <th>...</th>\n",
       "      <td>...</td>\n",
       "    </tr>\n",
       "    <tr>\n",
       "      <th>19681</th>\n",
       "      <td>0.740</td>\n",
       "    </tr>\n",
       "    <tr>\n",
       "      <th>12156</th>\n",
       "      <td>1.773</td>\n",
       "    </tr>\n",
       "    <tr>\n",
       "      <th>10211</th>\n",
       "      <td>3.519</td>\n",
       "    </tr>\n",
       "    <tr>\n",
       "      <th>2445</th>\n",
       "      <td>0.925</td>\n",
       "    </tr>\n",
       "    <tr>\n",
       "      <th>17914</th>\n",
       "      <td>2.983</td>\n",
       "    </tr>\n",
       "  </tbody>\n",
       "</table>\n",
       "<p>6192 rows × 1 columns</p>\n",
       "</div>"
      ],
      "text/plain": [
       "       TARGET\n",
       "14740   1.369\n",
       "10101   2.413\n",
       "20566   2.007\n",
       "2670    0.725\n",
       "15709   4.600\n",
       "...       ...\n",
       "19681   0.740\n",
       "12156   1.773\n",
       "10211   3.519\n",
       "2445    0.925\n",
       "17914   2.983\n",
       "\n",
       "[6192 rows x 1 columns]"
      ]
     },
     "execution_count": 8,
     "metadata": {},
     "output_type": "execute_result"
    }
   ],
   "source": [
    "test_y"
   ]
  },
  {
   "cell_type": "markdown",
   "metadata": {},
   "source": [
    "## 学習済みモデルのロードと推論"
   ]
  },
  {
   "cell_type": "code",
   "execution_count": 9,
   "metadata": {},
   "outputs": [],
   "source": [
    "with open(Path(MODEL_DIR, 'lightgbm_model.pickle'), mode=\"rb\") as f:\n",
    "    model = pickle.load(f)"
   ]
  },
  {
   "cell_type": "markdown",
   "metadata": {},
   "source": [
    "### 特徴量の重要度を表示"
   ]
  },
  {
   "cell_type": "code",
   "execution_count": 10,
   "metadata": {},
   "outputs": [
    {
     "data": {
      "image/png": "[encoded data removed]",
      "text/plain": [
       "<Figure size 1200x800 with 1 Axes>"
      ]
     },
     "metadata": {},
     "output_type": "display_data"
    }
   ],
   "source": [
    "lgb.plot_importance(model, figsize=(12,8), max_num_features=50, importance_type='gain')\n",
    "plt.tight_layout()\n",
    "plt.show()\n",
    "plt.close()"
   ]
  },
  {
   "cell_type": "markdown",
   "metadata": {},
   "source": [
    "## Calculate Metrics"
   ]
  },
  {
   "cell_type": "code",
   "execution_count": 11,
   "metadata": {},
   "outputs": [],
   "source": [
    "train_pred = model.predict(train_x)\n",
    "test_pred = model.predict(test_x)"
   ]
  },
  {
   "cell_type": "code",
   "execution_count": 12,
   "metadata": {},
   "outputs": [],
   "source": [
    "train_metrics = CalcMetrics(train_y, train_pred)\n",
    "test_metrics = CalcMetrics(test_y, test_pred)"
   ]
  },
  {
   "cell_type": "markdown",
   "metadata": {},
   "source": [
    "### MAE"
   ]
  },
  {
   "cell_type": "code",
   "execution_count": 13,
   "metadata": {},
   "outputs": [
    {
     "name": "stdout",
     "output_type": "stream",
     "text": [
      "MAE train data: 0.216\n",
      "MAE test data: 0.297\n"
     ]
    }
   ],
   "source": [
    "print(f'MAE train data: {train_metrics.mae:.3f}')\n",
    "print(f'MAE test data: {test_metrics.mae:.3f}')"
   ]
  },
  {
   "cell_type": "markdown",
   "metadata": {},
   "source": [
    "### MSE"
   ]
  },
  {
   "cell_type": "code",
   "execution_count": 14,
   "metadata": {},
   "outputs": [
    {
     "name": "stdout",
     "output_type": "stream",
     "text": [
      "MSE train data: 0.096\n",
      "MSE test data: 0.201\n"
     ]
    }
   ],
   "source": [
    "print(f'MSE train data: {train_metrics.mse:.3f}')\n",
    "print(f'MSE test data: {test_metrics.mse:.3f}')"
   ]
  },
  {
   "cell_type": "markdown",
   "metadata": {},
   "source": [
    "### R2 Score"
   ]
  },
  {
   "cell_type": "code",
   "execution_count": 15,
   "metadata": {},
   "outputs": [
    {
     "name": "stdout",
     "output_type": "stream",
     "text": [
      "R2 train data: 0.917\n",
      "R2 test data: 0.820\n"
     ]
    }
   ],
   "source": [
    "print(f'R2 train data: {train_metrics.r2_score:.3f}')\n",
    "print(f'R2 test data: {test_metrics.r2_score:.3f}')"
   ]
  }
 ],
 "metadata": {
  "kernelspec": {
   "display_name": "Python 3",
   "language": "python",
   "name": "python3"
  },
  "language_info": {
   "codemirror_mode": {
    "name": "ipython",
    "version": 3
   },
   "file_extension": ".py",
   "mimetype": "text/x-python",
   "name": "python",
   "nbconvert_exporter": "python",
   "pygments_lexer": "ipython3",
   "version": "3.8.10"
  }
 },
 "nbformat": 4,
 "nbformat_minor": 2
}
