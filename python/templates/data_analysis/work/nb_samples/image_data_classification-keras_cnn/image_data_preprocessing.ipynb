{
 "cells": [
  {
   "cell_type": "markdown",
   "metadata": {},
   "source": [
    "# CIFAR-10データセットの前処理"
   ]
  },
  {
   "cell_type": "code",
   "execution_count": 1,
   "metadata": {},
   "outputs": [],
   "source": [
    "%load_ext autoreload\n",
    "%autoreload 2"
   ]
  },
  {
   "cell_type": "code",
   "execution_count": 2,
   "metadata": {},
   "outputs": [],
   "source": [
    "import pickle\n",
    "\n",
    "from pathlib import Path\n",
    "\n",
    "from data_loader import load_cifar10"
   ]
  },
  {
   "cell_type": "code",
   "execution_count": 3,
   "metadata": {},
   "outputs": [],
   "source": [
    "DATASET_DOWNLOAD_DIR = '/tf/data'\n",
    "DATASET_SAVE_DIR = './dataset'"
   ]
  },
  {
   "cell_type": "markdown",
   "metadata": {},
   "source": [
    "## データセットの読み込み\n",
    "\n",
    "CIFAR-10データセットのダウンロードおよび読み込みを行う．"
   ]
  },
  {
   "cell_type": "markdown",
   "metadata": {},
   "source": [
    "### CIFAR-10データセットのダウンロード"
   ]
  },
  {
   "cell_type": "code",
   "execution_count": 4,
   "metadata": {},
   "outputs": [],
   "source": [
    "CIFAR10_URL = 'https://www.cs.toronto.edu/~kriz/cifar-10-python.tar.gz'\n",
    "CIFAR10_SAVE_FILE = Path(DATASET_DOWNLOAD_DIR, 'cifar-10-python.tar.gz')\n",
    "CIFAR10_EXTRACTED_PATH = Path(DATASET_DOWNLOAD_DIR, 'cifar-10-batches-py')\n",
    "\n",
    "if (not CIFAR10_SAVE_FILE.exists()):\n",
    "    !curl {CIFAR10_URL} -o {str(CIFAR10_SAVE_FILE)}\n",
    "    !tar -zxf {CIFAR10_SAVE_FILE} -C {DATASET_DOWNLOAD_DIR}"
   ]
  },
  {
   "cell_type": "markdown",
   "metadata": {},
   "source": [
    "### CIFAR-10データセットの読み込み"
   ]
  },
  {
   "cell_type": "code",
   "execution_count": 5,
   "metadata": {
    "scrolled": true
   },
   "outputs": [],
   "source": [
    "dict_x, dict_y = load_cifar10(CIFAR10_EXTRACTED_PATH)"
   ]
  },
  {
   "cell_type": "markdown",
   "metadata": {},
   "source": [
    "## 前処理"
   ]
  },
  {
   "cell_type": "markdown",
   "metadata": {},
   "source": [
    "T.B.D"
   ]
  },
  {
   "cell_type": "markdown",
   "metadata": {},
   "source": [
    "## 前処理結果をpickleで保存"
   ]
  },
  {
   "cell_type": "code",
   "execution_count": 6,
   "metadata": {},
   "outputs": [],
   "source": [
    "train_data = {'features': dict_x['train'], 'target': dict_y['train']}\n",
    "with open(Path(DATASET_SAVE_DIR, 'train.pickle'), mode=\"wb\") as f:\n",
    "    pickle.dump(train_data, f)\n",
    "    \n",
    "test_data = {'features': dict_x['test'], 'target': dict_x['test']}\n",
    "with open(Path(DATASET_SAVE_DIR, 'test.pickle'), mode=\"wb\") as f:\n",
    "    pickle.dump(test_data, f)\n",
    "\n",
    "meta_data = {'label_names': dict_y['label_names']}\n",
    "with open(Path(DATASET_SAVE_DIR, 'meta_data.pickle'), mode=\"wb\") as f:\n",
    "    pickle.dump(meta_data, f)"
   ]
  }
 ],
 "metadata": {
  "kernelspec": {
   "display_name": "Python 3",
   "language": "python",
   "name": "python3"
  },
  "language_info": {
   "codemirror_mode": {
    "name": "ipython",
    "version": 3
   },
   "file_extension": ".py",
   "mimetype": "text/x-python",
   "name": "python",
   "nbconvert_exporter": "python",
   "pygments_lexer": "ipython3",
   "version": "3.8.10"
  }
 },
 "nbformat": 4,
 "nbformat_minor": 2
}
