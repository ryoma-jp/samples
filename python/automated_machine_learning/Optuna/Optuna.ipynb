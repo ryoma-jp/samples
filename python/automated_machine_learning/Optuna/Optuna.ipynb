{
 "cells": [
  {
   "cell_type": "markdown",
   "id": "e630cfa6",
   "metadata": {},
   "source": [
    "# Optunaの動作確認サンプル\n",
    "\n",
    "ハイパーパラメータの自動チューニングができるライブラリ[Optuna](https://www.preferred.jp/ja/projects/optuna/)の動作確認を行う．  \n",
    "機械学習モデルの開発において，精度向上の最後の一押しを効率化できる．\n",
    "\n",
    "[GBDTの試行](https://qiita.com/DS27/items/aa3f6d0f03a8053e5810#6-gbdt%E5%8B%BE%E9%85%8D%E3%83%96%E3%83%BC%E3%82%B9%E3%83%86%E3%82%A3%E3%83%B3%E3%82%B0%E6%9C%A8%E3%81%AB%E3%81%A4%E3%81%84%E3%81%A6)で高い精度が得られており，このモデルをハイパーパラメータチューニングのベースラインとする．"
   ]
  },
  {
   "cell_type": "markdown",
   "metadata": {},
   "source": [
    "## データセットの読み込み(ボストン住宅価格)"
   ]
  },
  {
   "cell_type": "code",
   "execution_count": 1,
   "metadata": {},
   "outputs": [],
   "source": [
    "from sklearn.datasets import load_boston\n",
    "import pandas as pd\n",
    "\n",
    "boston = load_boston()\n",
    "df_x_boston = pd.DataFrame(boston['data'], columns=boston['feature_names'])\n",
    "df_y_boston = pd.DataFrame(boston['target'], columns=['MEDV'])\n",
    "df_boston = pd.concat([df_x_boston, df_y_boston], axis=1)"
   ]
  },
  {
   "cell_type": "markdown",
   "metadata": {},
   "source": [
    "### 欠損値確認"
   ]
  },
  {
   "cell_type": "code",
   "execution_count": 2,
   "metadata": {
    "scrolled": true
   },
   "outputs": [
    {
     "data": {
      "text/plain": [
       "CRIM       0\n",
       "ZN         0\n",
       "INDUS      0\n",
       "CHAS       0\n",
       "NOX        0\n",
       "RM         0\n",
       "AGE        0\n",
       "DIS        0\n",
       "RAD        0\n",
       "TAX        0\n",
       "PTRATIO    0\n",
       "B          0\n",
       "LSTAT      0\n",
       "MEDV       0\n",
       "dtype: int64"
      ]
     },
     "execution_count": 2,
     "metadata": {},
     "output_type": "execute_result"
    }
   ],
   "source": [
    "df_boston.isnull().sum()"
   ]
  },
  {
   "cell_type": "markdown",
   "metadata": {},
   "source": [
    "### 学習データと評価データの分割"
   ]
  },
  {
   "cell_type": "code",
   "execution_count": 3,
   "metadata": {},
   "outputs": [],
   "source": [
    "from sklearn.model_selection import train_test_split\n",
    "\n",
    "x_train, x_test, y_train, y_test = train_test_split(df_x_boston, df_y_boston, test_size=0.2, random_state=1)"
   ]
  },
  {
   "cell_type": "markdown",
   "metadata": {},
   "source": [
    "### データの標準化"
   ]
  },
  {
   "cell_type": "code",
   "execution_count": 4,
   "metadata": {},
   "outputs": [],
   "source": [
    "from sklearn.preprocessing import StandardScaler\n",
    "sc = StandardScaler()\n",
    "sc.fit(x_train)\n",
    "x_train_std = sc.transform(x_train)\n",
    "x_test_std = sc.transform(x_test)"
   ]
  },
  {
   "cell_type": "markdown",
   "metadata": {},
   "source": [
    "## GBDTの学習と評価"
   ]
  },
  {
   "cell_type": "code",
   "execution_count": 5,
   "metadata": {
    "scrolled": true
   },
   "outputs": [
    {
     "name": "stdout",
     "output_type": "stream",
     "text": [
      "R2 : 0.922\n",
      "MAE : 2.186\n"
     ]
    },
    {
     "name": "stderr",
     "output_type": "stream",
     "text": [
      "/usr/local/lib/python3.6/dist-packages/sklearn/utils/validation.py:63: DataConversionWarning: A column-vector y was passed when a 1d array was expected. Please change the shape of y to (n_samples, ), for example using ravel().\n",
      "  return f(*args, **kwargs)\n"
     ]
    }
   ],
   "source": [
    "from sklearn.ensemble import GradientBoostingRegressor\n",
    "from sklearn.metrics import r2_score\n",
    "from sklearn.metrics import mean_absolute_error\n",
    "\n",
    "gbr = GradientBoostingRegressor()\n",
    "gbr.fit(x_train_std, y_train)\n",
    "\n",
    "pred_gbr = gbr.predict(x_test_std)\n",
    "r2_gbr = r2_score(y_test, pred_gbr)\n",
    "mae_gbr = mean_absolute_error(y_test, pred_gbr)\n",
    "\n",
    "print(\"R2 : %.3f\" % r2_gbr)\n",
    "print(\"MAE : %.3f\" % mae_gbr)"
   ]
  },
  {
   "cell_type": "markdown",
   "metadata": {},
   "source": [
    "### Optuna\n",
    "\n",
    "GradientBoostingRegressorデフォルト値\n",
    "\n",
    "```\n",
    "class sklearn.ensemble.GradientBoostingRegressor(*, loss='squared_error', learning_rate=0.1, n_estimators=100, subsample=1.0, criterion='friedman_mse', min_samples_split=2, min_samples_leaf=1, min_weight_fraction_leaf=0.0, max_depth=3, min_impurity_decrease=0.0, init=None, random_state=None, max_features=None, alpha=0.9, verbose=0, max_leaf_nodes=None, warm_start=False, validation_fraction=0.1, n_iter_no_change=None, tol=0.0001, ccp_alpha=0.0)\n",
    "```\n"
   ]
  },
  {
   "cell_type": "code",
   "execution_count": 6,
   "metadata": {},
   "outputs": [],
   "source": [
    "import optuna"
   ]
  },
  {
   "cell_type": "code",
   "execution_count": 7,
   "metadata": {
    "scrolled": true
   },
   "outputs": [
    {
     "name": "stderr",
     "output_type": "stream",
     "text": [
      "\u001b[32m[I 2021-12-05 11:43:18,045]\u001b[0m A new study created in memory with name: no-name-e80700c8-817f-461d-adba-840f67709913\u001b[0m\n",
      "/usr/local/lib/python3.6/dist-packages/sklearn/utils/validation.py:63: DataConversionWarning: A column-vector y was passed when a 1d array was expected. Please change the shape of y to (n_samples, ), for example using ravel().\n",
      "  return f(*args, **kwargs)\n",
      "\u001b[32m[I 2021-12-05 11:43:18,273]\u001b[0m Trial 0 finished with value: 0.09385112682768326 and parameters: {'learning_rate': 0.0249345854659195, 'n_estimators': 191, 'min_samples_split': 2, 'min_samples_leaf': 2, 'max_depth': 6}. Best is trial 0 with value: 0.09385112682768326.\u001b[0m\n",
      "/usr/local/lib/python3.6/dist-packages/sklearn/utils/validation.py:63: DataConversionWarning: A column-vector y was passed when a 1d array was expected. Please change the shape of y to (n_samples, ), for example using ravel().\n",
      "  return f(*args, **kwargs)\n",
      "\u001b[32m[I 2021-12-05 11:43:18,353]\u001b[0m Trial 1 finished with value: 0.6758689137472803 and parameters: {'learning_rate': 0.002572748234032556, 'n_estimators': 89, 'min_samples_split': 8, 'min_samples_leaf': 4, 'max_depth': 4}. Best is trial 0 with value: 0.09385112682768326.\u001b[0m\n",
      "/usr/local/lib/python3.6/dist-packages/sklearn/utils/validation.py:63: DataConversionWarning: A column-vector y was passed when a 1d array was expected. Please change the shape of y to (n_samples, ), for example using ravel().\n",
      "  return f(*args, **kwargs)\n",
      "\u001b[32m[I 2021-12-05 11:43:18,586]\u001b[0m Trial 2 finished with value: 0.16710390152768895 and parameters: {'learning_rate': 0.005695711947584472, 'n_estimators': 275, 'min_samples_split': 2, 'min_samples_leaf': 7, 'max_depth': 4}. Best is trial 0 with value: 0.09385112682768326.\u001b[0m\n",
      "/usr/local/lib/python3.6/dist-packages/sklearn/utils/validation.py:63: DataConversionWarning: A column-vector y was passed when a 1d array was expected. Please change the shape of y to (n_samples, ), for example using ravel().\n",
      "  return f(*args, **kwargs)\n",
      "\u001b[32m[I 2021-12-05 11:43:19,140]\u001b[0m Trial 3 finished with value: 0.2717327121127524 and parameters: {'learning_rate': 0.0012609342084301698, 'n_estimators': 796, 'min_samples_split': 5, 'min_samples_leaf': 2, 'max_depth': 3}. Best is trial 0 with value: 0.09385112682768326.\u001b[0m\n",
      "/usr/local/lib/python3.6/dist-packages/sklearn/utils/validation.py:63: DataConversionWarning: A column-vector y was passed when a 1d array was expected. Please change the shape of y to (n_samples, ), for example using ravel().\n",
      "  return f(*args, **kwargs)\n",
      "\u001b[32m[I 2021-12-05 11:43:20,147]\u001b[0m Trial 4 finished with value: 0.12632932721370937 and parameters: {'learning_rate': 0.002452036499617821, 'n_estimators': 875, 'min_samples_split': 2, 'min_samples_leaf': 3, 'max_depth': 6}. Best is trial 0 with value: 0.09385112682768326.\u001b[0m\n",
      "/usr/local/lib/python3.6/dist-packages/sklearn/utils/validation.py:63: DataConversionWarning: A column-vector y was passed when a 1d array was expected. Please change the shape of y to (n_samples, ), for example using ravel().\n",
      "  return f(*args, **kwargs)\n",
      "\u001b[32m[I 2021-12-05 11:43:20,639]\u001b[0m Trial 5 finished with value: 0.1026264912203324 and parameters: {'learning_rate': 0.004503257472858782, 'n_estimators': 945, 'min_samples_split': 3, 'min_samples_leaf': 2, 'max_depth': 2}. Best is trial 0 with value: 0.09385112682768326.\u001b[0m\n",
      "/usr/local/lib/python3.6/dist-packages/sklearn/utils/validation.py:63: DataConversionWarning: A column-vector y was passed when a 1d array was expected. Please change the shape of y to (n_samples, ), for example using ravel().\n",
      "  return f(*args, **kwargs)\n",
      "\u001b[32m[I 2021-12-05 11:43:20,924]\u001b[0m Trial 6 finished with value: 0.13046264529000762 and parameters: {'learning_rate': 0.06419370718465475, 'n_estimators': 257, 'min_samples_split': 10, 'min_samples_leaf': 10, 'max_depth': 6}. Best is trial 0 with value: 0.09385112682768326.\u001b[0m\n",
      "/usr/local/lib/python3.6/dist-packages/sklearn/utils/validation.py:63: DataConversionWarning: A column-vector y was passed when a 1d array was expected. Please change the shape of y to (n_samples, ), for example using ravel().\n",
      "  return f(*args, **kwargs)\n",
      "\u001b[32m[I 2021-12-05 11:43:21,177]\u001b[0m Trial 7 finished with value: 0.10012250323595273 and parameters: {'learning_rate': 0.04151904284217126, 'n_estimators': 253, 'min_samples_split': 3, 'min_samples_leaf': 9, 'max_depth': 5}. Best is trial 0 with value: 0.09385112682768326.\u001b[0m\n",
      "/usr/local/lib/python3.6/dist-packages/sklearn/utils/validation.py:63: DataConversionWarning: A column-vector y was passed when a 1d array was expected. Please change the shape of y to (n_samples, ), for example using ravel().\n",
      "  return f(*args, **kwargs)\n",
      "\u001b[32m[I 2021-12-05 11:43:21,460]\u001b[0m Trial 8 finished with value: 0.08010294297988496 and parameters: {'learning_rate': 0.025840878808374258, 'n_estimators': 330, 'min_samples_split': 2, 'min_samples_leaf': 1, 'max_depth': 4}. Best is trial 8 with value: 0.08010294297988496.\u001b[0m\n",
      "/usr/local/lib/python3.6/dist-packages/sklearn/utils/validation.py:63: DataConversionWarning: A column-vector y was passed when a 1d array was expected. Please change the shape of y to (n_samples, ), for example using ravel().\n",
      "  return f(*args, **kwargs)\n",
      "\u001b[32m[I 2021-12-05 11:43:22,502]\u001b[0m Trial 9 finished with value: 0.08265839939108399 and parameters: {'learning_rate': 0.006472781607847938, 'n_estimators': 716, 'min_samples_split': 9, 'min_samples_leaf': 3, 'max_depth': 9}. Best is trial 8 with value: 0.08010294297988496.\u001b[0m\n",
      "/usr/local/lib/python3.6/dist-packages/sklearn/utils/validation.py:63: DataConversionWarning: A column-vector y was passed when a 1d array was expected. Please change the shape of y to (n_samples, ), for example using ravel().\n",
      "  return f(*args, **kwargs)\n",
      "\u001b[32m[I 2021-12-05 11:43:22,693]\u001b[0m Trial 10 finished with value: 0.13394140848476976 and parameters: {'learning_rate': 0.017301046542932172, 'n_estimators': 517, 'min_samples_split': 6, 'min_samples_leaf': 6, 'max_depth': 1}. Best is trial 8 with value: 0.08010294297988496.\u001b[0m\n",
      "/usr/local/lib/python3.6/dist-packages/sklearn/utils/validation.py:63: DataConversionWarning: A column-vector y was passed when a 1d array was expected. Please change the shape of y to (n_samples, ), for example using ravel().\n",
      "  return f(*args, **kwargs)\n",
      "\u001b[32m[I 2021-12-05 11:43:23,635]\u001b[0m Trial 11 finished with value: 0.1015952549108824 and parameters: {'learning_rate': 0.011222784061290488, 'n_estimators': 583, 'min_samples_split': 9, 'min_samples_leaf': 1, 'max_depth': 10}. Best is trial 8 with value: 0.08010294297988496.\u001b[0m\n",
      "/usr/local/lib/python3.6/dist-packages/sklearn/utils/validation.py:63: DataConversionWarning: A column-vector y was passed when a 1d array was expected. Please change the shape of y to (n_samples, ), for example using ravel().\n",
      "  return f(*args, **kwargs)\n",
      "\u001b[32m[I 2021-12-05 11:43:24,630]\u001b[0m Trial 12 finished with value: 0.09565414730230981 and parameters: {'learning_rate': 0.009329059982230185, 'n_estimators': 686, 'min_samples_split': 7, 'min_samples_leaf': 4, 'max_depth': 9}. Best is trial 8 with value: 0.08010294297988496.\u001b[0m\n",
      "/usr/local/lib/python3.6/dist-packages/sklearn/utils/validation.py:63: DataConversionWarning: A column-vector y was passed when a 1d array was expected. Please change the shape of y to (n_samples, ), for example using ravel().\n",
      "  return f(*args, **kwargs)\n",
      "\u001b[32m[I 2021-12-05 11:43:25,257]\u001b[0m Trial 13 finished with value: 0.11571283682104416 and parameters: {'learning_rate': 0.08625826525517954, 'n_estimators': 415, 'min_samples_split': 5, 'min_samples_leaf': 1, 'max_depth': 8}. Best is trial 8 with value: 0.08010294297988496.\u001b[0m\n",
      "/usr/local/lib/python3.6/dist-packages/sklearn/utils/validation.py:63: DataConversionWarning: A column-vector y was passed when a 1d array was expected. Please change the shape of y to (n_samples, ), for example using ravel().\n",
      "  return f(*args, **kwargs)\n",
      "\u001b[32m[I 2021-12-05 11:43:25,860]\u001b[0m Trial 14 finished with value: 0.10081305357464543 and parameters: {'learning_rate': 0.027579871787850065, 'n_estimators': 434, 'min_samples_split': 10, 'min_samples_leaf': 5, 'max_depth': 8}. Best is trial 8 with value: 0.08010294297988496.\u001b[0m\n",
      "/usr/local/lib/python3.6/dist-packages/sklearn/utils/validation.py:63: DataConversionWarning: A column-vector y was passed when a 1d array was expected. Please change the shape of y to (n_samples, ), for example using ravel().\n",
      "  return f(*args, **kwargs)\n"
     ]
    },
    {
     "name": "stderr",
     "output_type": "stream",
     "text": [
      "\u001b[32m[I 2021-12-05 11:43:26,835]\u001b[0m Trial 15 finished with value: 0.08076777676549962 and parameters: {'learning_rate': 0.01268756042172586, 'n_estimators': 691, 'min_samples_split': 8, 'min_samples_leaf': 3, 'max_depth': 8}. Best is trial 8 with value: 0.08010294297988496.\u001b[0m\n",
      "/usr/local/lib/python3.6/dist-packages/sklearn/utils/validation.py:63: DataConversionWarning: A column-vector y was passed when a 1d array was expected. Please change the shape of y to (n_samples, ), for example using ravel().\n",
      "  return f(*args, **kwargs)\n",
      "\u001b[32m[I 2021-12-05 11:43:27,658]\u001b[0m Trial 16 finished with value: 0.09585153000252344 and parameters: {'learning_rate': 0.013802154172676813, 'n_estimators': 633, 'min_samples_split': 7, 'min_samples_leaf': 1, 'max_depth': 7}. Best is trial 8 with value: 0.08010294297988496.\u001b[0m\n",
      "/usr/local/lib/python3.6/dist-packages/sklearn/utils/validation.py:63: DataConversionWarning: A column-vector y was passed when a 1d array was expected. Please change the shape of y to (n_samples, ), for example using ravel().\n",
      "  return f(*args, **kwargs)\n",
      "\u001b[32m[I 2021-12-05 11:43:28,037]\u001b[0m Trial 17 finished with value: 0.07416644134837624 and parameters: {'learning_rate': 0.04222682064029239, 'n_estimators': 410, 'min_samples_split': 4, 'min_samples_leaf': 4, 'max_depth': 4}. Best is trial 17 with value: 0.07416644134837624.\u001b[0m\n",
      "/usr/local/lib/python3.6/dist-packages/sklearn/utils/validation.py:63: DataConversionWarning: A column-vector y was passed when a 1d array was expected. Please change the shape of y to (n_samples, ), for example using ravel().\n",
      "  return f(*args, **kwargs)\n",
      "\u001b[32m[I 2021-12-05 11:43:28,063]\u001b[0m Trial 18 finished with value: 0.5016878131766024 and parameters: {'learning_rate': 0.04389888440274915, 'n_estimators': 11, 'min_samples_split': 4, 'min_samples_leaf': 7, 'max_depth': 3}. Best is trial 17 with value: 0.07416644134837624.\u001b[0m\n",
      "/usr/local/lib/python3.6/dist-packages/sklearn/utils/validation.py:63: DataConversionWarning: A column-vector y was passed when a 1d array was expected. Please change the shape of y to (n_samples, ), for example using ravel().\n",
      "  return f(*args, **kwargs)\n",
      "\u001b[32m[I 2021-12-05 11:43:28,380]\u001b[0m Trial 19 finished with value: 0.08172319004980866 and parameters: {'learning_rate': 0.02868321184012881, 'n_estimators': 360, 'min_samples_split': 4, 'min_samples_leaf': 5, 'max_depth': 4}. Best is trial 17 with value: 0.07416644134837624.\u001b[0m\n",
      "/usr/local/lib/python3.6/dist-packages/sklearn/utils/validation.py:63: DataConversionWarning: A column-vector y was passed when a 1d array was expected. Please change the shape of y to (n_samples, ), for example using ravel().\n",
      "  return f(*args, **kwargs)\n",
      "\u001b[32m[I 2021-12-05 11:43:28,568]\u001b[0m Trial 20 finished with value: 0.11180199082100051 and parameters: {'learning_rate': 0.09985856865143306, 'n_estimators': 472, 'min_samples_split': 3, 'min_samples_leaf': 8, 'max_depth': 1}. Best is trial 17 with value: 0.07416644134837624.\u001b[0m\n",
      "/usr/local/lib/python3.6/dist-packages/sklearn/utils/validation.py:63: DataConversionWarning: A column-vector y was passed when a 1d array was expected. Please change the shape of y to (n_samples, ), for example using ravel().\n",
      "  return f(*args, **kwargs)\n",
      "\u001b[32m[I 2021-12-05 11:43:29,109]\u001b[0m Trial 21 finished with value: 0.08202862611189321 and parameters: {'learning_rate': 0.01771825388093954, 'n_estimators': 526, 'min_samples_split': 5, 'min_samples_leaf': 3, 'max_depth': 5}. Best is trial 17 with value: 0.07416644134837624.\u001b[0m\n",
      "/usr/local/lib/python3.6/dist-packages/sklearn/utils/validation.py:63: DataConversionWarning: A column-vector y was passed when a 1d array was expected. Please change the shape of y to (n_samples, ), for example using ravel().\n",
      "  return f(*args, **kwargs)\n",
      "\u001b[32m[I 2021-12-05 11:43:29,365]\u001b[0m Trial 22 finished with value: 0.07281073046064679 and parameters: {'learning_rate': 0.04833768284763742, 'n_estimators': 353, 'min_samples_split': 4, 'min_samples_leaf': 4, 'max_depth': 3}. Best is trial 22 with value: 0.07281073046064679.\u001b[0m\n",
      "/usr/local/lib/python3.6/dist-packages/sklearn/utils/validation.py:63: DataConversionWarning: A column-vector y was passed when a 1d array was expected. Please change the shape of y to (n_samples, ), for example using ravel().\n",
      "  return f(*args, **kwargs)\n",
      "\u001b[32m[I 2021-12-05 11:43:29,620]\u001b[0m Trial 23 finished with value: 0.07367767164336037 and parameters: {'learning_rate': 0.04388437250490182, 'n_estimators': 355, 'min_samples_split': 4, 'min_samples_leaf': 4, 'max_depth': 3}. Best is trial 22 with value: 0.07281073046064679.\u001b[0m\n",
      "/usr/local/lib/python3.6/dist-packages/sklearn/utils/validation.py:63: DataConversionWarning: A column-vector y was passed when a 1d array was expected. Please change the shape of y to (n_samples, ), for example using ravel().\n",
      "  return f(*args, **kwargs)\n",
      "\u001b[32m[I 2021-12-05 11:43:29,717]\u001b[0m Trial 24 finished with value: 0.10030540058092685 and parameters: {'learning_rate': 0.04878644416645164, 'n_estimators': 152, 'min_samples_split': 4, 'min_samples_leaf': 4, 'max_depth': 2}. Best is trial 22 with value: 0.07281073046064679.\u001b[0m\n",
      "/usr/local/lib/python3.6/dist-packages/sklearn/utils/validation.py:63: DataConversionWarning: A column-vector y was passed when a 1d array was expected. Please change the shape of y to (n_samples, ), for example using ravel().\n",
      "  return f(*args, **kwargs)\n",
      "\u001b[32m[I 2021-12-05 11:43:29,988]\u001b[0m Trial 25 finished with value: 0.08845919718018114 and parameters: {'learning_rate': 0.053799884227497236, 'n_estimators': 371, 'min_samples_split': 6, 'min_samples_leaf': 6, 'max_depth': 3}. Best is trial 22 with value: 0.07281073046064679.\u001b[0m\n",
      "/usr/local/lib/python3.6/dist-packages/sklearn/utils/validation.py:63: DataConversionWarning: A column-vector y was passed when a 1d array was expected. Please change the shape of y to (n_samples, ), for example using ravel().\n",
      "  return f(*args, **kwargs)\n",
      "\u001b[32m[I 2021-12-05 11:43:30,164]\u001b[0m Trial 26 finished with value: 0.09482581800615508 and parameters: {'learning_rate': 0.06812971969706773, 'n_estimators': 300, 'min_samples_split': 4, 'min_samples_leaf': 5, 'max_depth': 2}. Best is trial 22 with value: 0.07281073046064679.\u001b[0m\n",
      "/usr/local/lib/python3.6/dist-packages/sklearn/utils/validation.py:63: DataConversionWarning: A column-vector y was passed when a 1d array was expected. Please change the shape of y to (n_samples, ), for example using ravel().\n",
      "  return f(*args, **kwargs)\n",
      "\u001b[32m[I 2021-12-05 11:43:30,299]\u001b[0m Trial 27 finished with value: 0.07993300887209176 and parameters: {'learning_rate': 0.035670836190948796, 'n_estimators': 174, 'min_samples_split': 6, 'min_samples_leaf': 4, 'max_depth': 3}. Best is trial 22 with value: 0.07281073046064679.\u001b[0m\n",
      "/usr/local/lib/python3.6/dist-packages/sklearn/utils/validation.py:63: DataConversionWarning: A column-vector y was passed when a 1d array was expected. Please change the shape of y to (n_samples, ), for example using ravel().\n",
      "  return f(*args, **kwargs)\n",
      "\u001b[32m[I 2021-12-05 11:43:30,867]\u001b[0m Trial 28 finished with value: 0.09243060978943063 and parameters: {'learning_rate': 0.0764723142734538, 'n_estimators': 558, 'min_samples_split': 3, 'min_samples_leaf': 6, 'max_depth': 5}. Best is trial 22 with value: 0.07281073046064679.\u001b[0m\n",
      "/usr/local/lib/python3.6/dist-packages/sklearn/utils/validation.py:63: DataConversionWarning: A column-vector y was passed when a 1d array was expected. Please change the shape of y to (n_samples, ), for example using ravel().\n",
      "  return f(*args, **kwargs)\n",
      "\u001b[32m[I 2021-12-05 11:43:31,098]\u001b[0m Trial 29 finished with value: 0.08557736279758577 and parameters: {'learning_rate': 0.01907004831967426, 'n_estimators': 413, 'min_samples_split': 5, 'min_samples_leaf': 2, 'max_depth': 2}. Best is trial 22 with value: 0.07281073046064679.\u001b[0m\n",
      "/usr/local/lib/python3.6/dist-packages/sklearn/utils/validation.py:63: DataConversionWarning: A column-vector y was passed when a 1d array was expected. Please change the shape of y to (n_samples, ), for example using ravel().\n",
      "  return f(*args, **kwargs)\n",
      "\u001b[32m[I 2021-12-05 11:43:31,281]\u001b[0m Trial 30 finished with value: 0.11702719922403015 and parameters: {'learning_rate': 0.033064174553080874, 'n_estimators': 470, 'min_samples_split': 4, 'min_samples_leaf': 5, 'max_depth': 1}. Best is trial 22 with value: 0.07281073046064679.\u001b[0m\n"
     ]
    },
    {
     "name": "stderr",
     "output_type": "stream",
     "text": [
      "/usr/local/lib/python3.6/dist-packages/sklearn/utils/validation.py:63: DataConversionWarning: A column-vector y was passed when a 1d array was expected. Please change the shape of y to (n_samples, ), for example using ravel().\n",
      "  return f(*args, **kwargs)\n",
      "\u001b[32m[I 2021-12-05 11:43:31,423]\u001b[0m Trial 31 finished with value: 0.07808171219092142 and parameters: {'learning_rate': 0.035888473419065425, 'n_estimators': 187, 'min_samples_split': 6, 'min_samples_leaf': 4, 'max_depth': 3}. Best is trial 22 with value: 0.07281073046064679.\u001b[0m\n",
      "/usr/local/lib/python3.6/dist-packages/sklearn/utils/validation.py:63: DataConversionWarning: A column-vector y was passed when a 1d array was expected. Please change the shape of y to (n_samples, ), for example using ravel().\n",
      "  return f(*args, **kwargs)\n",
      "\u001b[32m[I 2021-12-05 11:43:31,521]\u001b[0m Trial 32 finished with value: 0.07590159743920066 and parameters: {'learning_rate': 0.05584137440148288, 'n_estimators': 91, 'min_samples_split': 5, 'min_samples_leaf': 4, 'max_depth': 4}. Best is trial 22 with value: 0.07281073046064679.\u001b[0m\n",
      "/usr/local/lib/python3.6/dist-packages/sklearn/utils/validation.py:63: DataConversionWarning: A column-vector y was passed when a 1d array was expected. Please change the shape of y to (n_samples, ), for example using ravel().\n",
      "  return f(*args, **kwargs)\n",
      "\u001b[32m[I 2021-12-05 11:43:31,656]\u001b[0m Trial 33 finished with value: 0.07112519630987879 and parameters: {'learning_rate': 0.05658218417679322, 'n_estimators': 130, 'min_samples_split': 5, 'min_samples_leaf': 4, 'max_depth': 4}. Best is trial 33 with value: 0.07112519630987879.\u001b[0m\n",
      "/usr/local/lib/python3.6/dist-packages/sklearn/utils/validation.py:63: DataConversionWarning: A column-vector y was passed when a 1d array was expected. Please change the shape of y to (n_samples, ), for example using ravel().\n",
      "  return f(*args, **kwargs)\n",
      "\u001b[32m[I 2021-12-05 11:43:31,764]\u001b[0m Trial 34 finished with value: 0.11310360229152727 and parameters: {'learning_rate': 0.021516144529626347, 'n_estimators': 103, 'min_samples_split': 4, 'min_samples_leaf': 5, 'max_depth': 4}. Best is trial 33 with value: 0.07112519630987879.\u001b[0m\n",
      "/usr/local/lib/python3.6/dist-packages/sklearn/utils/validation.py:63: DataConversionWarning: A column-vector y was passed when a 1d array was expected. Please change the shape of y to (n_samples, ), for example using ravel().\n",
      "  return f(*args, **kwargs)\n",
      "\u001b[32m[I 2021-12-05 11:43:32,041]\u001b[0m Trial 35 finished with value: 0.07966725123463436 and parameters: {'learning_rate': 0.07194611967342929, 'n_estimators': 258, 'min_samples_split': 3, 'min_samples_leaf': 3, 'max_depth': 5}. Best is trial 33 with value: 0.07112519630987879.\u001b[0m\n",
      "/usr/local/lib/python3.6/dist-packages/sklearn/utils/validation.py:63: DataConversionWarning: A column-vector y was passed when a 1d array was expected. Please change the shape of y to (n_samples, ), for example using ravel().\n",
      "  return f(*args, **kwargs)\n",
      "\u001b[32m[I 2021-12-05 11:43:32,073]\u001b[0m Trial 36 finished with value: 0.9686708635421137 and parameters: {'learning_rate': 0.0010318400513331996, 'n_estimators': 19, 'min_samples_split': 5, 'min_samples_leaf': 2, 'max_depth': 3}. Best is trial 33 with value: 0.07112519630987879.\u001b[0m\n",
      "/usr/local/lib/python3.6/dist-packages/sklearn/utils/validation.py:63: DataConversionWarning: A column-vector y was passed when a 1d array was expected. Please change the shape of y to (n_samples, ), for example using ravel().\n",
      "  return f(*args, **kwargs)\n",
      "\u001b[32m[I 2021-12-05 11:43:32,270]\u001b[0m Trial 37 finished with value: 0.08890912493592296 and parameters: {'learning_rate': 0.09812900594741938, 'n_estimators': 212, 'min_samples_split': 2, 'min_samples_leaf': 7, 'max_depth': 4}. Best is trial 33 with value: 0.07112519630987879.\u001b[0m\n",
      "/usr/local/lib/python3.6/dist-packages/sklearn/utils/validation.py:63: DataConversionWarning: A column-vector y was passed when a 1d array was expected. Please change the shape of y to (n_samples, ), for example using ravel().\n",
      "  return f(*args, **kwargs)\n",
      "\u001b[32m[I 2021-12-05 11:43:32,646]\u001b[0m Trial 38 finished with value: 0.3503625732882647 and parameters: {'learning_rate': 0.002262547309872828, 'n_estimators': 319, 'min_samples_split': 3, 'min_samples_leaf': 4, 'max_depth': 6}. Best is trial 33 with value: 0.07112519630987879.\u001b[0m\n",
      "/usr/local/lib/python3.6/dist-packages/sklearn/utils/validation.py:63: DataConversionWarning: A column-vector y was passed when a 1d array was expected. Please change the shape of y to (n_samples, ), for example using ravel().\n",
      "  return f(*args, **kwargs)\n",
      "\u001b[32m[I 2021-12-05 11:43:32,855]\u001b[0m Trial 39 finished with value: 0.08098375962824034 and parameters: {'learning_rate': 0.05624170558329941, 'n_estimators': 379, 'min_samples_split': 5, 'min_samples_leaf': 3, 'max_depth': 2}. Best is trial 33 with value: 0.07112519630987879.\u001b[0m\n",
      "/usr/local/lib/python3.6/dist-packages/sklearn/utils/validation.py:63: DataConversionWarning: A column-vector y was passed when a 1d array was expected. Please change the shape of y to (n_samples, ), for example using ravel().\n",
      "  return f(*args, **kwargs)\n",
      "\u001b[32m[I 2021-12-05 11:43:33,105]\u001b[0m Trial 40 finished with value: 0.07769191737168701 and parameters: {'learning_rate': 0.03878718803658165, 'n_estimators': 231, 'min_samples_split': 4, 'min_samples_leaf': 2, 'max_depth': 5}. Best is trial 33 with value: 0.07112519630987879.\u001b[0m\n",
      "/usr/local/lib/python3.6/dist-packages/sklearn/utils/validation.py:63: DataConversionWarning: A column-vector y was passed when a 1d array was expected. Please change the shape of y to (n_samples, ), for example using ravel().\n",
      "  return f(*args, **kwargs)\n",
      "\u001b[32m[I 2021-12-05 11:43:33,213]\u001b[0m Trial 41 finished with value: 0.07307021987562756 and parameters: {'learning_rate': 0.0548711371716442, 'n_estimators': 108, 'min_samples_split': 5, 'min_samples_leaf': 4, 'max_depth': 4}. Best is trial 33 with value: 0.07112519630987879.\u001b[0m\n",
      "/usr/local/lib/python3.6/dist-packages/sklearn/utils/validation.py:63: DataConversionWarning: A column-vector y was passed when a 1d array was expected. Please change the shape of y to (n_samples, ), for example using ravel().\n",
      "  return f(*args, **kwargs)\n",
      "\u001b[32m[I 2021-12-05 11:43:33,334]\u001b[0m Trial 42 finished with value: 0.07165600677431117 and parameters: {'learning_rate': 0.06031243149540998, 'n_estimators': 123, 'min_samples_split': 5, 'min_samples_leaf': 4, 'max_depth': 4}. Best is trial 33 with value: 0.07112519630987879.\u001b[0m\n",
      "/usr/local/lib/python3.6/dist-packages/sklearn/utils/validation.py:63: DataConversionWarning: A column-vector y was passed when a 1d array was expected. Please change the shape of y to (n_samples, ), for example using ravel().\n",
      "  return f(*args, **kwargs)\n",
      "\u001b[32m[I 2021-12-05 11:43:33,438]\u001b[0m Trial 43 finished with value: 0.0771547901890205 and parameters: {'learning_rate': 0.06609156362726526, 'n_estimators': 126, 'min_samples_split': 6, 'min_samples_leaf': 5, 'max_depth': 3}. Best is trial 33 with value: 0.07112519630987879.\u001b[0m\n",
      "/usr/local/lib/python3.6/dist-packages/sklearn/utils/validation.py:63: DataConversionWarning: A column-vector y was passed when a 1d array was expected. Please change the shape of y to (n_samples, ), for example using ravel().\n",
      "  return f(*args, **kwargs)\n",
      "\u001b[32m[I 2021-12-05 11:43:33,501]\u001b[0m Trial 44 finished with value: 0.0952522272315307 and parameters: {'learning_rate': 0.05476249383847167, 'n_estimators': 54, 'min_samples_split': 7, 'min_samples_leaf': 3, 'max_depth': 4}. Best is trial 33 with value: 0.07112519630987879.\u001b[0m\n",
      "/usr/local/lib/python3.6/dist-packages/sklearn/utils/validation.py:63: DataConversionWarning: A column-vector y was passed when a 1d array was expected. Please change the shape of y to (n_samples, ), for example using ravel().\n",
      "  return f(*args, **kwargs)\n",
      "\u001b[32m[I 2021-12-05 11:43:33,578]\u001b[0m Trial 45 finished with value: 0.206242582405591 and parameters: {'learning_rate': 0.022976826086500025, 'n_estimators': 59, 'min_samples_split': 5, 'min_samples_leaf': 6, 'max_depth': 5}. Best is trial 33 with value: 0.07112519630987879.\u001b[0m\n",
      "/usr/local/lib/python3.6/dist-packages/sklearn/utils/validation.py:63: DataConversionWarning: A column-vector y was passed when a 1d array was expected. Please change the shape of y to (n_samples, ), for example using ravel().\n",
      "  return f(*args, **kwargs)\n"
     ]
    },
    {
     "name": "stderr",
     "output_type": "stream",
     "text": [
      "\u001b[32m[I 2021-12-05 11:43:33,695]\u001b[0m Trial 46 finished with value: 0.09783476821973502 and parameters: {'learning_rate': 0.0815813547742361, 'n_estimators': 195, 'min_samples_split': 6, 'min_samples_leaf': 4, 'max_depth': 2}. Best is trial 33 with value: 0.07112519630987879.\u001b[0m\n",
      "/usr/local/lib/python3.6/dist-packages/sklearn/utils/validation.py:63: DataConversionWarning: A column-vector y was passed when a 1d array was expected. Please change the shape of y to (n_samples, ), for example using ravel().\n",
      "  return f(*args, **kwargs)\n",
      "\u001b[32m[I 2021-12-05 11:43:33,827]\u001b[0m Trial 47 finished with value: 0.24236966064204757 and parameters: {'learning_rate': 0.008071742323439539, 'n_estimators': 129, 'min_samples_split': 5, 'min_samples_leaf': 3, 'max_depth': 4}. Best is trial 33 with value: 0.07112519630987879.\u001b[0m\n",
      "/usr/local/lib/python3.6/dist-packages/sklearn/utils/validation.py:63: DataConversionWarning: A column-vector y was passed when a 1d array was expected. Please change the shape of y to (n_samples, ), for example using ravel().\n",
      "  return f(*args, **kwargs)\n",
      "\u001b[32m[I 2021-12-05 11:43:34,146]\u001b[0m Trial 48 finished with value: 0.22284467330178992 and parameters: {'learning_rate': 0.004875959190805487, 'n_estimators': 294, 'min_samples_split': 5, 'min_samples_leaf': 10, 'max_depth': 6}. Best is trial 33 with value: 0.07112519630987879.\u001b[0m\n",
      "/usr/local/lib/python3.6/dist-packages/sklearn/utils/validation.py:63: DataConversionWarning: A column-vector y was passed when a 1d array was expected. Please change the shape of y to (n_samples, ), for example using ravel().\n",
      "  return f(*args, **kwargs)\n",
      "\u001b[32m[I 2021-12-05 11:43:34,212]\u001b[0m Trial 49 finished with value: 0.14050747780656336 and parameters: {'learning_rate': 0.029879608777537023, 'n_estimators': 62, 'min_samples_split': 3, 'min_samples_leaf': 5, 'max_depth': 3}. Best is trial 33 with value: 0.07112519630987879.\u001b[0m\n",
      "/usr/local/lib/python3.6/dist-packages/sklearn/utils/validation.py:63: DataConversionWarning: A column-vector y was passed when a 1d array was expected. Please change the shape of y to (n_samples, ), for example using ravel().\n",
      "  return f(*args, **kwargs)\n",
      "\u001b[32m[I 2021-12-05 11:43:34,530]\u001b[0m Trial 50 finished with value: 0.0943689202843484 and parameters: {'learning_rate': 0.06360236459919436, 'n_estimators': 233, 'min_samples_split': 7, 'min_samples_leaf': 4, 'max_depth': 7}. Best is trial 33 with value: 0.07112519630987879.\u001b[0m\n",
      "/usr/local/lib/python3.6/dist-packages/sklearn/utils/validation.py:63: DataConversionWarning: A column-vector y was passed when a 1d array was expected. Please change the shape of y to (n_samples, ), for example using ravel().\n",
      "  return f(*args, **kwargs)\n",
      "\u001b[32m[I 2021-12-05 11:43:34,849]\u001b[0m Trial 51 finished with value: 0.07159726584776083 and parameters: {'learning_rate': 0.043886129582022704, 'n_estimators': 355, 'min_samples_split': 4, 'min_samples_leaf': 4, 'max_depth': 4}. Best is trial 33 with value: 0.07112519630987879.\u001b[0m\n",
      "/usr/local/lib/python3.6/dist-packages/sklearn/utils/validation.py:63: DataConversionWarning: A column-vector y was passed when a 1d array was expected. Please change the shape of y to (n_samples, ), for example using ravel().\n",
      "  return f(*args, **kwargs)\n",
      "\u001b[32m[I 2021-12-05 11:43:35,662]\u001b[0m Trial 52 finished with value: 0.07582952244677588 and parameters: {'learning_rate': 0.045849417856189824, 'n_estimators': 954, 'min_samples_split': 4, 'min_samples_leaf': 3, 'max_depth': 4}. Best is trial 33 with value: 0.07112519630987879.\u001b[0m\n",
      "/usr/local/lib/python3.6/dist-packages/sklearn/utils/validation.py:63: DataConversionWarning: A column-vector y was passed when a 1d array was expected. Please change the shape of y to (n_samples, ), for example using ravel().\n",
      "  return f(*args, **kwargs)\n",
      "\u001b[32m[I 2021-12-05 11:43:35,909]\u001b[0m Trial 53 finished with value: 0.24115666549065018 and parameters: {'learning_rate': 0.0032182243246092123, 'n_estimators': 341, 'min_samples_split': 4, 'min_samples_leaf': 4, 'max_depth': 3}. Best is trial 33 with value: 0.07112519630987879.\u001b[0m\n",
      "/usr/local/lib/python3.6/dist-packages/sklearn/utils/validation.py:63: DataConversionWarning: A column-vector y was passed when a 1d array was expected. Please change the shape of y to (n_samples, ), for example using ravel().\n",
      "  return f(*args, **kwargs)\n",
      "\u001b[32m[I 2021-12-05 11:43:36,756]\u001b[0m Trial 54 finished with value: 0.0906305025430848 and parameters: {'learning_rate': 0.046560708152554926, 'n_estimators': 836, 'min_samples_split': 5, 'min_samples_leaf': 5, 'max_depth': 5}. Best is trial 33 with value: 0.07112519630987879.\u001b[0m\n",
      "/usr/local/lib/python3.6/dist-packages/sklearn/utils/validation.py:63: DataConversionWarning: A column-vector y was passed when a 1d array was expected. Please change the shape of y to (n_samples, ), for example using ravel().\n",
      "  return f(*args, **kwargs)\n",
      "\u001b[32m[I 2021-12-05 11:43:36,998]\u001b[0m Trial 55 finished with value: 0.07756030699593552 and parameters: {'learning_rate': 0.08481271165048775, 'n_estimators': 270, 'min_samples_split': 3, 'min_samples_leaf': 3, 'max_depth': 4}. Best is trial 33 with value: 0.07112519630987879.\u001b[0m\n",
      "/usr/local/lib/python3.6/dist-packages/sklearn/utils/validation.py:63: DataConversionWarning: A column-vector y was passed when a 1d array was expected. Please change the shape of y to (n_samples, ), for example using ravel().\n",
      "  return f(*args, **kwargs)\n",
      "\u001b[32m[I 2021-12-05 11:43:37,334]\u001b[0m Trial 56 finished with value: 0.07265683899513742 and parameters: {'learning_rate': 0.030802238057645915, 'n_estimators': 461, 'min_samples_split': 4, 'min_samples_leaf': 4, 'max_depth': 3}. Best is trial 33 with value: 0.07112519630987879.\u001b[0m\n",
      "/usr/local/lib/python3.6/dist-packages/sklearn/utils/validation.py:63: DataConversionWarning: A column-vector y was passed when a 1d array was expected. Please change the shape of y to (n_samples, ), for example using ravel().\n",
      "  return f(*args, **kwargs)\n",
      "\u001b[32m[I 2021-12-05 11:43:37,996]\u001b[0m Trial 57 finished with value: 0.07388783461436887 and parameters: {'learning_rate': 0.015262475523871223, 'n_estimators': 613, 'min_samples_split': 5, 'min_samples_leaf': 3, 'max_depth': 4}. Best is trial 33 with value: 0.07112519630987879.\u001b[0m\n",
      "/usr/local/lib/python3.6/dist-packages/sklearn/utils/validation.py:63: DataConversionWarning: A column-vector y was passed when a 1d array was expected. Please change the shape of y to (n_samples, ), for example using ravel().\n",
      "  return f(*args, **kwargs)\n",
      "\u001b[32m[I 2021-12-05 11:43:38,275]\u001b[0m Trial 58 finished with value: 0.09343022072070073 and parameters: {'learning_rate': 0.026335631014917815, 'n_estimators': 448, 'min_samples_split': 4, 'min_samples_leaf': 5, 'max_depth': 2}. Best is trial 33 with value: 0.07112519630987879.\u001b[0m\n",
      "/usr/local/lib/python3.6/dist-packages/sklearn/utils/validation.py:63: DataConversionWarning: A column-vector y was passed when a 1d array was expected. Please change the shape of y to (n_samples, ), for example using ravel().\n",
      "  return f(*args, **kwargs)\n",
      "\u001b[32m[I 2021-12-05 11:43:38,468]\u001b[0m Trial 59 finished with value: 0.07852167015249456 and parameters: {'learning_rate': 0.03337500649302546, 'n_estimators': 158, 'min_samples_split': 5, 'min_samples_leaf': 2, 'max_depth': 5}. Best is trial 33 with value: 0.07112519630987879.\u001b[0m\n",
      "/usr/local/lib/python3.6/dist-packages/sklearn/utils/validation.py:63: DataConversionWarning: A column-vector y was passed when a 1d array was expected. Please change the shape of y to (n_samples, ), for example using ravel().\n",
      "  return f(*args, **kwargs)\n",
      "\u001b[32m[I 2021-12-05 11:43:38,924]\u001b[0m Trial 60 finished with value: 0.08718430721617043 and parameters: {'learning_rate': 0.0584296657261835, 'n_estimators': 500, 'min_samples_split': 6, 'min_samples_leaf': 6, 'max_depth': 4}. Best is trial 33 with value: 0.07112519630987879.\u001b[0m\n",
      "/usr/local/lib/python3.6/dist-packages/sklearn/utils/validation.py:63: DataConversionWarning: A column-vector y was passed when a 1d array was expected. Please change the shape of y to (n_samples, ), for example using ravel().\n",
      "  return f(*args, **kwargs)\n",
      "\u001b[32m[I 2021-12-05 11:43:39,217]\u001b[0m Trial 61 finished with value: 0.07268378929258712 and parameters: {'learning_rate': 0.044417327800476726, 'n_estimators': 384, 'min_samples_split': 4, 'min_samples_leaf': 4, 'max_depth': 3}. Best is trial 33 with value: 0.07112519630987879.\u001b[0m\n"
     ]
    },
    {
     "name": "stderr",
     "output_type": "stream",
     "text": [
      "/usr/local/lib/python3.6/dist-packages/sklearn/utils/validation.py:63: DataConversionWarning: A column-vector y was passed when a 1d array was expected. Please change the shape of y to (n_samples, ), for example using ravel().\n",
      "  return f(*args, **kwargs)\n",
      "\u001b[32m[I 2021-12-05 11:43:39,602]\u001b[0m Trial 62 finished with value: 0.07272034136214922 and parameters: {'learning_rate': 0.03843775809537316, 'n_estimators': 544, 'min_samples_split': 4, 'min_samples_leaf': 4, 'max_depth': 3}. Best is trial 33 with value: 0.07112519630987879.\u001b[0m\n",
      "/usr/local/lib/python3.6/dist-packages/sklearn/utils/validation.py:63: DataConversionWarning: A column-vector y was passed when a 1d array was expected. Please change the shape of y to (n_samples, ), for example using ravel().\n",
      "  return f(*args, **kwargs)\n",
      "\u001b[32m[I 2021-12-05 11:43:39,996]\u001b[0m Trial 63 finished with value: 0.07665849479543674 and parameters: {'learning_rate': 0.03967823822153461, 'n_estimators': 558, 'min_samples_split': 3, 'min_samples_leaf': 4, 'max_depth': 3}. Best is trial 33 with value: 0.07112519630987879.\u001b[0m\n",
      "/usr/local/lib/python3.6/dist-packages/sklearn/utils/validation.py:63: DataConversionWarning: A column-vector y was passed when a 1d array was expected. Please change the shape of y to (n_samples, ), for example using ravel().\n",
      "  return f(*args, **kwargs)\n",
      "\u001b[32m[I 2021-12-05 11:43:40,351]\u001b[0m Trial 64 finished with value: 0.07409971152743355 and parameters: {'learning_rate': 0.030331257392101726, 'n_estimators': 490, 'min_samples_split': 4, 'min_samples_leaf': 4, 'max_depth': 3}. Best is trial 33 with value: 0.07112519630987879.\u001b[0m\n",
      "/usr/local/lib/python3.6/dist-packages/sklearn/utils/validation.py:63: DataConversionWarning: A column-vector y was passed when a 1d array was expected. Please change the shape of y to (n_samples, ), for example using ravel().\n",
      "  return f(*args, **kwargs)\n",
      "\u001b[32m[I 2021-12-05 11:43:40,579]\u001b[0m Trial 65 finished with value: 0.09895419362837421 and parameters: {'learning_rate': 0.0467702186181555, 'n_estimators': 399, 'min_samples_split': 2, 'min_samples_leaf': 5, 'max_depth': 2}. Best is trial 33 with value: 0.07112519630987879.\u001b[0m\n",
      "/usr/local/lib/python3.6/dist-packages/sklearn/utils/validation.py:63: DataConversionWarning: A column-vector y was passed when a 1d array was expected. Please change the shape of y to (n_samples, ), for example using ravel().\n",
      "  return f(*args, **kwargs)\n",
      "\u001b[32m[I 2021-12-05 11:43:40,965]\u001b[0m Trial 66 finished with value: 0.07503391616270816 and parameters: {'learning_rate': 0.02232862865143409, 'n_estimators': 542, 'min_samples_split': 4, 'min_samples_leaf': 4, 'max_depth': 3}. Best is trial 33 with value: 0.07112519630987879.\u001b[0m\n",
      "/usr/local/lib/python3.6/dist-packages/sklearn/utils/validation.py:63: DataConversionWarning: A column-vector y was passed when a 1d array was expected. Please change the shape of y to (n_samples, ), for example using ravel().\n",
      "  return f(*args, **kwargs)\n",
      "\u001b[32m[I 2021-12-05 11:43:41,210]\u001b[0m Trial 67 finished with value: 0.11186479147483641 and parameters: {'learning_rate': 0.03638491175559051, 'n_estimators': 655, 'min_samples_split': 3, 'min_samples_leaf': 9, 'max_depth': 1}. Best is trial 33 with value: 0.07112519630987879.\u001b[0m\n",
      "/usr/local/lib/python3.6/dist-packages/sklearn/utils/validation.py:63: DataConversionWarning: A column-vector y was passed when a 1d array was expected. Please change the shape of y to (n_samples, ), for example using ravel().\n",
      "  return f(*args, **kwargs)\n",
      "\u001b[32m[I 2021-12-05 11:43:41,527]\u001b[0m Trial 68 finished with value: 0.07644224969268054 and parameters: {'learning_rate': 0.0631678664500773, 'n_estimators': 447, 'min_samples_split': 4, 'min_samples_leaf': 3, 'max_depth': 3}. Best is trial 33 with value: 0.07112519630987879.\u001b[0m\n",
      "/usr/local/lib/python3.6/dist-packages/sklearn/utils/validation.py:63: DataConversionWarning: A column-vector y was passed when a 1d array was expected. Please change the shape of y to (n_samples, ), for example using ravel().\n",
      "  return f(*args, **kwargs)\n",
      "\u001b[32m[I 2021-12-05 11:43:41,713]\u001b[0m Trial 69 finished with value: 0.0928392643606144 and parameters: {'learning_rate': 0.050071115751468026, 'n_estimators': 324, 'min_samples_split': 4, 'min_samples_leaf': 5, 'max_depth': 2}. Best is trial 33 with value: 0.07112519630987879.\u001b[0m\n",
      "/usr/local/lib/python3.6/dist-packages/sklearn/utils/validation.py:63: DataConversionWarning: A column-vector y was passed when a 1d array was expected. Please change the shape of y to (n_samples, ), for example using ravel().\n",
      "  return f(*args, **kwargs)\n",
      "\u001b[32m[I 2021-12-05 11:43:42,134]\u001b[0m Trial 70 finished with value: 0.08569809997115518 and parameters: {'learning_rate': 0.07695615064543725, 'n_estimators': 589, 'min_samples_split': 4, 'min_samples_leaf': 4, 'max_depth': 3}. Best is trial 33 with value: 0.07112519630987879.\u001b[0m\n",
      "/usr/local/lib/python3.6/dist-packages/sklearn/utils/validation.py:63: DataConversionWarning: A column-vector y was passed when a 1d array was expected. Please change the shape of y to (n_samples, ), for example using ravel().\n",
      "  return f(*args, **kwargs)\n",
      "\u001b[32m[I 2021-12-05 11:43:42,985]\u001b[0m Trial 71 finished with value: 0.07665206066750163 and parameters: {'learning_rate': 0.04891078697256982, 'n_estimators': 993, 'min_samples_split': 5, 'min_samples_leaf': 4, 'max_depth': 4}. Best is trial 33 with value: 0.07112519630987879.\u001b[0m\n",
      "/usr/local/lib/python3.6/dist-packages/sklearn/utils/validation.py:63: DataConversionWarning: A column-vector y was passed when a 1d array was expected. Please change the shape of y to (n_samples, ), for example using ravel().\n",
      "  return f(*args, **kwargs)\n",
      "\u001b[32m[I 2021-12-05 11:43:43,627]\u001b[0m Trial 72 finished with value: 0.0771765603418808 and parameters: {'learning_rate': 0.032674191489937644, 'n_estimators': 752, 'min_samples_split': 5, 'min_samples_leaf': 4, 'max_depth': 4}. Best is trial 33 with value: 0.07112519630987879.\u001b[0m\n",
      "/usr/local/lib/python3.6/dist-packages/sklearn/utils/validation.py:63: DataConversionWarning: A column-vector y was passed when a 1d array was expected. Please change the shape of y to (n_samples, ), for example using ravel().\n",
      "  return f(*args, **kwargs)\n",
      "\u001b[32m[I 2021-12-05 11:43:43,974]\u001b[0m Trial 73 finished with value: 0.07435450613224126 and parameters: {'learning_rate': 0.041211870742332464, 'n_estimators': 391, 'min_samples_split': 4, 'min_samples_leaf': 4, 'max_depth': 4}. Best is trial 33 with value: 0.07112519630987879.\u001b[0m\n",
      "/usr/local/lib/python3.6/dist-packages/sklearn/utils/validation.py:63: DataConversionWarning: A column-vector y was passed when a 1d array was expected. Please change the shape of y to (n_samples, ), for example using ravel().\n",
      "  return f(*args, **kwargs)\n",
      "\u001b[32m[I 2021-12-05 11:43:44,426]\u001b[0m Trial 74 finished with value: 0.09102208411120816 and parameters: {'learning_rate': 0.09174138919617324, 'n_estimators': 435, 'min_samples_split': 4, 'min_samples_leaf': 5, 'max_depth': 5}. Best is trial 33 with value: 0.07112519630987879.\u001b[0m\n",
      "/usr/local/lib/python3.6/dist-packages/sklearn/utils/validation.py:63: DataConversionWarning: A column-vector y was passed when a 1d array was expected. Please change the shape of y to (n_samples, ), for example using ravel().\n",
      "  return f(*args, **kwargs)\n",
      "\u001b[32m[I 2021-12-05 11:43:44,684]\u001b[0m Trial 75 finished with value: 0.07886853001906802 and parameters: {'learning_rate': 0.06643846286094388, 'n_estimators': 472, 'min_samples_split': 6, 'min_samples_leaf': 3, 'max_depth': 2}. Best is trial 33 with value: 0.07112519630987879.\u001b[0m\n",
      "/usr/local/lib/python3.6/dist-packages/sklearn/utils/validation.py:63: DataConversionWarning: A column-vector y was passed when a 1d array was expected. Please change the shape of y to (n_samples, ), for example using ravel().\n",
      "  return f(*args, **kwargs)\n",
      "\u001b[32m[I 2021-12-05 11:43:44,793]\u001b[0m Trial 76 finished with value: 0.0962961623523384 and parameters: {'learning_rate': 0.025395434797787976, 'n_estimators': 134, 'min_samples_split': 5, 'min_samples_leaf': 3, 'max_depth': 3}. Best is trial 33 with value: 0.07112519630987879.\u001b[0m\n",
      "/usr/local/lib/python3.6/dist-packages/sklearn/utils/validation.py:63: DataConversionWarning: A column-vector y was passed when a 1d array was expected. Please change the shape of y to (n_samples, ), for example using ravel().\n",
      "  return f(*args, **kwargs)\n"
     ]
    },
    {
     "name": "stderr",
     "output_type": "stream",
     "text": [
      "\u001b[32m[I 2021-12-05 11:43:45,007]\u001b[0m Trial 77 finished with value: 0.07820197732672096 and parameters: {'learning_rate': 0.07304570622387144, 'n_estimators': 285, 'min_samples_split': 3, 'min_samples_leaf': 4, 'max_depth': 3}. Best is trial 33 with value: 0.07112519630987879.\u001b[0m\n",
      "/usr/local/lib/python3.6/dist-packages/sklearn/utils/validation.py:63: DataConversionWarning: A column-vector y was passed when a 1d array was expected. Please change the shape of y to (n_samples, ), for example using ravel().\n",
      "  return f(*args, **kwargs)\n",
      "\u001b[32m[I 2021-12-05 11:43:45,455]\u001b[0m Trial 78 finished with value: 0.08424997351084484 and parameters: {'learning_rate': 0.03899472473300241, 'n_estimators': 518, 'min_samples_split': 5, 'min_samples_leaf': 5, 'max_depth': 4}. Best is trial 33 with value: 0.07112519630987879.\u001b[0m\n",
      "/usr/local/lib/python3.6/dist-packages/sklearn/utils/validation.py:63: DataConversionWarning: A column-vector y was passed when a 1d array was expected. Please change the shape of y to (n_samples, ), for example using ravel().\n",
      "  return f(*args, **kwargs)\n",
      "\u001b[32m[I 2021-12-05 11:43:45,494]\u001b[0m Trial 79 finished with value: 0.1599151126660311 and parameters: {'learning_rate': 0.057576306601588245, 'n_estimators': 29, 'min_samples_split': 5, 'min_samples_leaf': 6, 'max_depth': 3}. Best is trial 33 with value: 0.07112519630987879.\u001b[0m\n",
      "/usr/local/lib/python3.6/dist-packages/sklearn/utils/validation.py:63: DataConversionWarning: A column-vector y was passed when a 1d array was expected. Please change the shape of y to (n_samples, ), for example using ravel().\n",
      "  return f(*args, **kwargs)\n",
      "\u001b[32m[I 2021-12-05 11:43:45,594]\u001b[0m Trial 80 finished with value: 0.0772741052857131 and parameters: {'learning_rate': 0.05101340078217119, 'n_estimators': 94, 'min_samples_split': 4, 'min_samples_leaf': 2, 'max_depth': 4}. Best is trial 33 with value: 0.07112519630987879.\u001b[0m\n",
      "/usr/local/lib/python3.6/dist-packages/sklearn/utils/validation.py:63: DataConversionWarning: A column-vector y was passed when a 1d array was expected. Please change the shape of y to (n_samples, ), for example using ravel().\n",
      "  return f(*args, **kwargs)\n",
      "\u001b[32m[I 2021-12-05 11:43:46,180]\u001b[0m Trial 81 finished with value: 0.09609266987851184 and parameters: {'learning_rate': 0.04350945185250847, 'n_estimators': 357, 'min_samples_split': 4, 'min_samples_leaf': 4, 'max_depth': 10}. Best is trial 33 with value: 0.07112519630987879.\u001b[0m\n",
      "/usr/local/lib/python3.6/dist-packages/sklearn/utils/validation.py:63: DataConversionWarning: A column-vector y was passed when a 1d array was expected. Please change the shape of y to (n_samples, ), for example using ravel().\n",
      "  return f(*args, **kwargs)\n",
      "\u001b[32m[I 2021-12-05 11:43:46,442]\u001b[0m Trial 82 finished with value: 0.07636183880919445 and parameters: {'learning_rate': 0.062171248319149185, 'n_estimators': 357, 'min_samples_split': 3, 'min_samples_leaf': 4, 'max_depth': 3}. Best is trial 33 with value: 0.07112519630987879.\u001b[0m\n",
      "/usr/local/lib/python3.6/dist-packages/sklearn/utils/validation.py:63: DataConversionWarning: A column-vector y was passed when a 1d array was expected. Please change the shape of y to (n_samples, ), for example using ravel().\n",
      "  return f(*args, **kwargs)\n",
      "\u001b[32m[I 2021-12-05 11:43:46,681]\u001b[0m Trial 83 finished with value: 0.08267883876186821 and parameters: {'learning_rate': 0.05347407627430379, 'n_estimators': 421, 'min_samples_split': 4, 'min_samples_leaf': 3, 'max_depth': 2}. Best is trial 33 with value: 0.07112519630987879.\u001b[0m\n",
      "/usr/local/lib/python3.6/dist-packages/sklearn/utils/validation.py:63: DataConversionWarning: A column-vector y was passed when a 1d array was expected. Please change the shape of y to (n_samples, ), for example using ravel().\n",
      "  return f(*args, **kwargs)\n",
      "\u001b[32m[I 2021-12-05 11:43:46,909]\u001b[0m Trial 84 finished with value: 0.07593630650420402 and parameters: {'learning_rate': 0.03491156461672119, 'n_estimators': 312, 'min_samples_split': 9, 'min_samples_leaf': 5, 'max_depth': 3}. Best is trial 33 with value: 0.07112519630987879.\u001b[0m\n",
      "/usr/local/lib/python3.6/dist-packages/sklearn/utils/validation.py:63: DataConversionWarning: A column-vector y was passed when a 1d array was expected. Please change the shape of y to (n_samples, ), for example using ravel().\n",
      "  return f(*args, **kwargs)\n",
      "\u001b[32m[I 2021-12-05 11:43:47,128]\u001b[0m Trial 85 finished with value: 0.07049276503444557 and parameters: {'learning_rate': 0.042780517081778706, 'n_estimators': 239, 'min_samples_split': 6, 'min_samples_leaf': 4, 'max_depth': 4}. Best is trial 85 with value: 0.07049276503444557.\u001b[0m\n",
      "/usr/local/lib/python3.6/dist-packages/sklearn/utils/validation.py:63: DataConversionWarning: A column-vector y was passed when a 1d array was expected. Please change the shape of y to (n_samples, ), for example using ravel().\n",
      "  return f(*args, **kwargs)\n",
      "\u001b[32m[I 2021-12-05 11:43:47,357]\u001b[0m Trial 86 finished with value: 0.08126014858690911 and parameters: {'learning_rate': 0.031078962607957082, 'n_estimators': 217, 'min_samples_split': 6, 'min_samples_leaf': 4, 'max_depth': 5}. Best is trial 85 with value: 0.07049276503444557.\u001b[0m\n",
      "/usr/local/lib/python3.6/dist-packages/sklearn/utils/validation.py:63: DataConversionWarning: A column-vector y was passed when a 1d array was expected. Please change the shape of y to (n_samples, ), for example using ravel().\n",
      "  return f(*args, **kwargs)\n",
      "\u001b[32m[I 2021-12-05 11:43:47,581]\u001b[0m Trial 87 finished with value: 0.0774625809570233 and parameters: {'learning_rate': 0.028107030422983195, 'n_estimators': 243, 'min_samples_split': 6, 'min_samples_leaf': 3, 'max_depth': 4}. Best is trial 85 with value: 0.07049276503444557.\u001b[0m\n",
      "/usr/local/lib/python3.6/dist-packages/sklearn/utils/validation.py:63: DataConversionWarning: A column-vector y was passed when a 1d array was expected. Please change the shape of y to (n_samples, ), for example using ravel().\n",
      "  return f(*args, **kwargs)\n",
      "\u001b[32m[I 2021-12-05 11:43:47,747]\u001b[0m Trial 88 finished with value: 0.07366574529461223 and parameters: {'learning_rate': 0.040181833933434066, 'n_estimators': 172, 'min_samples_split': 7, 'min_samples_leaf': 4, 'max_depth': 4}. Best is trial 85 with value: 0.07049276503444557.\u001b[0m\n",
      "/usr/local/lib/python3.6/dist-packages/sklearn/utils/validation.py:63: DataConversionWarning: A column-vector y was passed when a 1d array was expected. Please change the shape of y to (n_samples, ), for example using ravel().\n",
      "  return f(*args, **kwargs)\n",
      "\u001b[32m[I 2021-12-05 11:43:47,867]\u001b[0m Trial 89 finished with value: 0.07759566897936843 and parameters: {'learning_rate': 0.07255549797046235, 'n_estimators': 120, 'min_samples_split': 5, 'min_samples_leaf': 5, 'max_depth': 4}. Best is trial 85 with value: 0.07049276503444557.\u001b[0m\n",
      "/usr/local/lib/python3.6/dist-packages/sklearn/utils/validation.py:63: DataConversionWarning: A column-vector y was passed when a 1d array was expected. Please change the shape of y to (n_samples, ), for example using ravel().\n",
      "  return f(*args, **kwargs)\n",
      "\u001b[32m[I 2021-12-05 11:43:48,255]\u001b[0m Trial 90 finished with value: 0.08592559919845388 and parameters: {'learning_rate': 0.010923114090173868, 'n_estimators': 381, 'min_samples_split': 6, 'min_samples_leaf': 4, 'max_depth': 5}. Best is trial 85 with value: 0.07049276503444557.\u001b[0m\n",
      "/usr/local/lib/python3.6/dist-packages/sklearn/utils/validation.py:63: DataConversionWarning: A column-vector y was passed when a 1d array was expected. Please change the shape of y to (n_samples, ), for example using ravel().\n",
      "  return f(*args, **kwargs)\n",
      "\u001b[32m[I 2021-12-05 11:43:48,405]\u001b[0m Trial 91 finished with value: 0.073279225174958 and parameters: {'learning_rate': 0.04113235172830603, 'n_estimators': 159, 'min_samples_split': 7, 'min_samples_leaf': 4, 'max_depth': 4}. Best is trial 85 with value: 0.07049276503444557.\u001b[0m\n",
      "/usr/local/lib/python3.6/dist-packages/sklearn/utils/validation.py:63: DataConversionWarning: A column-vector y was passed when a 1d array was expected. Please change the shape of y to (n_samples, ), for example using ravel().\n",
      "  return f(*args, **kwargs)\n",
      "\u001b[32m[I 2021-12-05 11:43:48,584]\u001b[0m Trial 92 finished with value: 0.07334631285847015 and parameters: {'learning_rate': 0.045250716989341466, 'n_estimators': 193, 'min_samples_split': 8, 'min_samples_leaf': 4, 'max_depth': 4}. Best is trial 85 with value: 0.07049276503444557.\u001b[0m\n"
     ]
    },
    {
     "name": "stderr",
     "output_type": "stream",
     "text": [
      "/usr/local/lib/python3.6/dist-packages/sklearn/utils/validation.py:63: DataConversionWarning: A column-vector y was passed when a 1d array was expected. Please change the shape of y to (n_samples, ), for example using ravel().\n",
      "  return f(*args, **kwargs)\n",
      "\u001b[32m[I 2021-12-05 11:43:48,671]\u001b[0m Trial 93 finished with value: 0.0764329568707025 and parameters: {'learning_rate': 0.05994059465715607, 'n_estimators': 79, 'min_samples_split': 7, 'min_samples_leaf': 4, 'max_depth': 4}. Best is trial 85 with value: 0.07049276503444557.\u001b[0m\n",
      "/usr/local/lib/python3.6/dist-packages/sklearn/utils/validation.py:63: DataConversionWarning: A column-vector y was passed when a 1d array was expected. Please change the shape of y to (n_samples, ), for example using ravel().\n",
      "  return f(*args, **kwargs)\n",
      "\u001b[32m[I 2021-12-05 11:43:48,848]\u001b[0m Trial 94 finished with value: 0.07937023108631958 and parameters: {'learning_rate': 0.03761712788318248, 'n_estimators': 153, 'min_samples_split': 7, 'min_samples_leaf': 3, 'max_depth': 5}. Best is trial 85 with value: 0.07049276503444557.\u001b[0m\n",
      "/usr/local/lib/python3.6/dist-packages/sklearn/utils/validation.py:63: DataConversionWarning: A column-vector y was passed when a 1d array was expected. Please change the shape of y to (n_samples, ), for example using ravel().\n",
      "  return f(*args, **kwargs)\n",
      "\u001b[32m[I 2021-12-05 11:43:48,941]\u001b[0m Trial 95 finished with value: 0.07865737839422349 and parameters: {'learning_rate': 0.0520146809920584, 'n_estimators': 107, 'min_samples_split': 8, 'min_samples_leaf': 5, 'max_depth': 3}. Best is trial 85 with value: 0.07049276503444557.\u001b[0m\n",
      "/usr/local/lib/python3.6/dist-packages/sklearn/utils/validation.py:63: DataConversionWarning: A column-vector y was passed when a 1d array was expected. Please change the shape of y to (n_samples, ), for example using ravel().\n",
      "  return f(*args, **kwargs)\n",
      "\u001b[32m[I 2021-12-05 11:43:49,184]\u001b[0m Trial 96 finished with value: 0.07410299547218835 and parameters: {'learning_rate': 0.019458483736617568, 'n_estimators': 264, 'min_samples_split': 6, 'min_samples_leaf': 4, 'max_depth': 4}. Best is trial 85 with value: 0.07049276503444557.\u001b[0m\n",
      "/usr/local/lib/python3.6/dist-packages/sklearn/utils/validation.py:63: DataConversionWarning: A column-vector y was passed when a 1d array was expected. Please change the shape of y to (n_samples, ), for example using ravel().\n",
      "  return f(*args, **kwargs)\n",
      "\u001b[32m[I 2021-12-05 11:43:49,412]\u001b[0m Trial 97 finished with value: 0.08871659546333266 and parameters: {'learning_rate': 0.042111908788416766, 'n_estimators': 213, 'min_samples_split': 8, 'min_samples_leaf': 5, 'max_depth': 5}. Best is trial 85 with value: 0.07049276503444557.\u001b[0m\n",
      "/usr/local/lib/python3.6/dist-packages/sklearn/utils/validation.py:63: DataConversionWarning: A column-vector y was passed when a 1d array was expected. Please change the shape of y to (n_samples, ), for example using ravel().\n",
      "  return f(*args, **kwargs)\n",
      "\u001b[32m[I 2021-12-05 11:43:49,484]\u001b[0m Trial 98 finished with value: 0.09317038439414682 and parameters: {'learning_rate': 0.08110747579414022, 'n_estimators': 49, 'min_samples_split': 4, 'min_samples_leaf': 4, 'max_depth': 6}. Best is trial 85 with value: 0.07049276503444557.\u001b[0m\n",
      "/usr/local/lib/python3.6/dist-packages/sklearn/utils/validation.py:63: DataConversionWarning: A column-vector y was passed when a 1d array was expected. Please change the shape of y to (n_samples, ), for example using ravel().\n",
      "  return f(*args, **kwargs)\n",
      "\u001b[32m[I 2021-12-05 11:43:49,557]\u001b[0m Trial 99 finished with value: 0.8202443978248463 and parameters: {'learning_rate': 0.001636260499613216, 'n_estimators': 77, 'min_samples_split': 5, 'min_samples_leaf': 3, 'max_depth': 3}. Best is trial 85 with value: 0.07049276503444557.\u001b[0m\n"
     ]
    }
   ],
   "source": [
    "def objective(trial):\n",
    "    lr = trial.suggest_loguniform('learning_rate', 0.001, 0.1)\n",
    "    n_estimators = trial.suggest_int('n_estimators', 10, 1000)\n",
    "    min_samples_split = trial.suggest_int('min_samples_split', 2, 10)\n",
    "    min_samples_leaf = trial.suggest_int('min_samples_leaf', 1, 10)\n",
    "    max_depth = trial.suggest_int('max_depth', 1, 10)\n",
    "    \n",
    "    gbr = GradientBoostingRegressor(\n",
    "        learning_rate=lr, \n",
    "        n_estimators=n_estimators, \n",
    "        min_samples_split=min_samples_split,\n",
    "        min_samples_leaf=min_samples_leaf,\n",
    "        max_depth=max_depth)\n",
    "    gbr.fit(x_train_std, y_train)\n",
    "    \n",
    "    pred_gbr = gbr.predict(x_test_std)\n",
    "    r2_gbr = r2_score(y_test, pred_gbr)\n",
    "\n",
    "    return 1-r2_gbr\n",
    "\n",
    "n_trials = 100\n",
    "study = optuna.create_study()\n",
    "study.optimize(objective, n_trials=n_trials)"
   ]
  },
  {
   "cell_type": "code",
   "execution_count": 8,
   "metadata": {},
   "outputs": [
    {
     "data": {
      "text/plain": [
       "FrozenTrial(number=85, values=[0.07049276503444557], datetime_start=datetime.datetime(2021, 12, 5, 11, 43, 46, 910635), datetime_complete=datetime.datetime(2021, 12, 5, 11, 43, 47, 128356), params={'learning_rate': 0.042780517081778706, 'n_estimators': 239, 'min_samples_split': 6, 'min_samples_leaf': 4, 'max_depth': 4}, distributions={'learning_rate': LogUniformDistribution(high=0.1, low=0.001), 'n_estimators': IntUniformDistribution(high=1000, low=10, step=1), 'min_samples_split': IntUniformDistribution(high=10, low=2, step=1), 'min_samples_leaf': IntUniformDistribution(high=10, low=1, step=1), 'max_depth': IntUniformDistribution(high=10, low=1, step=1)}, user_attrs={}, system_attrs={}, intermediate_values={}, trial_id=85, state=TrialState.COMPLETE, value=None)"
      ]
     },
     "execution_count": 8,
     "metadata": {},
     "output_type": "execute_result"
    }
   ],
   "source": [
    "study.best_trial"
   ]
  },
  {
   "cell_type": "code",
   "execution_count": 9,
   "metadata": {
    "scrolled": true
   },
   "outputs": [
    {
     "data": {
      "text/plain": [
       "{'learning_rate': 0.042780517081778706,\n",
       " 'n_estimators': 239,\n",
       " 'min_samples_split': 6,\n",
       " 'min_samples_leaf': 4,\n",
       " 'max_depth': 4}"
      ]
     },
     "execution_count": 9,
     "metadata": {},
     "output_type": "execute_result"
    }
   ],
   "source": [
    "study.best_trial.params"
   ]
  },
  {
   "cell_type": "code",
   "execution_count": 10,
   "metadata": {},
   "outputs": [
    {
     "name": "stderr",
     "output_type": "stream",
     "text": [
      "/usr/local/lib/python3.6/dist-packages/sklearn/utils/validation.py:63: DataConversionWarning: A column-vector y was passed when a 1d array was expected. Please change the shape of y to (n_samples, ), for example using ravel().\n",
      "  return f(*args, **kwargs)\n"
     ]
    },
    {
     "name": "stdout",
     "output_type": "stream",
     "text": [
      "R2 : 0.929\n",
      "MAE : 2.028\n"
     ]
    }
   ],
   "source": [
    "params = study.best_trial.params\n",
    "lr = params['learning_rate']\n",
    "n_estimators = params['n_estimators']\n",
    "min_samples_split = params['min_samples_split']\n",
    "min_samples_leaf = params['min_samples_leaf']\n",
    "max_depth = params['max_depth']\n",
    "\n",
    "gbr = GradientBoostingRegressor(\n",
    "    learning_rate=lr, \n",
    "    n_estimators=n_estimators, \n",
    "    min_samples_split=min_samples_split,\n",
    "    min_samples_leaf=min_samples_leaf,\n",
    "    max_depth=max_depth)\n",
    "gbr.fit(x_train_std, y_train)\n",
    "\n",
    "pred_gbr = gbr.predict(x_test_std)\n",
    "r2_gbr = r2_score(y_test, pred_gbr)\n",
    "mae_gbr = mean_absolute_error(y_test, pred_gbr)\n",
    "\n",
    "print(\"R2 : %.3f\" % r2_gbr)\n",
    "print(\"MAE : %.3f\" % mae_gbr)"
   ]
  }
 ],
 "metadata": {
  "kernelspec": {
   "display_name": "Python 3",
   "language": "python",
   "name": "python3"
  },
  "language_info": {
   "codemirror_mode": {
    "name": "ipython",
    "version": 3
   },
   "file_extension": ".py",
   "mimetype": "text/x-python",
   "name": "python",
   "nbconvert_exporter": "python",
   "pygments_lexer": "ipython3",
   "version": "3.6.9"
  }
 },
 "nbformat": 4,
 "nbformat_minor": 5
}
