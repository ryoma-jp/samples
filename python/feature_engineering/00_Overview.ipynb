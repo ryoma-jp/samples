{
 "cells": [
  {
   "cell_type": "markdown",
   "id": "cff42f68",
   "metadata": {},
   "source": [
    "# 特徴量エンジニアリング概要"
   ]
  },
  {
   "cell_type": "markdown",
   "id": "77aff94d",
   "metadata": {},
   "source": [
    "## 本プロジェクトの目的\n",
    "\n",
    "機械学習のパフォーマンス改善に向けて重要な特徴量エンジニアリングの手法を，実装例を交えて紹介する．  \n",
    "主に特徴量エンジニアリングについて述べるが，一部特徴量選択についても触れる．"
   ]
  },
  {
   "cell_type": "markdown",
   "id": "3abb20c1",
   "metadata": {},
   "source": [
    "## 特徴量エンジニアリングとは\n",
    "\n",
    "機械学習における特徴量とは，分析対象を測定することが可能な変数を指す．データセットでは特徴量は列として表記されることが多い．\n",
    "\n",
    "データセットに含める特徴量の質が，機械学習モデルの精度に影響し，ひいては機械学習を活用する場合に得るインサイトの質に大きく影響する．\n",
    "\n",
    "データセットの質を改善する為に，特徴量選択や特徴量エンジニアリングが実施される．  \n",
    "特徴量選択は分析対象に関連する特徴量に重点を置き，無関係な特徴量を取り除くプロセスを指す．特徴量エンジニアリングは，既存の特徴量をもとに新たな特徴量を構築してデータセットに追加することを指す．"
   ]
  },
  {
   "cell_type": "markdown",
   "id": "895573ac",
   "metadata": {},
   "source": [
    "## 特徴量選択と特徴量エンジニアリングの具体例\n",
    "\n",
    "特徴エンジニアリングの手法の詳細は他のNotebookに記載するが，本節では特徴量選択と特徴量エンジニアリングの違いを説明する為の具体例を示す．\n",
    "\n",
    "データセットは[Human Activity Recognition Using Smartphones Data Set](https://archive.ics.uci.edu/ml/datasets/human+activity+recognition+using+smartphones)を使用し，論文[Human Activity Analysis and Recognition from\n",
    "Smartphones using Machine Learning Techniques](https://arxiv.org/abs/2103.16490)の実験結果のうち，最も精度の高いSVM(Support Vector Machine)と最も精度の低いDT(Decision Tree)の2モデルに対して試行する．\n",
    "\n",
    "パラメータは論文のベストパラメータを設定する．\n",
    "\n",
    "|Models|Parameters|\n",
    "|:--|:--|\n",
    "|DT|Criterion: Gini, Max Depth: 4|\n",
    "|SVM|C: 1.0, Kernel: Linear|"
   ]
  },
  {
   "cell_type": "markdown",
   "id": "ef86536f",
   "metadata": {},
   "source": [
    "### 実装例"
   ]
  },
  {
   "cell_type": "code",
   "execution_count": 1,
   "id": "a80dea29",
   "metadata": {},
   "outputs": [],
   "source": [
    "# --- ローカルモジュールの更新を自動で読み込む ---\n",
    "%load_ext autoreload\n",
    "%autoreload 2"
   ]
  },
  {
   "cell_type": "code",
   "execution_count": 2,
   "id": "9c62164d",
   "metadata": {},
   "outputs": [],
   "source": [
    "import os\n",
    "import numpy as np\n",
    "import pandas as pd\n",
    "from sklearn import tree\n",
    "from sklearn.model_selection import GridSearchCV\n",
    "from sklearn.metrics import classification_report\n",
    "from lib.dataloader.uci_har import load_uci_har"
   ]
  },
  {
   "cell_type": "markdown",
   "id": "d47a4ef5",
   "metadata": {},
   "source": [
    "#### データセットダウンロード"
   ]
  },
  {
   "cell_type": "code",
   "execution_count": 3,
   "id": "9a7d1719",
   "metadata": {
    "scrolled": true
   },
   "outputs": [
    {
     "name": "stdout",
     "output_type": "stream",
     "text": [
      "--2021-09-02 12:06:40--  https://archive.ics.uci.edu/ml/machine-learning-databases/00240/UCI%20HAR%20Dataset.zip\n",
      "Resolving archive.ics.uci.edu (archive.ics.uci.edu)... 128.195.10.252\n",
      "Connecting to archive.ics.uci.edu (archive.ics.uci.edu)|128.195.10.252|:443... connected.\n",
      "HTTP request sent, awaiting response... 200 OK\n",
      "Length: 60999314 (58M) [application/x-httpd-php]\n",
      "Saving to: ‘UCI HAR Dataset.zip’\n",
      "\n",
      "UCI HAR Dataset.zip 100%[===================>]  58.17M  9.61MB/s    in 5.9s    \n",
      "\n",
      "2021-09-02 12:06:46 (9.86 MB/s) - ‘UCI HAR Dataset.zip’ saved [60999314/60999314]\n",
      "\n",
      " __MACOSX  'UCI HAR Dataset'  'UCI HAR Dataset.zip'\n"
     ]
    }
   ],
   "source": [
    "!mkdir -p \"uci_har_datasets\"\n",
    "\n",
    "if (not os.path.exists(os.path.join(\"uci_har_datasets\", \"UCI HAR Dataset.zip\"))):\n",
    "    !cd uci_har_datasets ; \\\n",
    "        wget \"https://archive.ics.uci.edu/ml/machine-learning-databases/00240/UCI%20HAR%20Dataset.zip\" ; \\\n",
    "        unzip -q \"UCI HAR Dataset.zip\" ; \\\n",
    "        ls\n",
    "else:\n",
    "    print('[INFO] Dataset uci_har_datasets is already exist')"
   ]
  },
  {
   "cell_type": "code",
   "execution_count": 4,
   "id": "60e2195c",
   "metadata": {},
   "outputs": [
    {
     "name": "stdout",
     "output_type": "stream",
     "text": [
      "(7352, 561)\n",
      "(7352, 1)\n",
      "(2947, 561)\n",
      "(2947, 1)\n"
     ]
    }
   ],
   "source": [
    "dataset_dir = os.path.join('uci_har_datasets', 'UCI HAR Dataset')\n",
    "x_train, y_train, x_test, y_test = load_uci_har(dataset_dir)\n",
    "\n",
    "print(x_train.shape)\n",
    "print(y_train.shape)\n",
    "print(x_test.shape)\n",
    "print(y_test.shape)"
   ]
  },
  {
   "cell_type": "code",
   "execution_count": null,
   "id": "4a88b25f",
   "metadata": {},
   "outputs": [],
   "source": [
    "params = {\n",
    "    'criterion': ['gini', 'entropy'],\n",
    "    'max_depth': [2, 4, 6, 8]\n",
    "}\n",
    "dt_clf = GridSearchCV(tree.DecisionTreeClassifier(), params)\n",
    "dt_clf.fit(x_train, y_train)\n",
    "\n",
    "print('[INFO] Best params: {}'.format(dt_clf.best_params_))\n",
    "print('[INFO] Best score: {}'.format(dt_clf.best_score_))"
   ]
  },
  {
   "cell_type": "code",
   "execution_count": null,
   "id": "08de5f42",
   "metadata": {},
   "outputs": [],
   "source": [
    "prediction = dt_clf.predict(x_test)\n",
    "print(prediction.shape)"
   ]
  },
  {
   "cell_type": "code",
   "execution_count": null,
   "id": "f780b63a",
   "metadata": {},
   "outputs": [],
   "source": [
    "print(classification_report(y_test, prediction))"
   ]
  },
  {
   "cell_type": "markdown",
   "id": "5bcd8ab5",
   "metadata": {},
   "source": [
    "## Reference\n",
    "\n",
    "* [特徴量変数](https://www.datarobot.com/jp/wiki/feature/)\n",
    "* [特徴量の選択](https://www.datarobot.com/jp/wiki/feature-selection/)\n",
    "* [特徴量エンジニアリング](https://www.datarobot.com/jp/wiki/feature-engineering/)\n",
    "* [データインサイト](https://www.datarobot.com/jp/wiki/insights/)\n",
    "* [Awesome Public Datasets](https://github.com/awesomedata/awesome-public-datasets)\n",
    "* [Feature-Engineeringのリンク集めてみた](https://qiita.com/squash/items/667f8cda16c76448b0f4)\n",
    "* [DataFrameで特徴量作るのめんどくさ過ぎる。。featuretoolsを使って自動生成したろ](https://qiita.com/Hyperion13fleet/items/4eaca365f28049fe11c7)\n",
    "* [時系列データから自動で特徴抽出するライブラリ tsfresh](https://qiita.com/yuko1658/items/871df86f99a9134cc9ef)\n",
    "* [特徴量選択のまとめ](https://qiita.com/shimopino/items/5fee7504c7acf044a521)\n",
    "* [機械学習で特徴量を正しく選択する方法](https://rightcode.co.jp/blog/information-technology/feature-selection-right-choice)\n",
    "* [特徴選択とは？機械学習の予測精度を改善させる必殺技「特徴選択」を理解しよう](https://www.codexa.net/feature-selection-methods/)\n",
    "* [Human Activity Recognition Using Smartphones Data Set](https://archive.ics.uci.edu/ml/datasets/human+activity+recognition+using+smartphones)\n",
    "* [Human Activity Recognition using Smartphone](https://arxiv.org/abs/1401.8212)\n",
    "* [Human Activity Analysis and Recognition from\n",
    "Smartphones using Machine Learning Techniques](https://arxiv.org/abs/2103.16490)\n",
    "* [Human Activity Recognition using Machine Learning](https://github.com/sushantdhumak/Human-Activity-Recognition-with-Smartphones)"
   ]
  }
 ],
 "metadata": {
  "kernelspec": {
   "display_name": "Python 3",
   "language": "python",
   "name": "python3"
  },
  "language_info": {
   "codemirror_mode": {
    "name": "ipython",
    "version": 3
   },
   "file_extension": ".py",
   "mimetype": "text/x-python",
   "name": "python",
   "nbconvert_exporter": "python",
   "pygments_lexer": "ipython3",
   "version": "3.9.4"
  }
 },
 "nbformat": 4,
 "nbformat_minor": 5
}
