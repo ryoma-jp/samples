{
 "cells": [
  {
   "cell_type": "markdown",
   "id": "cff42f68",
   "metadata": {},
   "source": [
    "# 特徴量エンジニアリング概要"
   ]
  },
  {
   "cell_type": "markdown",
   "id": "77aff94d",
   "metadata": {},
   "source": [
    "## 本プロジェクトの目的\n",
    "\n",
    "機械学習のパフォーマンス改善に向けて重要な特徴量エンジニアリングの手法を，実装例を交えて紹介する．  \n",
    "主に特徴量エンジニアリングについて述べるが，一部特徴量選択についても触れる．"
   ]
  },
  {
   "cell_type": "markdown",
   "id": "3abb20c1",
   "metadata": {},
   "source": [
    "## 特徴量エンジニアリングとは\n",
    "\n",
    "機械学習における特徴量とは，分析対象を測定することが可能な変数を指す．データセットでは特徴量は列として表記されることが多い．\n",
    "\n",
    "データセットに含める特徴量の質が，機械学習モデルの精度に影響し，ひいては機械学習を活用する場合に得るインサイトの質に大きく影響する．\n",
    "\n",
    "データセットの質を改善する為に，特徴量選択や特徴量エンジニアリングが実施される．  \n",
    "特徴量選択は分析対象に関連する特徴量に重点を置き，無関係な特徴量を取り除くプロセスを指す．特徴量エンジニアリングは，既存の特徴量をもとに新たな特徴量を構築してデータセットに追加することを指す．"
   ]
  },
  {
   "cell_type": "markdown",
   "id": "895573ac",
   "metadata": {},
   "source": [
    "## 特徴量選択と特徴量エンジニアリングの具体例\n",
    "\n",
    "特徴エンジニアリングの手法の詳細は他のNotebookに記載するが，本節では特徴量選択と特徴量エンジニアリングの違いを説明する為の具体例を示す．\n"
   ]
  },
  {
   "cell_type": "markdown",
   "id": "5bcd8ab5",
   "metadata": {},
   "source": [
    "## Reference\n",
    "\n",
    "* [特徴量変数](https://www.datarobot.com/jp/wiki/feature/)\n",
    "* [特徴量の選択](https://www.datarobot.com/jp/wiki/feature-selection/)\n",
    "* [特徴量エンジニアリング](https://www.datarobot.com/jp/wiki/feature-engineering/)\n",
    "* [データインサイト](https://www.datarobot.com/jp/wiki/insights/)\n",
    "* [Awesome Public Datasets](https://github.com/awesomedata/awesome-public-datasets)\n",
    "* [Feature-Engineeringのリンク集めてみた](https://qiita.com/squash/items/667f8cda16c76448b0f4)\n",
    "* [DataFrameで特徴量作るのめんどくさ過ぎる。。featuretoolsを使って自動生成したろ](https://qiita.com/Hyperion13fleet/items/4eaca365f28049fe11c7)\n",
    "* [時系列データから自動で特徴抽出するライブラリ tsfresh](https://qiita.com/yuko1658/items/871df86f99a9134cc9ef)"
   ]
  }
 ],
 "metadata": {
  "kernelspec": {
   "display_name": "Python 3",
   "language": "python",
   "name": "python3"
  },
  "language_info": {
   "codemirror_mode": {
    "name": "ipython",
    "version": 3
   },
   "file_extension": ".py",
   "mimetype": "text/x-python",
   "name": "python",
   "nbconvert_exporter": "python",
   "pygments_lexer": "ipython3",
   "version": "3.9.4"
  }
 },
 "nbformat": 4,
 "nbformat_minor": 5
}
