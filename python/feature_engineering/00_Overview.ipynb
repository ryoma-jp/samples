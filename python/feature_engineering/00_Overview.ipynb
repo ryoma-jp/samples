{
 "cells": [
  {
   "cell_type": "markdown",
   "id": "cff42f68",
   "metadata": {},
   "source": [
    "# 特徴量エンジニアリング概要"
   ]
  },
  {
   "cell_type": "markdown",
   "id": "77aff94d",
   "metadata": {},
   "source": [
    "## 本プロジェクトの目的\n",
    "\n",
    "機械学習のパフォーマンス改善に向けて重要な特徴量エンジニアリングの手法を，実装例を交えて紹介する．  \n",
    "主に特徴量エンジニアリングについて述べるが，一部特徴量選択についても触れる．"
   ]
  },
  {
   "cell_type": "markdown",
   "id": "3abb20c1",
   "metadata": {},
   "source": [
    "## 特徴量エンジニアリングとは\n",
    "\n",
    "機械学習における特徴量とは，分析対象を測定することが可能な変数を指す．データセットでは特徴量は列として表記されることが多い．\n",
    "\n",
    "データセットに含める特徴量の質が，機械学習モデルの精度に影響し，ひいては機械学習を活用する場合に得るインサイトの質に大きく影響する．\n",
    "\n",
    "データセットの質を改善する為に，特徴量選択や特徴量エンジニアリングが実施される．  \n",
    "特徴量選択は分析対象に関連する特徴量に重点を置き，無関係な特徴量を取り除くプロセスを指す．特徴量エンジニアリングは，既存の特徴量をもとに新たな特徴量を構築してデータセットに追加することを指す．"
   ]
  },
  {
   "cell_type": "markdown",
   "id": "895573ac",
   "metadata": {},
   "source": [
    "## 特徴量選択と特徴量エンジニアリングの具体例\n",
    "\n",
    "特徴エンジニアリングの手法の詳細は他のNotebookに記載するが，本節では特徴量選択と特徴量エンジニアリングの違いを説明する為の具体例を示す．\n",
    "\n",
    "データセットはFlood Modeling Datasetを使用し，論文[Time Series Extrinsic Regression](https://arxiv.org/abs/2006.12672)のSVR Optimisedの条件に対してtsfreshによる特徴量選択及び特徴量エンジニアリングを試行する．\n",
    "\n",
    "学習パラメータは論文通り，下記パラメータに対して3-Folds Cross ValidationのGridSearchのベストモデルを採用する．\n",
    "\n",
    "|Parameters|Values|\n",
    "|:--|:--|\n",
    "|Kernel|RBF, Sigmoid|\n",
    "|gamma|0.001, 0.01, 0.1, 1|\n",
    "|C|0.1, 1, 10, 100|\n"
   ]
  },
  {
   "cell_type": "markdown",
   "id": "ef86536f",
   "metadata": {},
   "source": [
    "### 実装例"
   ]
  },
  {
   "cell_type": "code",
   "execution_count": 1,
   "id": "055b80ed",
   "metadata": {},
   "outputs": [],
   "source": [
    "# --- ローカルモジュールの更新を自動で読み込む ---\n",
    "%load_ext autoreload\n",
    "%autoreload 2"
   ]
  },
  {
   "cell_type": "code",
   "execution_count": 2,
   "id": "9c62164d",
   "metadata": {},
   "outputs": [],
   "source": [
    "import os\n",
    "import numpy as np\n",
    "import pandas as pd\n",
    "import matplotlib.pyplot as plt\n",
    "from sklearn import svm\n",
    "from sklearn.model_selection import GridSearchCV\n",
    "from sklearn.model_selection import KFold\n",
    "from sklearn.metrics import mean_squared_error\n",
    "from sklearn.metrics import make_scorer\n",
    "from lib.dataloader.flood_modeling import load_flood_modeling"
   ]
  },
  {
   "cell_type": "markdown",
   "id": "d47a4ef5",
   "metadata": {},
   "source": [
    "#### データセットダウンロード"
   ]
  },
  {
   "cell_type": "code",
   "execution_count": 3,
   "id": "9a7d1719",
   "metadata": {
    "scrolled": true
   },
   "outputs": [
    {
     "name": "stdout",
     "output_type": "stream",
     "text": [
      "[INFO] Dataset flood_modeling_datasets is already exist\n"
     ]
    }
   ],
   "source": [
    "if (not os.path.exists(\"flood_modeling_datasets\")):\n",
    "    !mkdir -p \"flood_modeling_datasets\" ; \\\n",
    "        cd flood_modeling_datasets ; \\\n",
    "        wget \"https://zenodo.org/record/3902694/files/FloodModeling1_TEST.ts\" ; \\\n",
    "        wget \"https://zenodo.org/record/3902694/files/FloodModeling1_TRAIN.ts\" ; \\\n",
    "        ls\n",
    "else:\n",
    "    print('[INFO] Dataset flood_modeling_datasets is already exist')"
   ]
  },
  {
   "cell_type": "code",
   "execution_count": 4,
   "id": "60e2195c",
   "metadata": {
    "scrolled": true
   },
   "outputs": [
    {
     "name": "stdout",
     "output_type": "stream",
     "text": [
      "(471, 266)\n",
      "(471,)\n",
      "(202, 266)\n",
      "(202,)\n"
     ]
    }
   ],
   "source": [
    "train_ts = os.path.join('flood_modeling_datasets', 'FloodModeling1_TRAIN.ts')\n",
    "test_ts = os.path.join('flood_modeling_datasets', 'FloodModeling1_TEST.ts')\n",
    "x_train, y_train, x_test, y_test = load_flood_modeling(train_ts, test_ts)\n",
    "\n",
    "print(x_train.shape)\n",
    "print(y_train.shape)\n",
    "print(x_test.shape)\n",
    "print(y_test.shape)"
   ]
  },
  {
   "cell_type": "markdown",
   "id": "30c26a40",
   "metadata": {},
   "source": [
    "#### 3-Flods Cross ValidationとGridSearchでモデルを学習する"
   ]
  },
  {
   "cell_type": "code",
   "execution_count": 5,
   "id": "4a88b25f",
   "metadata": {},
   "outputs": [
    {
     "name": "stdout",
     "output_type": "stream",
     "text": [
      "[INFO] Best params: {'C': 0.1, 'gamma': 0.01, 'kernel': 'sigmoid'}\n",
      "[INFO] Best score: 0.04293317276271991\n"
     ]
    }
   ],
   "source": [
    "def rmse(y_true, y_pred):\n",
    "    rmse = np.sqrt(mean_squared_error(y_true, y_pred))\n",
    "    return rmse\n",
    "\n",
    "params = {\n",
    "    'kernel': ['rbf', 'sigmoid'],\n",
    "    'gamma': [0.001, 0.01, 0.1, 1],\n",
    "    'C': [0.1, 1, 10, 100]\n",
    "}\n",
    "model_svr = GridSearchCV(\n",
    "    svm.SVR(),\n",
    "    params,\n",
    "    cv=KFold(n_splits=3, shuffle=True, random_state=1234),\n",
    "    scoring=make_scorer(rmse, greater_is_better=False))\n",
    "model_svr.fit(x_train, y_train)\n",
    "\n",
    "print('[INFO] Best params: {}'.format(model_svr.best_params_))\n",
    "print('[INFO] Best score: {}'.format(-model_svr.best_score_))"
   ]
  },
  {
   "cell_type": "markdown",
   "id": "f888ec68",
   "metadata": {},
   "source": [
    "#### テストデータで評価"
   ]
  },
  {
   "cell_type": "code",
   "execution_count": 6,
   "id": "a3deaaeb",
   "metadata": {},
   "outputs": [
    {
     "name": "stdout",
     "output_type": "stream",
     "text": [
      "0.046303583075482053\n"
     ]
    }
   ],
   "source": [
    "prediction = model_svr.predict(x_test)\n",
    "print(rmse(y_test, prediction))"
   ]
  },
  {
   "cell_type": "markdown",
   "id": "5fc9f406",
   "metadata": {},
   "source": [
    "論文[Time Series Extrinsic Regression](https://arxiv.org/abs/2006.12672)の実験結果がRMSE=0.05なので，再現できた．"
   ]
  },
  {
   "cell_type": "markdown",
   "id": "5bcd8ab5",
   "metadata": {},
   "source": [
    "## Reference\n",
    "\n",
    "* [特徴量変数](https://www.datarobot.com/jp/wiki/feature/)\n",
    "* [特徴量の選択](https://www.datarobot.com/jp/wiki/feature-selection/)\n",
    "* [特徴量エンジニアリング](https://www.datarobot.com/jp/wiki/feature-engineering/)\n",
    "* [データインサイト](https://www.datarobot.com/jp/wiki/insights/)\n",
    "* [Awesome Public Datasets](https://github.com/awesomedata/awesome-public-datasets)\n",
    "* [Feature-Engineeringのリンク集めてみた](https://qiita.com/squash/items/667f8cda16c76448b0f4)\n",
    "* [DataFrameで特徴量作るのめんどくさ過ぎる。。featuretoolsを使って自動生成したろ](https://qiita.com/Hyperion13fleet/items/4eaca365f28049fe11c7)\n",
    "* [時系列データから自動で特徴抽出するライブラリ tsfresh](https://qiita.com/yuko1658/items/871df86f99a9134cc9ef)\n",
    "* [特徴量選択のまとめ](https://qiita.com/shimopino/items/5fee7504c7acf044a521)\n",
    "* [機械学習で特徴量を正しく選択する方法](https://rightcode.co.jp/blog/information-technology/feature-selection-right-choice)\n",
    "* [特徴選択とは？機械学習の予測精度を改善させる必殺技「特徴選択」を理解しよう](https://www.codexa.net/feature-selection-methods/)\n",
    "* [Human Activity Recognition Using Smartphones Data Set](https://archive.ics.uci.edu/ml/datasets/human+activity+recognition+using+smartphones)\n",
    "* [Human Activity Recognition using Smartphone](https://arxiv.org/abs/1401.8212)\n",
    "* [Human Activity Analysis and Recognition from\n",
    "Smartphones using Machine Learning Techniques](https://arxiv.org/abs/2103.16490)\n",
    "* [Human Activity Recognition using Machine Learning](https://github.com/sushantdhumak/Human-Activity-Recognition-with-Smartphones)\n",
    "* [How to Choose a Feature Selection Method For Machine Learning](https://machinelearningmastery.com/feature-selection-with-real-and-categorical-data/)\n",
    "* [統計分析を理解しよう-よく使われている統計分析方法の概要-](https://www.nli-research.co.jp/report/detail/id=61928?site=nli)\n",
    "* [Monash, UEA & UCR Time Series Extrinsic Regression Repository](http://tseregression.org/)\n",
    "* [Flood Modeling Dataset 1](https://zenodo.org/record/3902694#.YTQjG50zaUk)\n",
    "* [Flood Modeling Dataset 2](https://zenodo.org/record/3902696#.YTQktZ0zaUk)\n",
    "* [Flood Modeling Dataset 3](https://zenodo.org/record/3902698#.YTQktZ0zaUk)\n",
    "* [Monash University, UEA, UCR Time Series Extrinsic Regression Archive](https://arxiv.org/abs/2006.10996)\n",
    "* [Time Series Extrinsic Regression](https://arxiv.org/abs/2006.12672)\n",
    "* [ChangWeiTan/TS-Extrinsic-Regression](https://github.com/ChangWeiTan/TS-Extrinsic-Regression)"
   ]
  }
 ],
 "metadata": {
  "kernelspec": {
   "display_name": "Python 3",
   "language": "python",
   "name": "python3"
  },
  "language_info": {
   "codemirror_mode": {
    "name": "ipython",
    "version": 3
   },
   "file_extension": ".py",
   "mimetype": "text/x-python",
   "name": "python",
   "nbconvert_exporter": "python",
   "pygments_lexer": "ipython3",
   "version": "3.9.4"
  }
 },
 "nbformat": 4,
 "nbformat_minor": 5
}
