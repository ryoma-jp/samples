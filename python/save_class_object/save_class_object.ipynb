{
 "cells": [
  {
   "cell_type": "code",
   "execution_count": 1,
   "id": "26ee762e",
   "metadata": {},
   "outputs": [],
   "source": [
    "import pickle"
   ]
  },
  {
   "cell_type": "code",
   "execution_count": 2,
   "id": "f5a168a2",
   "metadata": {},
   "outputs": [],
   "source": [
    "class SampleClass():\n",
    "    def __init__(self, a=5, b=7):\n",
    "        self.a = a\n",
    "        self.b = b\n",
    "    \n",
    "    def add(self):\n",
    "        return self.a + self.b\n",
    "    \n",
    "    def mul(self):\n",
    "        return self.a * self.b"
   ]
  },
  {
   "cell_type": "code",
   "execution_count": 3,
   "id": "c7ce15bd",
   "metadata": {},
   "outputs": [
    {
     "name": "stdout",
     "output_type": "stream",
     "text": [
      "12\n",
      "35\n"
     ]
    }
   ],
   "source": [
    "sc = SampleClass(a=5, b=7)\n",
    "print(sc.add())\n",
    "print(sc.mul())"
   ]
  },
  {
   "cell_type": "code",
   "execution_count": 4,
   "id": "b3440b43",
   "metadata": {},
   "outputs": [
    {
     "name": "stdout",
     "output_type": "stream",
     "text": [
      "docker\tREADME.md  save_class_object.ipynb  sc_object.pkl\r\n"
     ]
    }
   ],
   "source": [
    "!ls"
   ]
  },
  {
   "cell_type": "code",
   "execution_count": 5,
   "id": "ae451522",
   "metadata": {},
   "outputs": [],
   "source": [
    "with open('sc_object.pkl', 'wb') as f:\n",
    "    pickle.dump(sc, f)"
   ]
  },
  {
   "cell_type": "code",
   "execution_count": 6,
   "id": "1244eec4",
   "metadata": {},
   "outputs": [
    {
     "name": "stdout",
     "output_type": "stream",
     "text": [
      "docker\tREADME.md  save_class_object.ipynb  sc_object.pkl\r\n"
     ]
    }
   ],
   "source": [
    "!ls"
   ]
  },
  {
   "cell_type": "code",
   "execution_count": 7,
   "id": "99224455",
   "metadata": {},
   "outputs": [
    {
     "name": "stdout",
     "output_type": "stream",
     "text": [
      "5 7\n",
      "12\n",
      "35\n"
     ]
    }
   ],
   "source": [
    "with open('sc_object.pkl', 'rb') as f:\n",
    "    load_obj = pickle.load(f)\n",
    "\n",
    "print(load_obj.a, load_obj.b)\n",
    "print(load_obj.add())\n",
    "print(load_obj.mul())"
   ]
  }
 ],
 "metadata": {
  "kernelspec": {
   "display_name": "Python 3",
   "language": "python",
   "name": "python3"
  },
  "language_info": {
   "codemirror_mode": {
    "name": "ipython",
    "version": 3
   },
   "file_extension": ".py",
   "mimetype": "text/x-python",
   "name": "python",
   "nbconvert_exporter": "python",
   "pygments_lexer": "ipython3",
   "version": "3.9.4"
  }
 },
 "nbformat": 4,
 "nbformat_minor": 5
}
