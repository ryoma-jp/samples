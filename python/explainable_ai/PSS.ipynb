{
 "cells": [
  {
   "cell_type": "markdown",
   "metadata": {},
   "source": [
    "# PSS\n",
    "\n",
    "PSS(Parameter-Space Saliency)は，Deep Learningモデルの顕著性(Saliency)を可視化する手法の一つである．\n",
    "\n",
    "誤分類に影響したパラメータ(Weight)を分析するアプローチで，影響の大きいパラメータを補正することでDeep Learningモデルの性能を改善できることが示された．"
   ]
  },
  {
   "cell_type": "markdown",
   "metadata": {},
   "source": [
    "## 参考文献\n",
    "\n",
    "* 論文\n",
    "  * https://arxiv.org/abs/2108.01335\n",
    "* GitHub\n",
    "  * https://github.com/LevinRoman/parameter-space-saliency\n",
    "* 解説資料：DL輪読会\n",
    "  * https://www.slideshare.net/DeepLearningJP2016/dlwhere-do-models-go-wrong-parameterspace-saliency-maps-for-explainability"
   ]
  },
  {
   "cell_type": "markdown",
   "metadata": {},
   "source": [
    "## PSS効果例\n",
    "\n",
    "論文ではGrad-CAMとの比較が示されている．  \n",
    "下図のようにPSSではGrad-CAMでは表現されない可視化要因を表現することができる(右2枚，ユキヒメドリ(junco)及び旅客列車(passenger car))．\n",
    "\n",
    "![paper figure19](./figure/PSS/paper_figure19.png)"
   ]
  },
  {
   "cell_type": "markdown",
   "metadata": {},
   "source": [
    "## PSS理論解説\n",
    "\n",
    "[PSS論文](https://arxiv.org/abs/2108.01335)では，パラメータ顕著性(Parameter saliency)の計算方法の説明(2.1 Parameter saliency profile)とモデルの誤動作を入力空間へ可視化する方法の説明(2.2 Input-space saliency for visualizing how filters malfunction)の2部構成で述べられる．"
   ]
  },
  {
   "cell_type": "markdown",
   "metadata": {},
   "source": [
    "### Parameter saliency profile\n",
    "\n",
    "パラメータ顕著性は下記の3ステップで計算する．\n",
    "\n",
    "1. パラメータ毎の顕著性の計算\n",
    "1. フィルタ毎の顕著性への集約\n",
    "1. Validationデータによる標準化\n"
   ]
  },
  {
   "cell_type": "markdown",
   "metadata": {},
   "source": [
    "#### パラメータ毎の顕著性の計算\n",
    "\n",
    "入力$x$，正解ラベル$y$のValidationデータセット$D$，及び，損失関数$\\mathcal{L}$で最小化したパラメータ$\\theta$を持つ識別モデルを仮定する．\n",
    "\n",
    "パラメータ毎の顕著性は，損失関数を識別モデルの各パラメータで偏微分して得られる勾配の大きさで定義する．  \n",
    "インデックス$i$のパラメータを$\\theta_i$で表すと，パラメータ毎の顕著性$s(x, y)_i$は以下のように定義される．\n",
    "\n",
    "$$\n",
    "  \\begin{align}\n",
    "    s(x, y)_i &:= |\\nabla_{\\theta_i}\\mathcal{L}_\\theta (x, y)|\n",
    "  \\end{align}\n",
    "$$\n"
   ]
  },
  {
   "cell_type": "markdown",
   "metadata": {},
   "source": [
    "#### フィルタ毎の顕著性への集約 \n",
    "\n",
    "畳み込みフィルタはエッジ(Edge)，形状(Shape)，質感(Texture)を検出する性質があることで知られている．\n",
    "\n",
    "顕著性$s(x, y)_i$をフィルタ毎に集約することにより，損失が最も敏感なフィルタを分離することが可能となる．つまり，分離されたフィルタを修正することによって，損失をより大きく減少させることが期待できる．\n",
    "\n",
    "識別モデルの一つのフィルタを$\\mathcal{F}_k$，フィルタ$\\mathcal{F}_k$に属するパラメータのインデックス群(例えば，フィルタサイズが$3x3$の場合は，要素数9のインデックスベクトル)を$\\alpha_k$で示す．フィルタ毎の顕著性$\\bar{s}(x, y)_k$は，パラメータ毎の顕著性をフィルタ単位で平均を求めるものとして，下記のように定義される．\n",
    "\n",
    "$$\n",
    "  \\begin{align}\n",
    "    \\bar{s}(x, y)_k &:= \\frac{1}{|\\alpha_k|}\\sum_{i \\in \\alpha_k}s(x, y)_i\n",
    "  \\end{align}\n",
    "$$\n",
    "\n"
   ]
  },
  {
   "cell_type": "markdown",
   "metadata": {},
   "source": [
    "#### Validationデータによる標準化\n",
    "\n",
    "下図(論文Figure1)の上図は，ResNet-50で層毎の顕著性を，ImageNetのValidationデータセットに対して平均値を算出し，層毎に顕著性降順にソートしたグラフである．\n",
    "\n",
    "![paper figure1](./figure/PSS/paper_figure1.png)\n",
    "\n",
    "勾配のスケールが入力層から出力層の間で異なっていることが明らかである(入力層の顕著性が大きく，出力層に向かうにつれて小さくなる)．これにはいくつかの要因がある．\n",
    "\n",
    "1. 入力層に近いフィルタは，エッジ(Edge)や質感(Texture)等，幅広い画像に対して有効な特徴量を抽出する性質を持つ．\n",
    "  * つまり，タスクに特化したフィルタではない為，出力層のフィルタと比較した際に相対的に損失が大きくなる\n",
    "1. 一般的にネットワークを構成する際は入力層に近いほどフィルタ数が少なくなるように設計する．層あたりのフィルタ数が少ないと，各フィルタが及ぼす影響力が相対的に大きくなる．\n",
    "1. 入力層に近いフィルタの効果は，後続のネットワークへ継承される．\n",
    "  * つまり，出力層に向かうにつれて入力層側のフィルタで獲得した特徴量を破壊しないように影響度が小さくなる\n",
    "  \n",
    "そこで，スケールをフィルタ間で合わせるために，フィルタ毎にValidationデータセットで標準化する．フィルタ$k$の標準化顕著性$\\hat{s}(x, y)_k$は下記のように定義される．\n",
    "\n",
    "$$\n",
    "  \\begin{align}\n",
    "    \\hat{s}(x, y)_k &:= \\frac{|\\bar{s}(x, y)_k - \\mu_k|}{\\sigma_k}\n",
    "  \\end{align}\n",
    "$$\n",
    "\n",
    "これを一般化すると，\n",
    "\n",
    "$$\n",
    "  \\begin{align}\n",
    "    \\hat{s}(x, y) &:= \\frac{|\\bar{s}(x, y) - \\mu|}{\\sigma}\n",
    "  \\end{align}\n",
    "$$\n",
    "\n",
    "となり，畳み込みフィルタ数長のテンソルが$\\hat{s}(x, y)$として得られる．\n"
   ]
  },
  {
   "cell_type": "markdown",
   "metadata": {},
   "source": [
    "### Input-space saliency for visualizing how filters malfunction\n",
    "\n",
    "T.B.D"
   ]
  }
 ],
 "metadata": {
  "kernelspec": {
   "display_name": "Python 3",
   "language": "python",
   "name": "python3"
  },
  "language_info": {
   "codemirror_mode": {
    "name": "ipython",
    "version": 3
   },
   "file_extension": ".py",
   "mimetype": "text/x-python",
   "name": "python",
   "nbconvert_exporter": "python",
   "pygments_lexer": "ipython3",
   "version": "3.6.9"
  }
 },
 "nbformat": 4,
 "nbformat_minor": 2
}
