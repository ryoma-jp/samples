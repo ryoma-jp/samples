{
 "cells": [
  {
   "cell_type": "markdown",
   "metadata": {},
   "source": [
    "# PSS\n",
    "\n",
    "PSS(Parameter-Space Saliency)は，Deep Learningモデルの顕著性(Saliency)を可視化する手法の一つである．\n",
    "\n",
    "誤分類に影響したパラメータ(Weight)を分析するアプローチで，影響の大きいパラメータを補正することでDeep Learningモデルの性能を改善できることが示された．"
   ]
  },
  {
   "cell_type": "markdown",
   "metadata": {},
   "source": [
    "## 参考文献\n",
    "\n",
    "* 論文\n",
    "  * https://arxiv.org/abs/2108.01335\n",
    "* GitHub\n",
    "  * https://github.com/LevinRoman/parameter-space-saliency\n",
    "* 解説資料：DL輪読会\n",
    "  * https://www.slideshare.net/DeepLearningJP2016/dlwhere-do-models-go-wrong-parameterspace-saliency-maps-for-explainability"
   ]
  },
  {
   "cell_type": "markdown",
   "metadata": {},
   "source": [
    "## PSS効果例\n",
    "\n",
    "論文ではGrad-CAMとの比較が示されている．  \n",
    "下図のようにPSSではGrad-CAMでは表現されない可視化要因を表現することができる(右2枚，ユキヒメドリ(junco)及び旅客列車(passenger car))．\n",
    "\n",
    "![paper figure19](./figure/PSS/paper_figure19.png)"
   ]
  },
  {
   "cell_type": "markdown",
   "metadata": {},
   "source": [
    "## PSS理論解説\n",
    "\n",
    "[PSS論文](https://arxiv.org/abs/2108.01335)では，パラメータ顕著性(Parameter saliency)の計算方法の説明(2.1 Parameter saliency profile)とモデルの誤動作を入力空間へ可視化する方法の説明(2.2 Input-space saliency for visualizing how filters malfunction)の2部構成で述べられる．"
   ]
  },
  {
   "cell_type": "markdown",
   "metadata": {},
   "source": [
    "### Parameter saliency profile\n",
    "\n",
    "パラメータ顕著性は下記の3ステップで計算する．\n",
    "\n",
    "1. パラメータ毎の顕著性の計算\n",
    "1. フィルタ毎の顕著性への集約\n",
    "1. Validationデータによる標準化\n"
   ]
  },
  {
   "cell_type": "markdown",
   "metadata": {},
   "source": [
    "#### パラメータ毎の顕著性の計算\n",
    "\n",
    "入力$x$，正解ラベル$y$のValidationデータセット$D$，及び，損失関数$\\mathcal{L}$で最小化したパラメータ$\\theta$を持つ識別モデルを仮定する．\n",
    "\n",
    "パラメータ毎の顕著性は，損失関数を識別モデルの各パラメータで偏微分して得られる勾配の大きさで定義する．  \n",
    "インデックス$i$のパラメータを$\\theta_i$で表すと，パラメータ毎の顕著性$s(x, y)_i$は以下のように定義される．\n",
    "\n",
    "$$\n",
    "  \\begin{align}\n",
    "    s(x, y)_i &:= |\\nabla_{\\theta_i}\\mathcal{L}_\\theta (x, y)|\n",
    "  \\end{align}\n",
    "$$\n"
   ]
  },
  {
   "cell_type": "markdown",
   "metadata": {},
   "source": [
    "#### フィルタ毎の顕著性への集約 \n",
    "\n",
    "畳み込みフィルタはエッジ(Edge)，形状(Shape)，質感(Texture)を検出する性質があることで知られている．\n",
    "\n",
    "顕著性$s(x, y)_i$をフィルタ毎に集約することにより，損失が最も敏感なフィルタを分離することが可能となる．つまり，分離されたフィルタを修正することによって，損失をより大きく減少させることが期待できる．\n",
    "\n",
    "識別モデルの一つのフィルタを$\\mathcal{F}_k$，フィルタ$\\mathcal{F}_k$に属するパラメータのインデックス群(例えば，フィルタサイズが$3x3$の場合は，要素数9のインデックスベクトル)を$\\alpha_k$で示す．フィルタ毎の顕著性$\\bar{s}(x, y)_k$は，パラメータ毎の顕著性をフィルタ単位で平均を求めるものとして，下記のように定義される．\n",
    "\n",
    "$$\n",
    "  \\begin{align}\n",
    "    \\bar{s}(x, y)_k &:= \\frac{1}{|\\alpha_k|}\\sum_{i \\in \\alpha_k}s(x, y)_i\n",
    "  \\end{align}\n",
    "$$\n",
    "\n"
   ]
  },
  {
   "cell_type": "markdown",
   "metadata": {},
   "source": [
    "#### Validationデータによる標準化\n",
    "\n",
    "下図(論文Figure1)の上図は，ResNet-50で層毎の顕著性を，ImageNetのValidationデータセットに対して平均値を算出し，層毎に顕著性降順にソートしたグラフである．\n",
    "\n",
    "![paper figure1](./figure/PSS/paper_figure1.png)\n",
    "\n",
    "勾配のスケールが入力層から出力層の間で異なっていることが明らかである(入力層の顕著性が大きく，出力層に向かうにつれて小さくなる)．これにはいくつかの要因がある．\n",
    "\n",
    "1. 入力層に近いフィルタは，エッジ(Edge)や質感(Texture)等，幅広い画像に対して有効な特徴量を抽出する性質を持つ．\n",
    "  * つまり，タスクに特化したフィルタではない為，出力層のフィルタと比較した際に相対的に損失が大きくなる\n",
    "1. 一般的にネットワークを構成する際は入力層に近いほどフィルタ数が少なくなるように設計する．層あたりのフィルタ数が少ないと，各フィルタが及ぼす影響力が相対的に大きくなる．\n",
    "1. 入力層に近いフィルタの効果は，後続のネットワークへ継承される．\n",
    "  * つまり，出力層に向かうにつれて入力層側のフィルタで獲得した特徴量を破壊しないように影響度が小さくなる\n",
    "  \n",
    "そこで，スケールをフィルタ間で合わせるために，フィルタ毎にValidationデータセットで標準化する．フィルタ$k$の標準化顕著性$\\hat{s}(x, y)_k$は下記のように定義される．\n",
    "\n",
    "$$\n",
    "  \\begin{align}\n",
    "    \\hat{s}(x, y)_k &:= \\frac{|\\bar{s}(x, y)_k - \\mu_k|}{\\sigma_k}\n",
    "  \\end{align}\n",
    "$$\n",
    "\n",
    "これを一般化すると，\n",
    "\n",
    "$$\n",
    "  \\begin{align}\n",
    "    \\hat{s}(x, y) &:= \\frac{|\\bar{s}(x, y) - \\mu|}{\\sigma}\n",
    "  \\end{align}\n",
    "$$\n",
    "\n",
    "となり，畳み込みフィルタ数長のテンソルが$\\hat{s}(x, y)$として得られる．\n"
   ]
  },
  {
   "cell_type": "markdown",
   "metadata": {},
   "source": [
    "### Input-space saliency for visualizing how filters malfunction\n",
    "\n",
    "T.B.D"
   ]
  },
  {
   "cell_type": "markdown",
   "metadata": {},
   "source": [
    "## PSS動作確認"
   ]
  },
  {
   "cell_type": "code",
   "execution_count": 1,
   "metadata": {},
   "outputs": [],
   "source": [
    "import os"
   ]
  },
  {
   "cell_type": "code",
   "execution_count": 2,
   "metadata": {},
   "outputs": [
    {
     "name": "stdout",
     "output_type": "stream",
     "text": [
      "Cloning into 'parameter-space-saliency'...\n",
      "remote: Enumerating objects: 143, done.\u001b[K\n",
      "remote: Counting objects: 100% (143/143), done.\u001b[K\n",
      "remote: Compressing objects: 100% (116/116), done.\u001b[K\n",
      "remote: Total 143 (delta 61), reused 92 (delta 24), pack-reused 0\u001b[K\n",
      "Receiving objects: 100% (143/143), 4.68 MiB | 10.51 MiB/s, done.\n",
      "Resolving deltas: 100% (61/61), done.\n"
     ]
    }
   ],
   "source": [
    "if (not os.path.exists(\"parameter-space-saliency\")):\n",
    "    !git clone https://github.com/LevinRoman/parameter-space-saliency"
   ]
  },
  {
   "cell_type": "code",
   "execution_count": 3,
   "metadata": {},
   "outputs": [
    {
     "name": "stdout",
     "output_type": "stream",
     "text": [
      "Requirement already satisfied: click in /usr/local/lib/python3.6/dist-packages (from -r requirements.txt (line 1)) (8.0.3)\n",
      "Requirement already satisfied: matplotlib in /usr/local/lib/python3.6/dist-packages (from -r requirements.txt (line 2)) (3.3.4)\n",
      "Requirement already satisfied: numpy in /usr/local/lib/python3.6/dist-packages (from -r requirements.txt (line 3)) (1.19.5)\n",
      "Requirement already satisfied: opencv-python==4.5.1.48 in /usr/local/lib/python3.6/dist-packages (from -r requirements.txt (line 4)) (4.5.1.48)\n",
      "Requirement already satisfied: pandas in /usr/local/lib/python3.6/dist-packages (from -r requirements.txt (line 5)) (1.1.5)\n",
      "Requirement already satisfied: pathy==0.4.0 in /usr/local/lib/python3.6/dist-packages (from -r requirements.txt (line 6)) (0.4.0)\n",
      "Requirement already satisfied: PyYAML==5.4.1 in /usr/local/lib/python3.6/dist-packages (from -r requirements.txt (line 7)) (5.4.1)\n",
      "Requirement already satisfied: scikit-learn in /usr/local/lib/python3.6/dist-packages (from -r requirements.txt (line 8)) (0.24.2)\n",
      "Requirement already satisfied: scipy in /usr/local/lib/python3.6/dist-packages (from -r requirements.txt (line 9)) (1.5.4)\n",
      "Requirement already satisfied: seaborn in /usr/local/lib/python3.6/dist-packages (from -r requirements.txt (line 10)) (0.11.2)\n",
      "Requirement already satisfied: torch==1.7.1 in /usr/local/lib/python3.6/dist-packages (from -r requirements.txt (line 11)) (1.7.1)\n",
      "Requirement already satisfied: torchvision==0.8.2 in /usr/local/lib/python3.6/dist-packages (from -r requirements.txt (line 12)) (0.8.2)\n",
      "Requirement already satisfied: tqdm in /usr/local/lib/python3.6/dist-packages (from -r requirements.txt (line 13)) (4.62.3)\n",
      "Requirement already satisfied: urllib3==1.26.3 in /usr/local/lib/python3.6/dist-packages (from -r requirements.txt (line 14)) (1.26.3)\n",
      "Requirement already satisfied: importlib-metadata; python_version < \"3.8\" in /usr/local/lib/python3.6/dist-packages (from click->-r requirements.txt (line 1)) (4.0.1)\n",
      "Requirement already satisfied: pyparsing!=2.0.4,!=2.1.2,!=2.1.6,>=2.0.3 in /usr/local/lib/python3.6/dist-packages (from matplotlib->-r requirements.txt (line 2)) (2.4.7)\n",
      "Requirement already satisfied: python-dateutil>=2.1 in /usr/local/lib/python3.6/dist-packages (from matplotlib->-r requirements.txt (line 2)) (2.8.1)\n",
      "Requirement already satisfied: kiwisolver>=1.0.1 in /usr/local/lib/python3.6/dist-packages (from matplotlib->-r requirements.txt (line 2)) (1.3.1)\n",
      "Requirement already satisfied: pillow>=6.2.0 in /usr/local/lib/python3.6/dist-packages (from matplotlib->-r requirements.txt (line 2)) (8.2.0)\n",
      "Requirement already satisfied: cycler>=0.10 in /usr/local/lib/python3.6/dist-packages (from matplotlib->-r requirements.txt (line 2)) (0.10.0)\n",
      "Requirement already satisfied: pytz>=2017.2 in /usr/local/lib/python3.6/dist-packages (from pandas->-r requirements.txt (line 5)) (2021.3)\n",
      "Requirement already satisfied: smart-open<4.0.0,>=2.2.0 in /usr/local/lib/python3.6/dist-packages (from pathy==0.4.0->-r requirements.txt (line 6)) (3.0.0)\n",
      "Requirement already satisfied: dataclasses<1.0,>=0.6; python_version < \"3.7\" in /usr/local/lib/python3.6/dist-packages (from pathy==0.4.0->-r requirements.txt (line 6)) (0.8)\n",
      "Requirement already satisfied: typer<1.0.0,>=0.3.0 in /usr/local/lib/python3.6/dist-packages (from pathy==0.4.0->-r requirements.txt (line 6)) (0.4.0)\n",
      "Requirement already satisfied: joblib>=0.11 in /usr/local/lib/python3.6/dist-packages (from scikit-learn->-r requirements.txt (line 8)) (1.1.0)\n",
      "Requirement already satisfied: threadpoolctl>=2.0.0 in /usr/local/lib/python3.6/dist-packages (from scikit-learn->-r requirements.txt (line 8)) (3.1.0)\n",
      "Requirement already satisfied: typing-extensions in /usr/local/lib/python3.6/dist-packages (from torch==1.7.1->-r requirements.txt (line 11)) (3.7.4.3)\n",
      "Requirement already satisfied: zipp>=0.5 in /usr/local/lib/python3.6/dist-packages (from importlib-metadata; python_version < \"3.8\"->click->-r requirements.txt (line 1)) (3.4.1)\n",
      "Requirement already satisfied: six>=1.5 in /usr/local/lib/python3.6/dist-packages (from python-dateutil>=2.1->matplotlib->-r requirements.txt (line 2)) (1.15.0)\n",
      "Requirement already satisfied: requests in /usr/local/lib/python3.6/dist-packages (from smart-open<4.0.0,>=2.2.0->pathy==0.4.0->-r requirements.txt (line 6)) (2.25.1)\n",
      "Requirement already satisfied: certifi>=2017.4.17 in /usr/local/lib/python3.6/dist-packages (from requests->smart-open<4.0.0,>=2.2.0->pathy==0.4.0->-r requirements.txt (line 6)) (2020.12.5)\n",
      "Requirement already satisfied: chardet<5,>=3.0.2 in /usr/local/lib/python3.6/dist-packages (from requests->smart-open<4.0.0,>=2.2.0->pathy==0.4.0->-r requirements.txt (line 6)) (4.0.0)\n",
      "Requirement already satisfied: idna<3,>=2.5 in /usr/lib/python3/dist-packages (from requests->smart-open<4.0.0,>=2.2.0->pathy==0.4.0->-r requirements.txt (line 6)) (2.6)\n",
      "\u001b[33mWARNING: You are using pip version 20.2.4; however, version 21.3.1 is available.\n",
      "You should consider upgrading via the '/usr/bin/python3 -m pip install --upgrade pip' command.\u001b[0m\n"
     ]
    }
   ],
   "source": [
    "!cd parameter-space-saliency ; pip install -r requirements.txt"
   ]
  },
  {
   "cell_type": "code",
   "execution_count": 4,
   "metadata": {},
   "outputs": [
    {
     "name": "stdout",
     "output_type": "stream",
     "text": [
      "==> Preparing data..\n",
      "\n",
      "               ImageNet validation set path is not specified.\n",
      "               The code will only work with raw --image_path and --image_target_label specified.\n",
      "               In this scenario, --reference_id must be None.\n",
      "              \n",
      "parameter_and_input_saliency.py:241: YAMLLoadWarning: calling yaml.load() without Loader=... is deprecated, as the default Loader is unsafe. Please read https://msg.pyyaml.org/load for full details.\n",
      "  readable_labels = yaml.load(readable_labels)\n",
      "==> Building model..\n",
      "Total filters: 26560\n",
      "Total layers: 53\n",
      "\n",
      "\n",
      "        Using image raw_images/great_white_shark_mispred_as_killer_whale.jpeg\n",
      "        and target label 2\n",
      "\n",
      "        \n",
      "\n",
      "\n",
      "        Image target label: 2\n",
      "        Image target class name: great white shark, white shark, man-eater, man-eating shark, Carcharodon carcharias\n",
      "        Image predicted label: 148\n",
      "        Image predicted class name: killer whale, killer, orca, grampus, sea wolf, Orcinus orca\n",
      "\n",
      "        \n",
      "Input space saliency saved to figures/input_space_saliency/input_saliency_heatmap_great_white_shark_mispred_as_killer_whale_resnet50.png \n",
      "\n",
      "Filter saliency saved to figures/filter_saliency_great_white_shark_mispred_as_killer_whale_resnet50.png\n"
     ]
    }
   ],
   "source": [
    "!cd parameter-space-saliency ; python parameter_and_input_saliency.py --model resnet50 --image_path raw_images/great_white_shark_mispred_as_killer_whale.jpeg --image_target_label 2"
   ]
  },
  {
   "cell_type": "code",
   "execution_count": 5,
   "metadata": {},
   "outputs": [
    {
     "name": "stdout",
     "output_type": "stream",
     "text": [
      "filter_saliency_107_densenet121.png\r\n",
      "filter_saliency_107_inception_v3.png\r\n",
      "filter_saliency_107_resnet50.png\r\n",
      "filter_saliency_107_vgg19.png\r\n",
      "filter_saliency_great_white_shark_mispred_as_killer_whale_resnet50.png\r\n",
      "input_space_saliency\r\n"
     ]
    }
   ],
   "source": [
    "!ls parameter-space-saliency/figures"
   ]
  },
  {
   "cell_type": "code",
   "execution_count": 6,
   "metadata": {
    "scrolled": true
   },
   "outputs": [
    {
     "name": "stdout",
     "output_type": "stream",
     "text": [
      "input_saliency_heatmap_107_densenet121.png\r\n",
      "input_saliency_heatmap_107_inception_v3.png\r\n",
      "input_saliency_heatmap_107_resnet50.png\r\n",
      "input_saliency_heatmap_107_vgg19.png\r\n",
      "input_saliency_heatmap_great_white_shark_mispred_as_killer_whale_resnet50.png\r\n"
     ]
    }
   ],
   "source": [
    "!ls parameter-space-saliency/figures/input_space_saliency"
   ]
  },
  {
   "cell_type": "markdown",
   "metadata": {},
   "source": [
    "### 実行結果"
   ]
  },
  {
   "cell_type": "markdown",
   "metadata": {},
   "source": [
    "#### DenseNet 121\n",
    "\n",
    "##### Filter Saliency\n",
    "\n",
    "![DenseNet Filter Saliency](parameter-space-saliency/figures/filter_saliency_107_densenet121.png)\n",
    "\n",
    "##### Input Saliency Heatmap\n",
    "\n",
    "![DenseNet Heatmap](parameter-space-saliency/figures/input_space_saliency/input_saliency_heatmap_107_densenet121.png)"
   ]
  },
  {
   "cell_type": "markdown",
   "metadata": {},
   "source": [
    "#### Inception v3\n",
    "\n",
    "##### Filter Saliency\n",
    "\n",
    "![Inception v3 Filter Saliency](parameter-space-saliency/figures/filter_saliency_107_inception_v3.png)\n",
    "\n",
    "##### Input Saliency Heatmap\n",
    "\n",
    "![Inception V3 Heatmap](parameter-space-saliency/figures/input_space_saliency/input_saliency_heatmap_107_inception_v3.png)"
   ]
  },
  {
   "cell_type": "markdown",
   "metadata": {},
   "source": [
    "#### ResNet50\n",
    "\n",
    "##### Filter Saliency\n",
    "\n",
    "![ResNet50 Filter Saliency](parameter-space-saliency/figures/filter_saliency_107_resnet50.png)\n",
    "\n",
    "##### Input Saliency Heatmap\n",
    "\n",
    "![ResNet50 Heatmap](parameter-space-saliency/figures/input_space_saliency/input_saliency_heatmap_107_resnet50.png)"
   ]
  },
  {
   "cell_type": "markdown",
   "metadata": {},
   "source": [
    "#### ResNet50\n",
    "\n",
    "##### Filter Saliency\n",
    "\n",
    "![VGG19 Filter Saliency](parameter-space-saliency/figures/filter_saliency_107_vgg19.png)\n",
    "\n",
    "##### Input Saliency Heatmap\n",
    "\n",
    "![VGG19 Heatmap](parameter-space-saliency/figures/input_space_saliency/input_saliency_heatmap_107_vgg19.png)"
   ]
  }
 ],
 "metadata": {
  "kernelspec": {
   "display_name": "Python 3",
   "language": "python",
   "name": "python3"
  },
  "language_info": {
   "codemirror_mode": {
    "name": "ipython",
    "version": 3
   },
   "file_extension": ".py",
   "mimetype": "text/x-python",
   "name": "python",
   "nbconvert_exporter": "python",
   "pygments_lexer": "ipython3",
   "version": "3.6.9"
  }
 },
 "nbformat": 4,
 "nbformat_minor": 2
}
